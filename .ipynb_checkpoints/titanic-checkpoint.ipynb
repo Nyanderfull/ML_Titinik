{
 "cells": [
  {
   "cell_type": "markdown",
   "id": "61e763d0-d847-409c-9734-8f81332cc015",
   "metadata": {
    "tags": []
   },
   "source": [
    "# Titanic dataset\n",
    "## Introduction\n",
    "\n",
    "Dataset yang digunakan merupakan data yang terkumpul dari penumpang kapal Titanic yang tenggelam pada tahun 1912 karena bertabrakan dengan gunung es. Ada beberapa variabel yang perlu dijelaskan dalam dataset tersebut:\n",
    "\n",
    "##### Survived\n",
    "Kondisi penumpang tersebut pasca-tabrakan (0=mati, 1=hidup)\n",
    "##### Pclass\n",
    "Kelas dari penumpang tersebut\n",
    "##### SibSp\n",
    "Jumlah saudara atau pasangan di kapal\n",
    "##### Parch\n",
    "Jumlah orang tua atau anak di kapal\n",
    "##### Embarked\n",
    "Pelabuhan penumpang tersebut naik (Cherbourg, Queenstown, Southampton)\n",
    "\n",
    "* Name, Sex, Age, Ticket, dan Fare sudah intuitif\n",
    "\n",
    "Tujuan dari model ini adalah menggunakan machine learning untuk mencari pola dari penumpang yang berhasil bertahan hidup setelah kapal karam dengan cara classification menggunakan Logistic Regression."
   ]
  },
  {
   "cell_type": "code",
   "execution_count": null,
   "id": "397f213f-472b-43f5-b236-93f318e8b339",
   "metadata": {
    "tags": []
   },
   "outputs": [],
   "source": [
    "# imports\n",
    "# essentials\n",
    "import pandas as pd\n",
    "import numpy as np\n",
    "from matplotlib.pyplot import subplots\n",
    "import seaborn as sns\n",
    "# models\n",
    "import statsmodels.api as sm\n",
    "from sklearn.linear_model import LogisticRegression\n",
    "from sklearn.discriminant_analysis import LinearDiscriminantAnalysis as LDA\n",
    "from sklearn.discriminant_analysis import QuadraticDiscriminantAnalysis as QDA\n",
    "from sklearn.naive_bayes import GaussianNB\n",
    "from sklearn.metrics import accuracy_score\n",
    "# dataset split\n",
    "from sklearn.model_selection import train_test_split"
   ]
  },
  {
   "cell_type": "markdown",
   "id": "0c0fcf76-63b6-4472-a296-efcd6721021b",
   "metadata": {},
   "source": [
    "## Data cleaning and preprocessing"
   ]
  },
  {
   "cell_type": "code",
   "execution_count": null,
   "id": "2b989fa6-6774-4bf4-b3d8-5d4408c54851",
   "metadata": {
    "tags": []
   },
   "outputs": [],
   "source": [
    "# pengecekan data\n",
    "data = pd.read_csv('titanic.csv')\n",
    "data.info()"
   ]
  },
  {
   "cell_type": "code",
   "execution_count": null,
   "id": "6487fb79-9cba-4a6e-ae6f-454bbf29e862",
   "metadata": {
    "tags": []
   },
   "outputs": [],
   "source": [
    "data.describe()"
   ]
  },
  {
   "cell_type": "code",
   "execution_count": null,
   "id": "f3a849cb-c1b8-487c-b5ac-ec84792a1e45",
   "metadata": {
    "tags": []
   },
   "outputs": [],
   "source": [
    "# banyak data yang kosong di Age dan Cabin\n",
    "# ada 2 penumpang tanpa pelabuhan yang tercatat\n",
    "# sekitar 38.4% penumpang bertahan hidup\n",
    "# umur penumpang berada diantara 0.4 dan 80\n",
    "# Sex, Ticket, Cabin, dan Embarked sebaiknya diubah menjadi value numerik supaya dapat dipakai"
   ]
  },
  {
   "cell_type": "code",
   "execution_count": null,
   "id": "110857e1-46a6-414a-8e0b-e435f8261220",
   "metadata": {
    "tags": []
   },
   "outputs": [],
   "source": [
    "data.head(10)"
   ]
  },
  {
   "cell_type": "markdown",
   "id": "69c1c93d-1017-466a-b962-427aaa4efc0b",
   "metadata": {},
   "source": [
    "### Age cleaning"
   ]
  },
  {
   "cell_type": "code",
   "execution_count": null,
   "id": "011ffb1e-a200-4757-95cc-4a8d87a0e837",
   "metadata": {},
   "outputs": [],
   "source": [
    "data['Age'].describe()"
   ]
  },
  {
   "cell_type": "code",
   "execution_count": null,
   "id": "2e8da5ae-0abc-4b94-87de-5af0629278c5",
   "metadata": {
    "tags": []
   },
   "outputs": [],
   "source": [
    "# mencari outlier\n",
    "sns.boxplot(data['Age'])"
   ]
  },
  {
   "cell_type": "code",
   "execution_count": null,
   "id": "d78274a6-7ee7-49b8-a382-60aa7850c0d5",
   "metadata": {
    "tags": []
   },
   "outputs": [],
   "source": [
    "data.loc[np.where(data['Age']>65)]['Age']"
   ]
  },
  {
   "cell_type": "code",
   "execution_count": null,
   "id": "b631166b-73e3-42e6-8ae0-6ceb440e73cf",
   "metadata": {
    "tags": []
   },
   "outputs": [],
   "source": [
    "# mencari distribusi\n",
    "sns.histplot(data['Age'])"
   ]
  },
  {
   "cell_type": "code",
   "execution_count": null,
   "id": "3772687d-2ab4-434e-8ff8-f744bb04ad35",
   "metadata": {
    "tags": []
   },
   "outputs": [],
   "source": [
    "# karena terdapat beberapa outlier dan data agak miring kita gunakan median untuk mengisi kekosongan\n",
    "median = data['Age'].median()\n",
    "data['Age'] = data['Age'].fillna(median).astype(int)\n",
    "data['Age'].isna().sum()"
   ]
  },
  {
   "cell_type": "markdown",
   "id": "fcc7fbe1-e924-4dfa-aa66-f818e4278928",
   "metadata": {
    "tags": []
   },
   "source": [
    "### Embarked cleaning"
   ]
  },
  {
   "cell_type": "code",
   "execution_count": null,
   "id": "19d6fb2c-6485-455d-97aa-a47d60a71398",
   "metadata": {
    "tags": []
   },
   "outputs": [],
   "source": [
    "# Hanya ada 2 value yang hilang jadi bisa diisi dengan data yang paling banyak muncul\n",
    "data['Embarked'].describe()"
   ]
  },
  {
   "cell_type": "code",
   "execution_count": null,
   "id": "8773a6bb-c8bb-4e01-b835-8fa40adc5ba1",
   "metadata": {
    "tags": []
   },
   "outputs": [],
   "source": [
    "# paling banyak adalah S\n",
    "data['Embarked'] = data['Embarked'].fillna('S')\n",
    "data['Embarked'].isna().sum()"
   ]
  },
  {
   "cell_type": "markdown",
   "id": "c36d4ad2-4b50-4bbc-905c-b5f449320bed",
   "metadata": {},
   "source": [
    "### Cabin cleaning"
   ]
  },
  {
   "cell_type": "code",
   "execution_count": null,
   "id": "411afa17-9dc3-4238-95ab-32717b12fd90",
   "metadata": {
    "tags": []
   },
   "outputs": [],
   "source": [
    "data['Cabin'].describe()"
   ]
  },
  {
   "cell_type": "code",
   "execution_count": null,
   "id": "a7efc0be-21d6-4771-ac53-6eb0d1b462ed",
   "metadata": {
    "tags": []
   },
   "outputs": [],
   "source": [
    "# 204 dari 891 ada isinya\n",
    "# terlalu sedikit, lebih baik di drop saja\n",
    "data = data.drop(columns=['Cabin'])\n",
    "data.info()"
   ]
  },
  {
   "cell_type": "markdown",
   "id": "f35f71e0-181f-47b2-b85d-b11789e7fe22",
   "metadata": {},
   "source": [
    "### Preprocessing lainnya\n",
    "- Beberapa variabel seperti Sex dan Embarked sebaiknya diubah menjadi nilai numerik\n",
    "- PassengerId, Name, dan Ticket tidak penting maka dapat didrop\n",
    "- Fare dan Age dapat dikategorikan\n",
    "- SibSp dan Parch dapat digabungkan menjadi Fam (jumlah anggota keluarga)"
   ]
  },
  {
   "cell_type": "code",
   "execution_count": null,
   "id": "781bf5da-f280-4ba8-adf1-725cbf8da2bb",
   "metadata": {
    "tags": []
   },
   "outputs": [],
   "source": [
    "# mengubah Sex\n",
    "sex = {'male':0, 'female':1}\n",
    "data['Sex'] = data['Sex'].map(sex)\n",
    "data['Sex'].describe()"
   ]
  },
  {
   "cell_type": "code",
   "execution_count": null,
   "id": "3ff69418-7c0f-4057-9f91-6118fb154dd5",
   "metadata": {
    "tags": []
   },
   "outputs": [],
   "source": [
    "# mengubah Embarked\n",
    "emb = {'S':0, 'C':1, 'Q':2}\n",
    "data['Embarked'] = data['Embarked'].map(emb)\n",
    "data['Embarked'].describe()"
   ]
  },
  {
   "cell_type": "code",
   "execution_count": null,
   "id": "525a7b8a-5d01-4305-98cd-068a06e53155",
   "metadata": {
    "tags": []
   },
   "outputs": [],
   "source": [
    "data = data.drop(columns=['PassengerId','Name', 'Ticket'])\n",
    "data.info()"
   ]
  },
  {
   "cell_type": "code",
   "execution_count": null,
   "id": "cb7e6e8f-a4c0-43d0-b315-bda9eb7ae9e9",
   "metadata": {
    "tags": []
   },
   "outputs": [],
   "source": [
    "# pengategorian Age\n",
    "data.loc[ data['Age']<=10, 'Age'] = 0\n",
    "data.loc[(data['Age']>10) & (data['Age']<=18), 'Age'] = 1\n",
    "data.loc[(data['Age']>18) & (data['Age']<=27), 'Age'] = 2\n",
    "data.loc[(data['Age']>27) & (data['Age']<=35), 'Age'] = 3\n",
    "data.loc[(data['Age']>35) & (data['Age']<=50), 'Age'] = 4\n",
    "data.loc[ data['Age']>50, 'Age'] = 5\n",
    "data['Age'].value_counts()"
   ]
  },
  {
   "cell_type": "code",
   "execution_count": null,
   "id": "4af2a4b7-261c-4e24-a1e1-6c5f4668febb",
   "metadata": {
    "tags": []
   },
   "outputs": [],
   "source": [
    "# pengategorian Fare\n",
    "data.loc[ data['Fare']<=8, 'Fare'] = 0\n",
    "data.loc[(data['Fare']>8) & (data['Fare']<=12), 'Fare'] = 1\n",
    "data.loc[(data['Fare']>12) & (data['Fare']<=25), 'Fare'] = 2\n",
    "data.loc[(data['Fare']>25) & (data['Fare']<=50), 'Fare'] = 3\n",
    "data.loc[(data['Fare']>50) & (data['Fare']<=100), 'Fare'] = 4\n",
    "data.loc[ data['Fare']>100, 'Fare'] = 5\n",
    "data['Fare'] = data['Fare'].astype(int)\n",
    "data['Fare'].value_counts()"
   ]
  },
  {
   "cell_type": "code",
   "execution_count": null,
   "id": "71e446ae-27f4-4346-81c8-ee7104e2bb22",
   "metadata": {
    "tags": []
   },
   "outputs": [],
   "source": [
    "# Penggabungan SibSp dan Parch\n",
    "data['Fam'] = data['SibSp']+data['Parch']\n",
    "data = data.drop(columns=['SibSp','Parch'])\n",
    "data['Fam'].describe()"
   ]
  },
  {
   "cell_type": "code",
   "execution_count": null,
   "id": "b18dd142-c8f4-4b1e-8851-20624b3004ea",
   "metadata": {
    "tags": []
   },
   "outputs": [],
   "source": [
    "# hasil setelah preprocessing\n",
    "data.head()"
   ]
  },
  {
   "cell_type": "markdown",
   "id": "6fbccf27-a621-4b9f-b334-95a8ebff2233",
   "metadata": {},
   "source": [
    "## Algoritma Machine Learning"
   ]
  },
  {
   "cell_type": "code",
   "execution_count": null,
   "id": "c79c41d0-d1fc-46b8-b228-ef83c945af70",
   "metadata": {},
   "outputs": [],
   "source": [
    "# split dataset untuk testing dan training\n",
    "X = data.loc[:, ['Pclass', 'Sex', 'Age', 'SibSp', 'Parch', 'Fare', 'Embarked', 'Fam']]\n",
    "y = data.loc[:, ['Survived']]\n",
    "X_train, X_test, y_train, y_test = train_test_split(X, y, test_size =0.2, shuffle=True)"
   ]
  },
  {
   "cell_type": "markdown",
   "id": "cb4e3b31-7741-428d-bdb4-f11ffe8f3c0d",
   "metadata": {
    "tags": []
   },
   "source": [
    "### Statsmodels Logistic Regression"
   ]
  },
  {
   "cell_type": "code",
   "execution_count": null,
   "id": "41f6a1b8-e27d-45e4-a4bb-95d73fc03b36",
   "metadata": {
    "tags": []
   },
   "outputs": [],
   "source": [
    "logreg = sm.Logit(y_train, X_train).fit()"
   ]
  },
  {
   "cell_type": "code",
   "execution_count": null,
   "id": "3da63c2f-39b3-4e7b-8539-a8fffcd966af",
   "metadata": {
    "tags": []
   },
   "outputs": [],
   "source": [
    "logreg.summary()"
   ]
  },
  {
   "cell_type": "code",
   "execution_count": null,
   "id": "0cd9e097-2ab4-4ee2-b8e9-5986c9580831",
   "metadata": {
    "tags": []
   },
   "outputs": [],
   "source": [
    "logreg.params"
   ]
  },
  {
   "cell_type": "code",
   "execution_count": null,
   "id": "1a1713ab-c6e5-4128-89f0-206be14b7043",
   "metadata": {
    "tags": []
   },
   "outputs": [],
   "source": [
    "logreg.pvalues"
   ]
  },
  {
   "cell_type": "code",
   "execution_count": null,
   "id": "68968c04-fe08-46a0-ae2b-eecf3ef17c1f",
   "metadata": {
    "tags": []
   },
   "outputs": [],
   "source": [
    "np.sqrt(np.diag(logreg.cov_params()))"
   ]
  },
  {
   "cell_type": "markdown",
   "id": "fad72556-22a9-4772-bd49-c66d3dd852a7",
   "metadata": {},
   "source": [
    "### SciKit Models"
   ]
  },
  {
   "cell_type": "code",
   "execution_count": null,
   "id": "76edd0a5-187e-44d6-961d-2aee17187b00",
   "metadata": {
    "tags": []
   },
   "outputs": [],
   "source": [
    "logReg = LogisticRegression()\n",
    "logReg.fit(X_train, y_train.values.ravel())\n",
    "y_pred = logReg.predict(X_test)\n",
    "acc_sco = round(accuracy_score(y_test, y_pred)*100, 2)\n",
    "acc_log = round(logReg.score(X_train, y_train)*100, 2)\n",
    "print(acc_sco,'%')\n",
    "print(acc_log,'%')\n",
    "logReg.coef_"
   ]
  },
  {
   "cell_type": "code",
   "execution_count": null,
   "id": "fbe75fe6-5259-4d96-ae0f-839f7d5ac61e",
   "metadata": {
    "tags": []
   },
   "outputs": [],
   "source": [
    "lda = LDA()\n",
    "lda.fit(X_train, y_train.values.ravel())\n",
    "y_pred = lda.predict(X_test)\n",
    "acc_sco = round(accuracy_score(y_test, y_pred)*100, 2)\n",
    "acc_log = round(lda.score(X_train, y_train)*100, 2)\n",
    "print(acc_sco,'%')\n",
    "print(acc_log,'%')"
   ]
  },
  {
   "cell_type": "code",
   "execution_count": null,
   "id": "5e3ba3ce-bbba-405e-8f1a-01c44d543b66",
   "metadata": {
    "tags": []
   },
   "outputs": [],
   "source": [
    "qda = QDA()\n",
    "qda.fit(X_train, y_train.values.ravel())\n",
    "y_pred = qda.predict(X_test)\n",
    "acc_sco = round(accuracy_score(y_test, y_pred)*100, 2)\n",
    "acc_log = round(qda.score(X_train, y_train)*100, 2)\n",
    "print(acc_sco,'%')\n",
    "print(acc_log,'%')"
   ]
  },
  {
   "cell_type": "code",
   "execution_count": null,
   "id": "db13c167-0479-4df3-80e8-b7d51cf790e7",
   "metadata": {
    "tags": []
   },
   "outputs": [],
   "source": [
    "naBa = GaussianNB()\n",
    "naBa.fit(X_train, y_train.values.ravel())\n",
    "y_pred = naBa.predict(X_test)\n",
    "acc_sco = round(accuracy_score(y_test, y_pred)*100, 2)\n",
    "acc_log = round(naBa.score(X_train, y_train)*100, 2)\n",
    "print(acc_sco,'%')\n",
    "print(acc_log,'%')"
   ]
  },
  {
   "cell_type": "code",
   "execution_count": null,
   "id": "c07cb887-9ee4-4ff9-9749-0bf1dcadfeca",
   "metadata": {},
   "outputs": [],
   "source": []
  }
 ],
 "metadata": {
  "kernelspec": {
   "display_name": "Python 3 (ipykernel)",
   "language": "python",
   "name": "python3"
  },
  "language_info": {
   "codemirror_mode": {
    "name": "ipython",
    "version": 3
   },
   "file_extension": ".py",
   "mimetype": "text/x-python",
   "name": "python",
   "nbconvert_exporter": "python",
   "pygments_lexer": "ipython3",
   "version": "3.11.4"
  }
 },
 "nbformat": 4,
 "nbformat_minor": 5
}
