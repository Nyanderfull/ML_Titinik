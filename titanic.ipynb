{
 "cells": [
  {
   "cell_type": "markdown",
   "id": "61e763d0-d847-409c-9734-8f81332cc015",
   "metadata": {
    "tags": []
   },
   "source": [
    "# Titanic dataset\n",
    "## Introduction\n",
    "\n",
    "Dataset yang digunakan merupakan data yang terkumpul dari penumpang kapal Titanic yang tenggelam pada tahun 1912 karena bertabrakan dengan gunung es. Ada beberapa variabel yang perlu dijelaskan dalam dataset tersebut:\n",
    "\n",
    "##### Survived\n",
    "Kondisi penumpang tersebut pasca-tabrakan (0=mati, 1=hidup)\n",
    "##### Pclass\n",
    "Kelas dari penumpang tersebut\n",
    "##### SibSp\n",
    "Jumlah saudara atau pasangan di kapal\n",
    "##### Parch\n",
    "Jumlah orang tua atau anak di kapal\n",
    "##### Embarked\n",
    "Pelabuhan penumpang tersebut naik (Cherbourg, Queenstown, Southampton)\n",
    "\n",
    "* Name, Sex, Age, Ticket, dan Fare sudah intuitif\n",
    "\n",
    "Tujuan dari model ini adalah menggunakan machine learning untuk mencari pola dari penumpang yang berhasil bertahan hidup setelah kapal karam dengan cara classification menggunakan Logistic Regression."
   ]
  },
  {
   "cell_type": "code",
   "execution_count": 608,
   "id": "397f213f-472b-43f5-b236-93f318e8b339",
   "metadata": {
    "tags": []
   },
   "outputs": [],
   "source": [
    "# imports\n",
    "# essentials\n",
    "import pandas as pd\n",
    "import numpy as np\n",
    "from matplotlib import pyplot as plt\n",
    "import seaborn as sns\n",
    "# models\n",
    "import statsmodels.api as sm\n",
    "from sklearn.linear_model import LogisticRegression\n",
    "from sklearn.discriminant_analysis import LinearDiscriminantAnalysis as LDA\n",
    "from sklearn.discriminant_analysis import QuadraticDiscriminantAnalysis as QDA\n",
    "from sklearn.ensemble import VotingClassifier as VC\n",
    "from sklearn.ensemble import BaggingClassifier as BC\n",
    "from sklearn.tree import DecisionTreeClassifier as DT\n",
    "from sklearn.ensemble import RandomForestClassifier as RFC\n",
    "from sklearn.naive_bayes import GaussianNB\n",
    "from sklearn.metrics import accuracy_score\n",
    "from sklearn.metrics import roc_curve\n",
    "# dataset split\n",
    "from sklearn.model_selection import train_test_split"
   ]
  },
  {
   "cell_type": "markdown",
   "id": "0c0fcf76-63b6-4472-a296-efcd6721021b",
   "metadata": {
    "jp-MarkdownHeadingCollapsed": true,
    "tags": []
   },
   "source": [
    "## Data cleaning and preprocessing"
   ]
  },
  {
   "cell_type": "code",
   "execution_count": 609,
   "id": "2b989fa6-6774-4bf4-b3d8-5d4408c54851",
   "metadata": {
    "tags": []
   },
   "outputs": [
    {
     "name": "stdout",
     "output_type": "stream",
     "text": [
      "<class 'pandas.core.frame.DataFrame'>\n",
      "RangeIndex: 891 entries, 0 to 890\n",
      "Data columns (total 12 columns):\n",
      " #   Column       Non-Null Count  Dtype  \n",
      "---  ------       --------------  -----  \n",
      " 0   PassengerId  891 non-null    int64  \n",
      " 1   Survived     891 non-null    int64  \n",
      " 2   Pclass       891 non-null    int64  \n",
      " 3   Name         891 non-null    object \n",
      " 4   Sex          891 non-null    object \n",
      " 5   Age          714 non-null    float64\n",
      " 6   SibSp        891 non-null    int64  \n",
      " 7   Parch        891 non-null    int64  \n",
      " 8   Ticket       891 non-null    object \n",
      " 9   Fare         891 non-null    float64\n",
      " 10  Cabin        204 non-null    object \n",
      " 11  Embarked     889 non-null    object \n",
      "dtypes: float64(2), int64(5), object(5)\n",
      "memory usage: 83.7+ KB\n"
     ]
    }
   ],
   "source": [
    "# pengecekan data\n",
    "data = pd.read_csv('titanic.csv')\n",
    "data.info()"
   ]
  },
  {
   "cell_type": "code",
   "execution_count": 610,
   "id": "6487fb79-9cba-4a6e-ae6f-454bbf29e862",
   "metadata": {
    "tags": []
   },
   "outputs": [
    {
     "data": {
      "text/html": [
       "<div>\n",
       "<style scoped>\n",
       "    .dataframe tbody tr th:only-of-type {\n",
       "        vertical-align: middle;\n",
       "    }\n",
       "\n",
       "    .dataframe tbody tr th {\n",
       "        vertical-align: top;\n",
       "    }\n",
       "\n",
       "    .dataframe thead th {\n",
       "        text-align: right;\n",
       "    }\n",
       "</style>\n",
       "<table border=\"1\" class=\"dataframe\">\n",
       "  <thead>\n",
       "    <tr style=\"text-align: right;\">\n",
       "      <th></th>\n",
       "      <th>PassengerId</th>\n",
       "      <th>Survived</th>\n",
       "      <th>Pclass</th>\n",
       "      <th>Age</th>\n",
       "      <th>SibSp</th>\n",
       "      <th>Parch</th>\n",
       "      <th>Fare</th>\n",
       "    </tr>\n",
       "  </thead>\n",
       "  <tbody>\n",
       "    <tr>\n",
       "      <th>count</th>\n",
       "      <td>891.000000</td>\n",
       "      <td>891.000000</td>\n",
       "      <td>891.000000</td>\n",
       "      <td>714.000000</td>\n",
       "      <td>891.000000</td>\n",
       "      <td>891.000000</td>\n",
       "      <td>891.000000</td>\n",
       "    </tr>\n",
       "    <tr>\n",
       "      <th>mean</th>\n",
       "      <td>446.000000</td>\n",
       "      <td>0.383838</td>\n",
       "      <td>2.308642</td>\n",
       "      <td>29.699118</td>\n",
       "      <td>0.523008</td>\n",
       "      <td>0.381594</td>\n",
       "      <td>32.204208</td>\n",
       "    </tr>\n",
       "    <tr>\n",
       "      <th>std</th>\n",
       "      <td>257.353842</td>\n",
       "      <td>0.486592</td>\n",
       "      <td>0.836071</td>\n",
       "      <td>14.526497</td>\n",
       "      <td>1.102743</td>\n",
       "      <td>0.806057</td>\n",
       "      <td>49.693429</td>\n",
       "    </tr>\n",
       "    <tr>\n",
       "      <th>min</th>\n",
       "      <td>1.000000</td>\n",
       "      <td>0.000000</td>\n",
       "      <td>1.000000</td>\n",
       "      <td>0.420000</td>\n",
       "      <td>0.000000</td>\n",
       "      <td>0.000000</td>\n",
       "      <td>0.000000</td>\n",
       "    </tr>\n",
       "    <tr>\n",
       "      <th>25%</th>\n",
       "      <td>223.500000</td>\n",
       "      <td>0.000000</td>\n",
       "      <td>2.000000</td>\n",
       "      <td>20.125000</td>\n",
       "      <td>0.000000</td>\n",
       "      <td>0.000000</td>\n",
       "      <td>7.910400</td>\n",
       "    </tr>\n",
       "    <tr>\n",
       "      <th>50%</th>\n",
       "      <td>446.000000</td>\n",
       "      <td>0.000000</td>\n",
       "      <td>3.000000</td>\n",
       "      <td>28.000000</td>\n",
       "      <td>0.000000</td>\n",
       "      <td>0.000000</td>\n",
       "      <td>14.454200</td>\n",
       "    </tr>\n",
       "    <tr>\n",
       "      <th>75%</th>\n",
       "      <td>668.500000</td>\n",
       "      <td>1.000000</td>\n",
       "      <td>3.000000</td>\n",
       "      <td>38.000000</td>\n",
       "      <td>1.000000</td>\n",
       "      <td>0.000000</td>\n",
       "      <td>31.000000</td>\n",
       "    </tr>\n",
       "    <tr>\n",
       "      <th>max</th>\n",
       "      <td>891.000000</td>\n",
       "      <td>1.000000</td>\n",
       "      <td>3.000000</td>\n",
       "      <td>80.000000</td>\n",
       "      <td>8.000000</td>\n",
       "      <td>6.000000</td>\n",
       "      <td>512.329200</td>\n",
       "    </tr>\n",
       "  </tbody>\n",
       "</table>\n",
       "</div>"
      ],
      "text/plain": [
       "       PassengerId    Survived      Pclass         Age       SibSp  \\\n",
       "count   891.000000  891.000000  891.000000  714.000000  891.000000   \n",
       "mean    446.000000    0.383838    2.308642   29.699118    0.523008   \n",
       "std     257.353842    0.486592    0.836071   14.526497    1.102743   \n",
       "min       1.000000    0.000000    1.000000    0.420000    0.000000   \n",
       "25%     223.500000    0.000000    2.000000   20.125000    0.000000   \n",
       "50%     446.000000    0.000000    3.000000   28.000000    0.000000   \n",
       "75%     668.500000    1.000000    3.000000   38.000000    1.000000   \n",
       "max     891.000000    1.000000    3.000000   80.000000    8.000000   \n",
       "\n",
       "            Parch        Fare  \n",
       "count  891.000000  891.000000  \n",
       "mean     0.381594   32.204208  \n",
       "std      0.806057   49.693429  \n",
       "min      0.000000    0.000000  \n",
       "25%      0.000000    7.910400  \n",
       "50%      0.000000   14.454200  \n",
       "75%      0.000000   31.000000  \n",
       "max      6.000000  512.329200  "
      ]
     },
     "execution_count": 610,
     "metadata": {},
     "output_type": "execute_result"
    }
   ],
   "source": [
    "data.describe()"
   ]
  },
  {
   "cell_type": "code",
   "execution_count": 611,
   "id": "f3a849cb-c1b8-487c-b5ac-ec84792a1e45",
   "metadata": {
    "tags": []
   },
   "outputs": [],
   "source": [
    "# banyak data yang kosong di Age dan Cabin\n",
    "# ada 2 penumpang tanpa pelabuhan yang tercatat\n",
    "# sekitar 38.4% penumpang bertahan hidup\n",
    "# umur penumpang berada diantara 0.4 dan 80\n",
    "# Sex, Ticket, Cabin, dan Embarked sebaiknya diubah menjadi value numerik supaya dapat dipakai"
   ]
  },
  {
   "cell_type": "code",
   "execution_count": 612,
   "id": "110857e1-46a6-414a-8e0b-e435f8261220",
   "metadata": {
    "tags": []
   },
   "outputs": [
    {
     "data": {
      "text/html": [
       "<div>\n",
       "<style scoped>\n",
       "    .dataframe tbody tr th:only-of-type {\n",
       "        vertical-align: middle;\n",
       "    }\n",
       "\n",
       "    .dataframe tbody tr th {\n",
       "        vertical-align: top;\n",
       "    }\n",
       "\n",
       "    .dataframe thead th {\n",
       "        text-align: right;\n",
       "    }\n",
       "</style>\n",
       "<table border=\"1\" class=\"dataframe\">\n",
       "  <thead>\n",
       "    <tr style=\"text-align: right;\">\n",
       "      <th></th>\n",
       "      <th>PassengerId</th>\n",
       "      <th>Survived</th>\n",
       "      <th>Pclass</th>\n",
       "      <th>Name</th>\n",
       "      <th>Sex</th>\n",
       "      <th>Age</th>\n",
       "      <th>SibSp</th>\n",
       "      <th>Parch</th>\n",
       "      <th>Ticket</th>\n",
       "      <th>Fare</th>\n",
       "      <th>Cabin</th>\n",
       "      <th>Embarked</th>\n",
       "    </tr>\n",
       "  </thead>\n",
       "  <tbody>\n",
       "    <tr>\n",
       "      <th>0</th>\n",
       "      <td>1</td>\n",
       "      <td>0</td>\n",
       "      <td>3</td>\n",
       "      <td>Braund, Mr. Owen Harris</td>\n",
       "      <td>male</td>\n",
       "      <td>22.0</td>\n",
       "      <td>1</td>\n",
       "      <td>0</td>\n",
       "      <td>A/5 21171</td>\n",
       "      <td>7.2500</td>\n",
       "      <td>NaN</td>\n",
       "      <td>S</td>\n",
       "    </tr>\n",
       "    <tr>\n",
       "      <th>1</th>\n",
       "      <td>2</td>\n",
       "      <td>1</td>\n",
       "      <td>1</td>\n",
       "      <td>Cumings, Mrs. John Bradley (Florence Briggs Th...</td>\n",
       "      <td>female</td>\n",
       "      <td>38.0</td>\n",
       "      <td>1</td>\n",
       "      <td>0</td>\n",
       "      <td>PC 17599</td>\n",
       "      <td>71.2833</td>\n",
       "      <td>C85</td>\n",
       "      <td>C</td>\n",
       "    </tr>\n",
       "    <tr>\n",
       "      <th>2</th>\n",
       "      <td>3</td>\n",
       "      <td>1</td>\n",
       "      <td>3</td>\n",
       "      <td>Heikkinen, Miss. Laina</td>\n",
       "      <td>female</td>\n",
       "      <td>26.0</td>\n",
       "      <td>0</td>\n",
       "      <td>0</td>\n",
       "      <td>STON/O2. 3101282</td>\n",
       "      <td>7.9250</td>\n",
       "      <td>NaN</td>\n",
       "      <td>S</td>\n",
       "    </tr>\n",
       "    <tr>\n",
       "      <th>3</th>\n",
       "      <td>4</td>\n",
       "      <td>1</td>\n",
       "      <td>1</td>\n",
       "      <td>Futrelle, Mrs. Jacques Heath (Lily May Peel)</td>\n",
       "      <td>female</td>\n",
       "      <td>35.0</td>\n",
       "      <td>1</td>\n",
       "      <td>0</td>\n",
       "      <td>113803</td>\n",
       "      <td>53.1000</td>\n",
       "      <td>C123</td>\n",
       "      <td>S</td>\n",
       "    </tr>\n",
       "    <tr>\n",
       "      <th>4</th>\n",
       "      <td>5</td>\n",
       "      <td>0</td>\n",
       "      <td>3</td>\n",
       "      <td>Allen, Mr. William Henry</td>\n",
       "      <td>male</td>\n",
       "      <td>35.0</td>\n",
       "      <td>0</td>\n",
       "      <td>0</td>\n",
       "      <td>373450</td>\n",
       "      <td>8.0500</td>\n",
       "      <td>NaN</td>\n",
       "      <td>S</td>\n",
       "    </tr>\n",
       "    <tr>\n",
       "      <th>5</th>\n",
       "      <td>6</td>\n",
       "      <td>0</td>\n",
       "      <td>3</td>\n",
       "      <td>Moran, Mr. James</td>\n",
       "      <td>male</td>\n",
       "      <td>NaN</td>\n",
       "      <td>0</td>\n",
       "      <td>0</td>\n",
       "      <td>330877</td>\n",
       "      <td>8.4583</td>\n",
       "      <td>NaN</td>\n",
       "      <td>Q</td>\n",
       "    </tr>\n",
       "    <tr>\n",
       "      <th>6</th>\n",
       "      <td>7</td>\n",
       "      <td>0</td>\n",
       "      <td>1</td>\n",
       "      <td>McCarthy, Mr. Timothy J</td>\n",
       "      <td>male</td>\n",
       "      <td>54.0</td>\n",
       "      <td>0</td>\n",
       "      <td>0</td>\n",
       "      <td>17463</td>\n",
       "      <td>51.8625</td>\n",
       "      <td>E46</td>\n",
       "      <td>S</td>\n",
       "    </tr>\n",
       "    <tr>\n",
       "      <th>7</th>\n",
       "      <td>8</td>\n",
       "      <td>0</td>\n",
       "      <td>3</td>\n",
       "      <td>Palsson, Master. Gosta Leonard</td>\n",
       "      <td>male</td>\n",
       "      <td>2.0</td>\n",
       "      <td>3</td>\n",
       "      <td>1</td>\n",
       "      <td>349909</td>\n",
       "      <td>21.0750</td>\n",
       "      <td>NaN</td>\n",
       "      <td>S</td>\n",
       "    </tr>\n",
       "    <tr>\n",
       "      <th>8</th>\n",
       "      <td>9</td>\n",
       "      <td>1</td>\n",
       "      <td>3</td>\n",
       "      <td>Johnson, Mrs. Oscar W (Elisabeth Vilhelmina Berg)</td>\n",
       "      <td>female</td>\n",
       "      <td>27.0</td>\n",
       "      <td>0</td>\n",
       "      <td>2</td>\n",
       "      <td>347742</td>\n",
       "      <td>11.1333</td>\n",
       "      <td>NaN</td>\n",
       "      <td>S</td>\n",
       "    </tr>\n",
       "    <tr>\n",
       "      <th>9</th>\n",
       "      <td>10</td>\n",
       "      <td>1</td>\n",
       "      <td>2</td>\n",
       "      <td>Nasser, Mrs. Nicholas (Adele Achem)</td>\n",
       "      <td>female</td>\n",
       "      <td>14.0</td>\n",
       "      <td>1</td>\n",
       "      <td>0</td>\n",
       "      <td>237736</td>\n",
       "      <td>30.0708</td>\n",
       "      <td>NaN</td>\n",
       "      <td>C</td>\n",
       "    </tr>\n",
       "  </tbody>\n",
       "</table>\n",
       "</div>"
      ],
      "text/plain": [
       "   PassengerId  Survived  Pclass  \\\n",
       "0            1         0       3   \n",
       "1            2         1       1   \n",
       "2            3         1       3   \n",
       "3            4         1       1   \n",
       "4            5         0       3   \n",
       "5            6         0       3   \n",
       "6            7         0       1   \n",
       "7            8         0       3   \n",
       "8            9         1       3   \n",
       "9           10         1       2   \n",
       "\n",
       "                                                Name     Sex   Age  SibSp  \\\n",
       "0                            Braund, Mr. Owen Harris    male  22.0      1   \n",
       "1  Cumings, Mrs. John Bradley (Florence Briggs Th...  female  38.0      1   \n",
       "2                             Heikkinen, Miss. Laina  female  26.0      0   \n",
       "3       Futrelle, Mrs. Jacques Heath (Lily May Peel)  female  35.0      1   \n",
       "4                           Allen, Mr. William Henry    male  35.0      0   \n",
       "5                                   Moran, Mr. James    male   NaN      0   \n",
       "6                            McCarthy, Mr. Timothy J    male  54.0      0   \n",
       "7                     Palsson, Master. Gosta Leonard    male   2.0      3   \n",
       "8  Johnson, Mrs. Oscar W (Elisabeth Vilhelmina Berg)  female  27.0      0   \n",
       "9                Nasser, Mrs. Nicholas (Adele Achem)  female  14.0      1   \n",
       "\n",
       "   Parch            Ticket     Fare Cabin Embarked  \n",
       "0      0         A/5 21171   7.2500   NaN        S  \n",
       "1      0          PC 17599  71.2833   C85        C  \n",
       "2      0  STON/O2. 3101282   7.9250   NaN        S  \n",
       "3      0            113803  53.1000  C123        S  \n",
       "4      0            373450   8.0500   NaN        S  \n",
       "5      0            330877   8.4583   NaN        Q  \n",
       "6      0             17463  51.8625   E46        S  \n",
       "7      1            349909  21.0750   NaN        S  \n",
       "8      2            347742  11.1333   NaN        S  \n",
       "9      0            237736  30.0708   NaN        C  "
      ]
     },
     "execution_count": 612,
     "metadata": {},
     "output_type": "execute_result"
    }
   ],
   "source": [
    "data.head(10)"
   ]
  },
  {
   "cell_type": "markdown",
   "id": "69c1c93d-1017-466a-b962-427aaa4efc0b",
   "metadata": {},
   "source": [
    "### Age cleaning"
   ]
  },
  {
   "cell_type": "code",
   "execution_count": 613,
   "id": "011ffb1e-a200-4757-95cc-4a8d87a0e837",
   "metadata": {},
   "outputs": [
    {
     "data": {
      "text/plain": [
       "count    714.000000\n",
       "mean      29.699118\n",
       "std       14.526497\n",
       "min        0.420000\n",
       "25%       20.125000\n",
       "50%       28.000000\n",
       "75%       38.000000\n",
       "max       80.000000\n",
       "Name: Age, dtype: float64"
      ]
     },
     "execution_count": 613,
     "metadata": {},
     "output_type": "execute_result"
    }
   ],
   "source": [
    "data['Age'].describe()"
   ]
  },
  {
   "cell_type": "code",
   "execution_count": 614,
   "id": "2e8da5ae-0abc-4b94-87de-5af0629278c5",
   "metadata": {
    "tags": []
   },
   "outputs": [
    {
     "name": "stderr",
     "output_type": "stream",
     "text": [
      "c:\\Users\\ADI CHRISTIAN\\AppData\\Local\\Programs\\Python\\Python310\\lib\\site-packages\\seaborn\\_decorators.py:36: FutureWarning: Pass the following variable as a keyword arg: x. From version 0.12, the only valid positional argument will be `data`, and passing other arguments without an explicit keyword will result in an error or misinterpretation.\n",
      "  warnings.warn(\n"
     ]
    },
    {
     "data": {
      "text/plain": [
       "<AxesSubplot:xlabel='Age'>"
      ]
     },
     "execution_count": 614,
     "metadata": {},
     "output_type": "execute_result"
    },
    {
     "data": {
      "image/png": "[encoded data removed]",
      "text/plain": [
       "<Figure size 640x480 with 1 Axes>"
      ]
     },
     "metadata": {},
     "output_type": "display_data"
    }
   ],
   "source": [
    "# mencari outlier\n",
    "sns.boxplot(data['Age'])"
   ]
  },
  {
   "cell_type": "code",
   "execution_count": 615,
   "id": "d78274a6-7ee7-49b8-a382-60aa7850c0d5",
   "metadata": {
    "tags": []
   },
   "outputs": [
    {
     "data": {
      "text/plain": [
       "33     66.0\n",
       "96     71.0\n",
       "116    70.5\n",
       "493    71.0\n",
       "630    80.0\n",
       "672    70.0\n",
       "745    70.0\n",
       "851    74.0\n",
       "Name: Age, dtype: float64"
      ]
     },
     "execution_count": 615,
     "metadata": {},
     "output_type": "execute_result"
    }
   ],
   "source": [
    "data.loc[np.where(data['Age']>65)]['Age']"
   ]
  },
  {
   "cell_type": "code",
   "execution_count": 616,
   "id": "b631166b-73e3-42e6-8ae0-6ceb440e73cf",
   "metadata": {
    "tags": []
   },
   "outputs": [
    {
     "data": {
      "text/plain": [
       "<AxesSubplot:xlabel='Age', ylabel='Count'>"
      ]
     },
     "execution_count": 616,
     "metadata": {},
     "output_type": "execute_result"
    },
    {
     "data": {
      "image/png": "[encoded data removed]",
      "text/plain": [
       "<Figure size 640x480 with 1 Axes>"
      ]
     },
     "metadata": {},
     "output_type": "display_data"
    }
   ],
   "source": [
    "# mencari distribusi\n",
    "sns.histplot(data['Age'])"
   ]
  },
  {
   "cell_type": "code",
   "execution_count": 617,
   "id": "3772687d-2ab4-434e-8ff8-f744bb04ad35",
   "metadata": {
    "tags": []
   },
   "outputs": [
    {
     "data": {
      "text/plain": [
       "0"
      ]
     },
     "execution_count": 617,
     "metadata": {},
     "output_type": "execute_result"
    }
   ],
   "source": [
    "# karena terdapat beberapa outlier dan data agak miring kita gunakan median untuk mengisi kekosongan\n",
    "median = data['Age'].median()\n",
    "data['Age'] = data['Age'].fillna(median).astype(int)\n",
    "data['Age'].isna().sum()"
   ]
  },
  {
   "cell_type": "markdown",
   "id": "fcc7fbe1-e924-4dfa-aa66-f818e4278928",
   "metadata": {
    "tags": []
   },
   "source": [
    "### Embarked cleaning"
   ]
  },
  {
   "cell_type": "code",
   "execution_count": 618,
   "id": "19d6fb2c-6485-455d-97aa-a47d60a71398",
   "metadata": {
    "tags": []
   },
   "outputs": [
    {
     "data": {
      "text/plain": [
       "count     889\n",
       "unique      3\n",
       "top         S\n",
       "freq      644\n",
       "Name: Embarked, dtype: object"
      ]
     },
     "execution_count": 618,
     "metadata": {},
     "output_type": "execute_result"
    }
   ],
   "source": [
    "# Hanya ada 2 value yang hilang jadi bisa diisi dengan data yang paling banyak muncul\n",
    "data['Embarked'].describe()"
   ]
  },
  {
   "cell_type": "code",
   "execution_count": 619,
   "id": "8773a6bb-c8bb-4e01-b835-8fa40adc5ba1",
   "metadata": {
    "tags": []
   },
   "outputs": [
    {
     "data": {
      "text/plain": [
       "0"
      ]
     },
     "execution_count": 619,
     "metadata": {},
     "output_type": "execute_result"
    }
   ],
   "source": [
    "# paling banyak adalah S\n",
    "data['Embarked'] = data['Embarked'].fillna('S')\n",
    "data['Embarked'].isna().sum()"
   ]
  },
  {
   "cell_type": "markdown",
   "id": "c36d4ad2-4b50-4bbc-905c-b5f449320bed",
   "metadata": {},
   "source": [
    "### Cabin cleaning"
   ]
  },
  {
   "cell_type": "code",
   "execution_count": 620,
   "id": "411afa17-9dc3-4238-95ab-32717b12fd90",
   "metadata": {
    "tags": []
   },
   "outputs": [
    {
     "data": {
      "text/plain": [
       "count         204\n",
       "unique        147\n",
       "top       B96 B98\n",
       "freq            4\n",
       "Name: Cabin, dtype: object"
      ]
     },
     "execution_count": 620,
     "metadata": {},
     "output_type": "execute_result"
    }
   ],
   "source": [
    "data['Cabin'].describe()"
   ]
  },
  {
   "cell_type": "code",
   "execution_count": 621,
   "id": "a7efc0be-21d6-4771-ac53-6eb0d1b462ed",
   "metadata": {
    "tags": []
   },
   "outputs": [
    {
     "name": "stdout",
     "output_type": "stream",
     "text": [
      "<class 'pandas.core.frame.DataFrame'>\n",
      "RangeIndex: 891 entries, 0 to 890\n",
      "Data columns (total 11 columns):\n",
      " #   Column       Non-Null Count  Dtype  \n",
      "---  ------       --------------  -----  \n",
      " 0   PassengerId  891 non-null    int64  \n",
      " 1   Survived     891 non-null    int64  \n",
      " 2   Pclass       891 non-null    int64  \n",
      " 3   Name         891 non-null    object \n",
      " 4   Sex          891 non-null    object \n",
      " 5   Age          891 non-null    int32  \n",
      " 6   SibSp        891 non-null    int64  \n",
      " 7   Parch        891 non-null    int64  \n",
      " 8   Ticket       891 non-null    object \n",
      " 9   Fare         891 non-null    float64\n",
      " 10  Embarked     891 non-null    object \n",
      "dtypes: float64(1), int32(1), int64(5), object(4)\n",
      "memory usage: 73.2+ KB\n"
     ]
    }
   ],
   "source": [
    "# 204 dari 891 ada isinya\n",
    "# terlalu sedikit, lebih baik di drop saja\n",
    "data = data.drop(columns=['Cabin'])\n",
    "data.info()"
   ]
  },
  {
   "cell_type": "markdown",
   "id": "f35f71e0-181f-47b2-b85d-b11789e7fe22",
   "metadata": {},
   "source": [
    "### Preprocessing lainnya\n",
    "- Beberapa variabel seperti Sex dan Embarked sebaiknya diubah menjadi nilai numerik\n",
    "- PassengerId, Name, dan Ticket tidak penting (setiap value unique sehingga tidak menentukan apapun) maka dapat didrop\n",
    "- Fare dan Age dapat dikategorikan\n",
    "- SibSp dan Parch dapat digabungkan menjadi Fam (jumlah anggota keluarga)"
   ]
  },
  {
   "cell_type": "code",
   "execution_count": 622,
   "id": "781bf5da-f280-4ba8-adf1-725cbf8da2bb",
   "metadata": {
    "tags": []
   },
   "outputs": [
    {
     "data": {
      "text/plain": [
       "count    891.000000\n",
       "mean       0.352413\n",
       "std        0.477990\n",
       "min        0.000000\n",
       "25%        0.000000\n",
       "50%        0.000000\n",
       "75%        1.000000\n",
       "max        1.000000\n",
       "Name: Sex, dtype: float64"
      ]
     },
     "execution_count": 622,
     "metadata": {},
     "output_type": "execute_result"
    }
   ],
   "source": [
    "# mengubah Sex\n",
    "sex = {'male':0, 'female':1}\n",
    "data['Sex'] = data['Sex'].map(sex)\n",
    "data['Sex'].describe()"
   ]
  },
  {
   "cell_type": "code",
   "execution_count": 623,
   "id": "3ff69418-7c0f-4057-9f91-6118fb154dd5",
   "metadata": {
    "tags": []
   },
   "outputs": [
    {
     "data": {
      "text/plain": [
       "count    891.000000\n",
       "mean       0.361392\n",
       "std        0.635673\n",
       "min        0.000000\n",
       "25%        0.000000\n",
       "50%        0.000000\n",
       "75%        1.000000\n",
       "max        2.000000\n",
       "Name: Embarked, dtype: float64"
      ]
     },
     "execution_count": 623,
     "metadata": {},
     "output_type": "execute_result"
    }
   ],
   "source": [
    "# mengubah Embarked\n",
    "emb = {'S':0, 'C':1, 'Q':2}\n",
    "data['Embarked'] = data['Embarked'].map(emb)\n",
    "data['Embarked'].describe()"
   ]
  },
  {
   "cell_type": "code",
   "execution_count": 624,
   "id": "525a7b8a-5d01-4305-98cd-068a06e53155",
   "metadata": {
    "tags": []
   },
   "outputs": [
    {
     "name": "stdout",
     "output_type": "stream",
     "text": [
      "<class 'pandas.core.frame.DataFrame'>\n",
      "RangeIndex: 891 entries, 0 to 890\n",
      "Data columns (total 8 columns):\n",
      " #   Column    Non-Null Count  Dtype  \n",
      "---  ------    --------------  -----  \n",
      " 0   Survived  891 non-null    int64  \n",
      " 1   Pclass    891 non-null    int64  \n",
      " 2   Sex       891 non-null    int64  \n",
      " 3   Age       891 non-null    int32  \n",
      " 4   SibSp     891 non-null    int64  \n",
      " 5   Parch     891 non-null    int64  \n",
      " 6   Fare      891 non-null    float64\n",
      " 7   Embarked  891 non-null    int64  \n",
      "dtypes: float64(1), int32(1), int64(6)\n",
      "memory usage: 52.3 KB\n"
     ]
    }
   ],
   "source": [
    "data = data.drop(columns=['PassengerId','Name', 'Ticket'])\n",
    "data.info()"
   ]
  },
  {
   "cell_type": "code",
   "execution_count": 625,
   "id": "cb7e6e8f-a4c0-43d0-b315-bda9eb7ae9e9",
   "metadata": {
    "tags": []
   },
   "outputs": [
    {
     "data": {
      "text/plain": [
       "3    337\n",
       "2    198\n",
       "4    153\n",
       "1     75\n",
       "5     64\n",
       "0     64\n",
       "Name: Age, dtype: int64"
      ]
     },
     "execution_count": 625,
     "metadata": {},
     "output_type": "execute_result"
    }
   ],
   "source": [
    "# pengategorian Age\n",
    "data.loc[ data['Age']<=10, 'Age'] = 0\n",
    "data.loc[(data['Age']>10) & (data['Age']<=18), 'Age'] = 1\n",
    "data.loc[(data['Age']>18) & (data['Age']<=27), 'Age'] = 2\n",
    "data.loc[(data['Age']>27) & (data['Age']<=35), 'Age'] = 3\n",
    "data.loc[(data['Age']>35) & (data['Age']<=50), 'Age'] = 4\n",
    "data.loc[ data['Age']>50, 'Age'] = 5\n",
    "data['Age'].value_counts()"
   ]
  },
  {
   "cell_type": "code",
   "execution_count": 626,
   "id": "4af2a4b7-261c-4e24-a1e1-6c5f4668febb",
   "metadata": {
    "tags": []
   },
   "outputs": [
    {
     "data": {
      "text/plain": [
       "0    241\n",
       "2    183\n",
       "3    174\n",
       "1    133\n",
       "4    107\n",
       "5     53\n",
       "Name: Fare, dtype: int64"
      ]
     },
     "execution_count": 626,
     "metadata": {},
     "output_type": "execute_result"
    }
   ],
   "source": [
    "# pengategorian Fare\n",
    "data.loc[ data['Fare']<=8, 'Fare'] = 0\n",
    "data.loc[(data['Fare']>8) & (data['Fare']<=12), 'Fare'] = 1\n",
    "data.loc[(data['Fare']>12) & (data['Fare']<=25), 'Fare'] = 2\n",
    "data.loc[(data['Fare']>25) & (data['Fare']<=50), 'Fare'] = 3\n",
    "data.loc[(data['Fare']>50) & (data['Fare']<=100), 'Fare'] = 4\n",
    "data.loc[ data['Fare']>100, 'Fare'] = 5\n",
    "data['Fare'] = data['Fare'].astype(int)\n",
    "data['Fare'].value_counts()"
   ]
  },
  {
   "cell_type": "code",
   "execution_count": 627,
   "id": "71e446ae-27f4-4346-81c8-ee7104e2bb22",
   "metadata": {
    "tags": []
   },
   "outputs": [
    {
     "data": {
      "text/plain": [
       "count    891.000000\n",
       "mean       0.904602\n",
       "std        1.613459\n",
       "min        0.000000\n",
       "25%        0.000000\n",
       "50%        0.000000\n",
       "75%        1.000000\n",
       "max       10.000000\n",
       "Name: Fam, dtype: float64"
      ]
     },
     "execution_count": 627,
     "metadata": {},
     "output_type": "execute_result"
    }
   ],
   "source": [
    "# Penggabungan SibSp dan Parch\n",
    "data['Fam'] = data['SibSp']+data['Parch']\n",
    "data = data.drop(columns=['SibSp','Parch'])\n",
    "data['Fam'].describe()"
   ]
  },
  {
   "cell_type": "code",
   "execution_count": 628,
   "id": "b18dd142-c8f4-4b1e-8851-20624b3004ea",
   "metadata": {
    "tags": []
   },
   "outputs": [
    {
     "data": {
      "text/html": [
       "<div>\n",
       "<style scoped>\n",
       "    .dataframe tbody tr th:only-of-type {\n",
       "        vertical-align: middle;\n",
       "    }\n",
       "\n",
       "    .dataframe tbody tr th {\n",
       "        vertical-align: top;\n",
       "    }\n",
       "\n",
       "    .dataframe thead th {\n",
       "        text-align: right;\n",
       "    }\n",
       "</style>\n",
       "<table border=\"1\" class=\"dataframe\">\n",
       "  <thead>\n",
       "    <tr style=\"text-align: right;\">\n",
       "      <th></th>\n",
       "      <th>Survived</th>\n",
       "      <th>Pclass</th>\n",
       "      <th>Sex</th>\n",
       "      <th>Age</th>\n",
       "      <th>Fare</th>\n",
       "      <th>Embarked</th>\n",
       "      <th>Fam</th>\n",
       "    </tr>\n",
       "  </thead>\n",
       "  <tbody>\n",
       "    <tr>\n",
       "      <th>0</th>\n",
       "      <td>0</td>\n",
       "      <td>3</td>\n",
       "      <td>0</td>\n",
       "      <td>2</td>\n",
       "      <td>0</td>\n",
       "      <td>0</td>\n",
       "      <td>1</td>\n",
       "    </tr>\n",
       "    <tr>\n",
       "      <th>1</th>\n",
       "      <td>1</td>\n",
       "      <td>1</td>\n",
       "      <td>1</td>\n",
       "      <td>4</td>\n",
       "      <td>4</td>\n",
       "      <td>1</td>\n",
       "      <td>1</td>\n",
       "    </tr>\n",
       "    <tr>\n",
       "      <th>2</th>\n",
       "      <td>1</td>\n",
       "      <td>3</td>\n",
       "      <td>1</td>\n",
       "      <td>2</td>\n",
       "      <td>0</td>\n",
       "      <td>0</td>\n",
       "      <td>0</td>\n",
       "    </tr>\n",
       "    <tr>\n",
       "      <th>3</th>\n",
       "      <td>1</td>\n",
       "      <td>1</td>\n",
       "      <td>1</td>\n",
       "      <td>3</td>\n",
       "      <td>4</td>\n",
       "      <td>0</td>\n",
       "      <td>1</td>\n",
       "    </tr>\n",
       "    <tr>\n",
       "      <th>4</th>\n",
       "      <td>0</td>\n",
       "      <td>3</td>\n",
       "      <td>0</td>\n",
       "      <td>3</td>\n",
       "      <td>1</td>\n",
       "      <td>0</td>\n",
       "      <td>0</td>\n",
       "    </tr>\n",
       "  </tbody>\n",
       "</table>\n",
       "</div>"
      ],
      "text/plain": [
       "   Survived  Pclass  Sex  Age  Fare  Embarked  Fam\n",
       "0         0       3    0    2     0         0    1\n",
       "1         1       1    1    4     4         1    1\n",
       "2         1       3    1    2     0         0    0\n",
       "3         1       1    1    3     4         0    1\n",
       "4         0       3    0    3     1         0    0"
      ]
     },
     "execution_count": 628,
     "metadata": {},
     "output_type": "execute_result"
    }
   ],
   "source": [
    "# hasil setelah preprocessing\n",
    "data.head()"
   ]
  },
  {
   "cell_type": "code",
   "execution_count": 629,
   "id": "79b8108a-95be-423f-929e-d7866ff085c1",
   "metadata": {},
   "outputs": [
    {
     "name": "stdout",
     "output_type": "stream",
     "text": [
      "<class 'pandas.core.frame.DataFrame'>\n",
      "RangeIndex: 891 entries, 0 to 890\n",
      "Data columns (total 7 columns):\n",
      " #   Column    Non-Null Count  Dtype\n",
      "---  ------    --------------  -----\n",
      " 0   Survived  891 non-null    int64\n",
      " 1   Pclass    891 non-null    int64\n",
      " 2   Sex       891 non-null    int64\n",
      " 3   Age       891 non-null    int32\n",
      " 4   Fare      891 non-null    int32\n",
      " 5   Embarked  891 non-null    int64\n",
      " 6   Fam       891 non-null    int64\n",
      "dtypes: int32(2), int64(5)\n",
      "memory usage: 41.9 KB\n"
     ]
    }
   ],
   "source": [
    "data.info()"
   ]
  },
  {
   "cell_type": "markdown",
   "id": "6fbccf27-a621-4b9f-b334-95a8ebff2233",
   "metadata": {
    "tags": []
   },
   "source": [
    "## Algoritma Machine Learning"
   ]
  },
  {
   "cell_type": "code",
   "execution_count": 630,
   "id": "c79c41d0-d1fc-46b8-b228-ef83c945af70",
   "metadata": {},
   "outputs": [],
   "source": [
    "# split dataset untuk testing dan training\n",
    "X = data.loc[:, ['Pclass', 'Sex', 'Age', 'Fare', 'Embarked', 'Fam']]\n",
    "y = data.loc[:, ['Survived']]\n",
    "X_train, X_test, y_train, y_test = train_test_split(X, y, test_size =0.2, shuffle=True)"
   ]
  },
  {
   "cell_type": "markdown",
   "id": "cb4e3b31-7741-428d-bdb4-f11ffe8f3c0d",
   "metadata": {
    "tags": []
   },
   "source": [
    "### Statsmodels Logistic Regression"
   ]
  },
  {
   "cell_type": "code",
   "execution_count": 631,
   "id": "41f6a1b8-e27d-45e4-a4bb-95d73fc03b36",
   "metadata": {
    "tags": []
   },
   "outputs": [
    {
     "name": "stdout",
     "output_type": "stream",
     "text": [
      "Optimization terminated successfully.\n",
      "         Current function value: 0.443884\n",
      "         Iterations 6\n"
     ]
    }
   ],
   "source": [
    "logreg = sm.Logit(y_train, X_train).fit()"
   ]
  },
  {
   "cell_type": "code",
   "execution_count": 632,
   "id": "3da63c2f-39b3-4e7b-8539-a8fffcd966af",
   "metadata": {
    "tags": []
   },
   "outputs": [
    {
     "data": {
      "text/html": [
       "<table class=\"simpletable\">\n",
       "<caption>Logit Regression Results</caption>\n",
       "<tr>\n",
       "  <th>Dep. Variable:</th>       <td>Survived</td>     <th>  No. Observations:  </th>  <td>   712</td>  \n",
       "</tr>\n",
       "<tr>\n",
       "  <th>Model:</th>                 <td>Logit</td>      <th>  Df Residuals:      </th>  <td>   706</td>  \n",
       "</tr>\n",
       "<tr>\n",
       "  <th>Method:</th>                 <td>MLE</td>       <th>  Df Model:          </th>  <td>     5</td>  \n",
       "</tr>\n",
       "<tr>\n",
       "  <th>Date:</th>            <td>Sun, 22 Oct 2023</td> <th>  Pseudo R-squ.:     </th>  <td>0.3326</td>  \n",
       "</tr>\n",
       "<tr>\n",
       "  <th>Time:</th>                <td>22:41:06</td>     <th>  Log-Likelihood:    </th> <td> -316.05</td> \n",
       "</tr>\n",
       "<tr>\n",
       "  <th>converged:</th>             <td>True</td>       <th>  LL-Null:           </th> <td> -473.51</td> \n",
       "</tr>\n",
       "<tr>\n",
       "  <th>Covariance Type:</th>     <td>nonrobust</td>    <th>  LLR p-value:       </th> <td>6.156e-66</td>\n",
       "</tr>\n",
       "</table>\n",
       "<table class=\"simpletable\">\n",
       "<tr>\n",
       "      <td></td>        <th>coef</th>     <th>std err</th>      <th>z</th>      <th>P>|z|</th>  <th>[0.025</th>    <th>0.975]</th>  \n",
       "</tr>\n",
       "<tr>\n",
       "  <th>Pclass</th>   <td>   -0.4965</td> <td>    0.081</td> <td>   -6.092</td> <td> 0.000</td> <td>   -0.656</td> <td>   -0.337</td>\n",
       "</tr>\n",
       "<tr>\n",
       "  <th>Sex</th>      <td>    2.7080</td> <td>    0.220</td> <td>   12.315</td> <td> 0.000</td> <td>    2.277</td> <td>    3.139</td>\n",
       "</tr>\n",
       "<tr>\n",
       "  <th>Age</th>      <td>   -0.3652</td> <td>    0.077</td> <td>   -4.741</td> <td> 0.000</td> <td>   -0.516</td> <td>   -0.214</td>\n",
       "</tr>\n",
       "<tr>\n",
       "  <th>Fare</th>     <td>    0.3883</td> <td>    0.077</td> <td>    5.060</td> <td> 0.000</td> <td>    0.238</td> <td>    0.539</td>\n",
       "</tr>\n",
       "<tr>\n",
       "  <th>Embarked</th> <td>    0.2581</td> <td>    0.157</td> <td>    1.641</td> <td> 0.101</td> <td>   -0.050</td> <td>    0.566</td>\n",
       "</tr>\n",
       "<tr>\n",
       "  <th>Fam</th>      <td>   -0.3501</td> <td>    0.085</td> <td>   -4.140</td> <td> 0.000</td> <td>   -0.516</td> <td>   -0.184</td>\n",
       "</tr>\n",
       "</table>"
      ],
      "text/plain": [
       "<class 'statsmodels.iolib.summary.Summary'>\n",
       "\"\"\"\n",
       "                           Logit Regression Results                           \n",
       "==============================================================================\n",
       "Dep. Variable:               Survived   No. Observations:                  712\n",
       "Model:                          Logit   Df Residuals:                      706\n",
       "Method:                           MLE   Df Model:                            5\n",
       "Date:                Sun, 22 Oct 2023   Pseudo R-squ.:                  0.3326\n",
       "Time:                        22:41:06   Log-Likelihood:                -316.05\n",
       "converged:                       True   LL-Null:                       -473.51\n",
       "Covariance Type:            nonrobust   LLR p-value:                 6.156e-66\n",
       "==============================================================================\n",
       "                 coef    std err          z      P>|z|      [0.025      0.975]\n",
       "------------------------------------------------------------------------------\n",
       "Pclass        -0.4965      0.081     -6.092      0.000      -0.656      -0.337\n",
       "Sex            2.7080      0.220     12.315      0.000       2.277       3.139\n",
       "Age           -0.3652      0.077     -4.741      0.000      -0.516      -0.214\n",
       "Fare           0.3883      0.077      5.060      0.000       0.238       0.539\n",
       "Embarked       0.2581      0.157      1.641      0.101      -0.050       0.566\n",
       "Fam           -0.3501      0.085     -4.140      0.000      -0.516      -0.184\n",
       "==============================================================================\n",
       "\"\"\""
      ]
     },
     "execution_count": 632,
     "metadata": {},
     "output_type": "execute_result"
    }
   ],
   "source": [
    "logreg.summary()"
   ]
  },
  {
   "cell_type": "markdown",
   "id": "fbb3cd3e-25a0-40cd-aabb-64e4b06dc9a6",
   "metadata": {},
   "source": [
    "Menurut p-value (`P>|z|`), semua predictor yang ada kecuali pelabuhan keberangkatan berhubungan dengan kemungkinan hidup penumpang. Hal ini bisa jadi karena variabel yang kurang penting (PassengerId, Name, Ticket) sudah dibuang pada saat preprocessing data.\n",
    "<br>\n",
    "Analisa data dan penalaran:\n",
    "- Semakin rendah kelas semakin mungkin hidup (penumpang kelas 1 memiliki akses ke fasilitas kapal terbaik)\n",
    "- Perempuan lebih mungkin hidup daripada laki-laki (saat evakuasi perempuan diutamakan)\n",
    "- Orang muda lebih banyak yang hidup (anak-anak diutamakan untuk evakuasi, orang tua lebih sulit untuk bergerak sehingga tertinggal di kapal)\n",
    "- Semakin tinggi harga tiket, semakin besar kemungkinan hidup (harga tiket yang tinggi menunjukkan fasilitas yang lebih memadai, mirip Pclass)\n",
    "- Embarked kurang akurat sebagai prediktor (pelabuhan yang dijadikan variabel bukanlah sesuatu yang linear, namun merupakan suatu kategori yang dijadikan linear untuk diproses program)\n",
    "- Semakin sedikit keluarga semakin besar kemungkinan hidup (Tidak perlu mencari/menolong satu sama lain?)"
   ]
  },
  {
   "cell_type": "markdown",
   "id": "fad72556-22a9-4772-bd49-c66d3dd852a7",
   "metadata": {},
   "source": [
    "### SciKit Models\n",
    "Keakuratan hasil prediksi model direpresentasikan dalam persentase, acc_sco untuk keakuratan dengan dataset test, dan acc_log untuk keakuratan dengan dataset train.\n",
    "(acc_sco dan acc_log menggunakan perbandingan true positive)"
   ]
  },
  {
   "cell_type": "code",
   "execution_count": 633,
   "id": "76edd0a5-187e-44d6-961d-2aee17187b00",
   "metadata": {
    "tags": []
   },
   "outputs": [
    {
     "name": "stdout",
     "output_type": "stream",
     "text": [
      "78.21 %\n",
      "80.76 %\n"
     ]
    }
   ],
   "source": [
    "logReg = LogisticRegression()\n",
    "logReg.fit(X_train, y_train.values.ravel())\n",
    "y_pred = logReg.predict(X_test)\n",
    "acc_sco = round(accuracy_score(y_test, y_pred)*100, 2)\n",
    "acc_log = round(logReg.score(X_train, y_train)*100, 2)\n",
    "print(acc_sco,'%')\n",
    "print(acc_log,'%')"
   ]
  },
  {
   "cell_type": "code",
   "execution_count": 634,
   "id": "20e49429-96de-4b43-89f6-489d642614f3",
   "metadata": {
    "tags": []
   },
   "outputs": [
    {
     "data": {
      "image/png": "[encoded data removed]",
      "text/plain": [
       "<Figure size 640x480 with 1 Axes>"
      ]
     },
     "metadata": {},
     "output_type": "display_data"
    }
   ],
   "source": [
    "# roc curve\n",
    "fp, tp, thresholds = roc_curve(y_test, y_pred)\n",
    "\n",
    "plt.plot(fp, tp, linewidth=2)\n",
    "plt.plot([0, 1], [0, 1], 'r', linewidth=4)\n",
    "plt.axis([0, 1, 0, 1])\n",
    "plt.xlabel('False Positive')\n",
    "plt.ylabel('True Positive')\n",
    "\n",
    "plt.show()"
   ]
  },
  {
   "cell_type": "code",
   "execution_count": 635,
   "id": "fbe75fe6-5259-4d96-ae0f-839f7d5ac61e",
   "metadata": {
    "tags": []
   },
   "outputs": [
    {
     "name": "stdout",
     "output_type": "stream",
     "text": [
      "79.89 %\n",
      "80.62 %\n"
     ]
    }
   ],
   "source": [
    "lda = LDA()\n",
    "lda.fit(X_train, y_train.values.ravel())\n",
    "y_pred = lda.predict(X_test)\n",
    "acc_sco = round(accuracy_score(y_test, y_pred)*100, 2)\n",
    "acc_log = round(lda.score(X_train, y_train)*100, 2)\n",
    "print(acc_sco,'%')\n",
    "print(acc_log,'%')"
   ]
  },
  {
   "cell_type": "code",
   "execution_count": 636,
   "id": "5e3ba3ce-bbba-405e-8f1a-01c44d543b66",
   "metadata": {
    "tags": []
   },
   "outputs": [
    {
     "name": "stdout",
     "output_type": "stream",
     "text": [
      "82.12 %\n",
      "81.46 %\n"
     ]
    }
   ],
   "source": [
    "qda = QDA()\n",
    "qda.fit(X_train, y_train.values.ravel())\n",
    "y_pred = qda.predict(X_test)\n",
    "acc_sco = round(accuracy_score(y_test, y_pred)*100, 2)\n",
    "acc_log = round(qda.score(X_train, y_train)*100, 2)\n",
    "print(acc_sco,'%')\n",
    "print(acc_log,'%')"
   ]
  },
  {
   "cell_type": "code",
   "execution_count": 637,
   "id": "db13c167-0479-4df3-80e8-b7d51cf790e7",
   "metadata": {
    "tags": []
   },
   "outputs": [
    {
     "name": "stdout",
     "output_type": "stream",
     "text": [
      "78.21 %\n",
      "77.95 %\n"
     ]
    }
   ],
   "source": [
    "naBa = GaussianNB()\n",
    "naBa.fit(X_train, y_train.values.ravel())\n",
    "y_pred = naBa.predict(X_test)\n",
    "acc_sco = round(accuracy_score(y_test, y_pred)*100, 2)\n",
    "acc_log = round(naBa.score(X_train, y_train)*100, 2)\n",
    "print(acc_sco,'%')\n",
    "print(acc_log,'%')"
   ]
  },
  {
   "cell_type": "markdown",
   "id": "9322f072-c977-433c-9b33-8df2b9ab520c",
   "metadata": {
    "tags": []
   },
   "source": [
    "## Resampling methods"
   ]
  },
  {
   "cell_type": "code",
   "execution_count": null,
   "id": "66cd3a98-b5e5-4c4d-a51c-6f1aba5d734c",
   "metadata": {},
   "outputs": [],
   "source": []
  },
  {
   "cell_type": "markdown",
   "id": "ea423373",
   "metadata": {},
   "source": [
    "## Other Method: Pasting - QDA"
   ]
  },
  {
   "cell_type": "code",
   "execution_count": 638,
   "id": "58e5faa4",
   "metadata": {},
   "outputs": [],
   "source": [
    "y_trainNp = np.array(y_train).ravel()\n",
    "y_testNp = np.array(y_test).ravel()"
   ]
  },
  {
   "cell_type": "code",
   "execution_count": 639,
   "id": "2d70b972",
   "metadata": {},
   "outputs": [
    {
     "name": "stdout",
     "output_type": "stream",
     "text": [
      "82.12 %\n",
      "81.6 %\n"
     ]
    }
   ],
   "source": [
    "pasting = BC(qda, n_estimators=1000, random_state=2, bootstrap=True)\n",
    "pasting.fit(X_train, y_trainNp)\n",
    "y_pred = pasting.predict(X_test)\n",
    "\n",
    "# Hitung accuracy\n",
    "acc_sco = round(accuracy_score(y_testNp, y_pred)*100, 2)\n",
    "acc_log = round(pasting.score(X_train, y_trainNp)*100, 2)\n",
    "print(acc_sco,'%')\n",
    "print(acc_log,'%')"
   ]
  },
  {
   "cell_type": "markdown",
   "id": "55cd8de1",
   "metadata": {},
   "source": [
    "Memakai Pasting juga kurang membantu, karena hasil accuracy score dari QDA lebih baik daripada ensemble."
   ]
  },
  {
   "cell_type": "markdown",
   "id": "6c2bd49f",
   "metadata": {},
   "source": [
    "## Other Method: Decision Tree"
   ]
  },
  {
   "cell_type": "code",
   "execution_count": 640,
   "id": "757354f7",
   "metadata": {},
   "outputs": [
    {
     "name": "stdout",
     "output_type": "stream",
     "text": [
      "80.45 %\n",
      "88.9 %\n"
     ]
    }
   ],
   "source": [
    "decision_tree = DT(max_depth=10)\n",
    "decision_tree.fit(X_train, y_trainNp)\n",
    "y_pred = decision_tree.predict(X_test)\n",
    "\n",
    "# Hitung accuracy\n",
    "acc_sco = round(accuracy_score(y_testNp, y_pred)*100, 2)\n",
    "acc_log = round(decision_tree.score(X_train, y_trainNp)*100, 2)\n",
    "print(acc_sco,'%')\n",
    "print(acc_log,'%')"
   ]
  },
  {
   "cell_type": "markdown",
   "id": "dd9316c7",
   "metadata": {},
   "source": [
    "Memakai Decision Tree terkadang memberi hasil yang lebih baik daripada LDA/QDA/Logistic Regression/Naive Bayes"
   ]
  },
  {
   "cell_type": "markdown",
   "id": "d06ca678",
   "metadata": {},
   "source": [
    "## Other Method: Pasting - Decision Tree"
   ]
  },
  {
   "cell_type": "code",
   "execution_count": 641,
   "id": "a52787d0",
   "metadata": {},
   "outputs": [
    {
     "name": "stdout",
     "output_type": "stream",
     "text": [
      "81.01 %\n",
      "89.61 %\n"
     ]
    }
   ],
   "source": [
    "pasting = BC(decision_tree, n_estimators=1000, random_state=2, bootstrap=True)\n",
    "pasting.fit(X_train, y_trainNp)\n",
    "y_pred = pasting.predict(X_test)\n",
    "\n",
    "# Hitung accuracy\n",
    "acc_sco = round(accuracy_score(y_testNp, y_pred)*100, 2)\n",
    "acc_log = round(pasting.score(X_train, y_trainNp)*100, 2)\n",
    "print(acc_sco,'%')\n",
    "print(acc_log,'%')"
   ]
  },
  {
   "cell_type": "markdown",
   "id": "42f405bd",
   "metadata": {},
   "source": [
    "Pasting pada Decision Tree umumnya memberi hasil accuracy score sama seperti Decision Tree, walau Accuracy"
   ]
  },
  {
   "cell_type": "markdown",
   "id": "5cd2a820",
   "metadata": {},
   "source": [
    "## Other Method: Random Forest"
   ]
  },
  {
   "cell_type": "code",
   "execution_count": 642,
   "id": "ad36bd80",
   "metadata": {},
   "outputs": [
    {
     "name": "stdout",
     "output_type": "stream",
     "text": [
      "79.89 %\n",
      "89.61 %\n"
     ]
    }
   ],
   "source": [
    "random_forest = RFC(n_estimators=100, random_state=2)\n",
    "random_forest.fit(X_train, y_trainNp)\n",
    "y_pred = random_forest.predict(X_test)\n",
    "\n",
    "# Hitung accuracy\n",
    "acc_sco = round(accuracy_score(y_testNp, y_pred)*100, 2)\n",
    "acc_log = round(random_forest.score(X_train, y_trainNp)*100, 2)\n",
    "print(acc_sco,'%')\n",
    "print(acc_log,'%')"
   ]
  },
  {
   "cell_type": "markdown",
   "id": "f15561c3",
   "metadata": {},
   "source": [
    "## Other Method: Ensemble"
   ]
  },
  {
   "cell_type": "code",
   "execution_count": 643,
   "id": "3ff735e4",
   "metadata": {},
   "outputs": [
    {
     "name": "stdout",
     "output_type": "stream",
     "text": [
      "82.68 %\n",
      "86.8 %\n"
     ]
    }
   ],
   "source": [
    "# Memakai Ensemble\n",
    "ensemble = VC(estimators=[\n",
    "    ('lr', logReg),\n",
    "    ('lda', lda),\n",
    "    ('qda', qda),\n",
    "    ('nb', naBa),\n",
    "    ('p-qda', pasting), \n",
    "    ('decision', decision_tree),\n",
    "    ('random-forest', random_forest)\n",
    "    ], voting='soft')\n",
    "ensemble.fit(X_train, y_trainNp)\n",
    "y_pred = ensemble.predict(X_test)\n",
    "\n",
    "# Hitung accuracy\n",
    "acc_sco = round(accuracy_score(y_testNp, y_pred)*100, 2)\n",
    "acc_log = round(ensemble.score(X_train, y_trainNp)*100, 2)\n",
    "print(acc_sco,'%')\n",
    "print(acc_log,'%')"
   ]
  },
  {
   "cell_type": "markdown",
   "id": "b2387060",
   "metadata": {},
   "source": [
    "Memakai Ensemble ternyata baik karena accuracy score bagus, berarti baik di training data"
   ]
  }
 ],
 "metadata": {
  "kernelspec": {
   "display_name": "Python 3 (ipykernel)",
   "language": "python",
   "name": "python3"
  },
  "language_info": {
   "codemirror_mode": {
    "name": "ipython",
    "version": 3
   },
   "file_extension": ".py",
   "mimetype": "text/x-python",
   "name": "python",
   "nbconvert_exporter": "python",
   "pygments_lexer": "ipython3",
   "version": "3.10.4"
  }
 },
 "nbformat": 4,
 "nbformat_minor": 5
}
