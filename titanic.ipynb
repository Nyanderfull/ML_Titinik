{
 "cells": [
  {
   "cell_type": "markdown",
   "id": "61e763d0-d847-409c-9734-8f81332cc015",
   "metadata": {
    "tags": []
   },
   "source": [
    "# Titanic dataset\n",
    "## Introduction\n",
    "\n",
    "Dataset yang digunakan merupakan data yang terkumpul dari penumpang kapal Titanic yang tenggelam pada tahun 1912 karena bertabrakan dengan gunung es. Ada beberapa variabel yang perlu dijelaskan dalam dataset tersebut:\n",
    "\n",
    "##### Survived\n",
    "Kondisi penumpang tersebut pasca-tabrakan (0=mati, 1=hidup)\n",
    "##### Pclass\n",
    "Kelas dari penumpang tersebut\n",
    "##### SibSp\n",
    "Jumlah saudara atau pasangan di kapal\n",
    "##### Parch\n",
    "Jumlah orang tua atau anak di kapal\n",
    "##### Embarked\n",
    "Pelabuhan penumpang tersebut naik (Cherbourg, Queenstown, Southampton)\n",
    "\n",
    "* Name, Sex, Age, Ticket, dan Fare sudah intuitif\n",
    "\n",
    "Tujuan dari model ini adalah menggunakan machine learning untuk mencari pola dari penumpang yang berhasil bertahan hidup setelah kapal karam dengan cara classification menggunakan Logistic Regression."
   ]
  },
  {
   "cell_type": "code",
   "execution_count": 608,
   "id": "397f213f-472b-43f5-b236-93f318e8b339",
   "metadata": {
    "tags": []
   },
   "outputs": [],
   "source": [
    "# imports\n",
    "# essentials\n",
    "import pandas as pd\n",
    "import numpy as np\n",
    "from matplotlib import pyplot as plt\n",
    "import seaborn as sns\n",
    "# models\n",
    "import statsmodels.api as sm\n",
    "from sklearn.linear_model import LogisticRegression\n",
    "from sklearn.discriminant_analysis import LinearDiscriminantAnalysis as LDA\n",
    "from sklearn.discriminant_analysis import QuadraticDiscriminantAnalysis as QDA\n",
    "from sklearn.ensemble import VotingClassifier as VC\n",
    "from sklearn.ensemble import BaggingClassifier as BC\n",
    "from sklearn.tree import DecisionTreeClassifier as DT\n",
    "from sklearn.ensemble import RandomForestClassifier as RFC\n",
    "from sklearn.naive_bayes import GaussianNB\n",
    "from sklearn.metrics import accuracy_score\n",
    "from sklearn.metrics import roc_curve\n",
    "# dataset split\n",
    "from sklearn.model_selection import train_test_split"
   ]
  },
  {
   "cell_type": "markdown",
   "id": "0c0fcf76-63b6-4472-a296-efcd6721021b",
   "metadata": {
    "jp-MarkdownHeadingCollapsed": true,
    "tags": []
   },
   "source": [
    "## Data cleaning and preprocessing"
   ]
  },
  {
   "cell_type": "code",
   "execution_count": 609,
   "id": "2b989fa6-6774-4bf4-b3d8-5d4408c54851",
   "metadata": {
    "tags": []
   },
   "outputs": [
    {
     "name": "stdout",
     "output_type": "stream",
     "text": [
      "<class 'pandas.core.frame.DataFrame'>\n",
      "RangeIndex: 891 entries, 0 to 890\n",
      "Data columns (total 12 columns):\n",
      " #   Column       Non-Null Count  Dtype  \n",
      "---  ------       --------------  -----  \n",
      " 0   PassengerId  891 non-null    int64  \n",
      " 1   Survived     891 non-null    int64  \n",
      " 2   Pclass       891 non-null    int64  \n",
      " 3   Name         891 non-null    object \n",
      " 4   Sex          891 non-null    object \n",
      " 5   Age          714 non-null    float64\n",
      " 6   SibSp        891 non-null    int64  \n",
      " 7   Parch        891 non-null    int64  \n",
      " 8   Ticket       891 non-null    object \n",
      " 9   Fare         891 non-null    float64\n",
      " 10  Cabin        204 non-null    object \n",
      " 11  Embarked     889 non-null    object \n",
      "dtypes: float64(2), int64(5), object(5)\n",
      "memory usage: 83.7+ KB\n"
     ]
    }
   ],
   "source": [
    "# pengecekan data\n",
    "data = pd.read_csv('titanic.csv')\n",
    "data.info()"
   ]
  },
  {
   "cell_type": "code",
   "execution_count": 610,
   "id": "6487fb79-9cba-4a6e-ae6f-454bbf29e862",
   "metadata": {
    "tags": []
   },
   "outputs": [
  "cells": [
    {
      "cell_type": "markdown",
      "id": "61e763d0-d847-409c-9734-8f81332cc015",
      "metadata": {
        "tags": [],
        "id": "61e763d0-d847-409c-9734-8f81332cc015"
      },
      "source": [
        "# Titanic dataset\n",
        "## Introduction\n",
        "\n",
        "Dataset yang digunakan merupakan data yang terkumpul dari penumpang kapal Titanic yang tenggelam pada tahun 1912 karena bertabrakan dengan gunung es. Ada beberapa variabel yang perlu dijelaskan dalam dataset tersebut:\n",
        "\n",
        "##### Survived\n",
        "Kondisi penumpang tersebut pasca-tabrakan (0=mati, 1=hidup)\n",
        "##### Pclass\n",
        "Kelas dari penumpang tersebut\n",
        "##### SibSp\n",
        "Jumlah saudara atau pasangan di kapal\n",
        "##### Parch\n",
        "Jumlah orang tua atau anak di kapal\n",
        "##### Embarked\n",
        "Pelabuhan penumpang tersebut naik (Cherbourg, Queenstown, Southampton)\n",
        "\n",
        "* Name, Sex, Age, Ticket, dan Fare sudah intuitif\n",
        "\n",
        "Tujuan dari model ini adalah menggunakan machine learning untuk mencari pola dari penumpang yang berhasil bertahan hidup setelah kapal karam dengan cara classification."
      ]
    },
    {
      "cell_type": "code",
      "execution_count": 6,
      "id": "397f213f-472b-43f5-b236-93f318e8b339",
      "metadata": {
        "tags": [],
        "id": "397f213f-472b-43f5-b236-93f318e8b339"
      },
      "outputs": [],
      "source": [
        "# imports\n",
        "# essentials\n",
        "import pandas as pd\n",
        "import numpy as np\n",
        "from matplotlib import pyplot as plt\n",
        "import seaborn as sns\n",
        "# models\n",
        "import statsmodels.api as sm\n",
        "from sklearn.linear_model import LogisticRegression\n",
        "from sklearn.discriminant_analysis import LinearDiscriminantAnalysis as LDA\n",
        "from sklearn.discriminant_analysis import QuadraticDiscriminantAnalysis as QDA\n",
        "from sklearn.naive_bayes import GaussianNB\n",
        "from sklearn.metrics import accuracy_score\n",
        "from sklearn.metrics import roc_curve\n",
        "# dataset split\n",
        "from sklearn.model_selection import train_test_split"
      ]
    },
    {
      "cell_type": "markdown",
      "id": "0c0fcf76-63b6-4472-a296-efcd6721021b",
      "metadata": {
        "tags": [],
        "id": "0c0fcf76-63b6-4472-a296-efcd6721021b"
      },
      "source": [
        "## Data cleaning and preprocessing"
      ]
    },
    {
      "cell_type": "code",
      "execution_count": null,
      "id": "2b989fa6-6774-4bf4-b3d8-5d4408c54851",
      "metadata": {
        "tags": [],
        "id": "2b989fa6-6774-4bf4-b3d8-5d4408c54851",
        "outputId": "b3a9e7bd-44a5-4902-f512-d9631e9239f0"
      },
      "outputs": [
        {
          "name": "stdout",
          "output_type": "stream",
          "text": [
            "<class 'pandas.core.frame.DataFrame'>\n",
            "RangeIndex: 891 entries, 0 to 890\n",
            "Data columns (total 12 columns):\n",
            " #   Column       Non-Null Count  Dtype  \n",
            "---  ------       --------------  -----  \n",
            " 0   PassengerId  891 non-null    int64  \n",
            " 1   Survived     891 non-null    int64  \n",
            " 2   Pclass       891 non-null    int64  \n",
            " 3   Name         891 non-null    object \n",
            " 4   Sex          891 non-null    object \n",
            " 5   Age          714 non-null    float64\n",
            " 6   SibSp        891 non-null    int64  \n",
            " 7   Parch        891 non-null    int64  \n",
            " 8   Ticket       891 non-null    object \n",
            " 9   Fare         891 non-null    float64\n",
            " 10  Cabin        204 non-null    object \n",
            " 11  Embarked     889 non-null    object \n",
            "dtypes: float64(2), int64(5), object(5)\n",
            "memory usage: 83.7+ KB\n"
          ]
        }
      ],
      "source": [
        "# pengecekan data\n",
        "data = pd.read_csv('titanic.csv')\n",
        "data.info()"
      ]
<<<<<<< HEAD
     },
     "execution_count": 610,
     "metadata": {},
     "output_type": "execute_result"
    }
   ],
   "source": [
    "data.describe()"
   ]
  },
  {
   "cell_type": "code",
   "execution_count": 611,
   "id": "f3a849cb-c1b8-487c-b5ac-ec84792a1e45",
   "metadata": {
    "tags": []
   },
   "outputs": [],
   "source": [
    "# banyak data yang kosong di Age dan Cabin\n",
    "# ada 2 penumpang tanpa pelabuhan yang tercatat\n",
    "# sekitar 38.4% penumpang bertahan hidup\n",
    "# umur penumpang berada diantara 0.4 dan 80\n",
    "# Sex, Ticket, Cabin, dan Embarked sebaiknya diubah menjadi value numerik supaya dapat dipakai"
   ]
  },
  {
   "cell_type": "code",
   "execution_count": 612,
   "id": "110857e1-46a6-414a-8e0b-e435f8261220",
   "metadata": {
    "tags": []
   },
   "outputs": [
=======
    },
>>>>>>> 34635dcf4de93ecaeed13ba4b3839172bc007d82
    {
      "cell_type": "code",
      "execution_count": null,
      "id": "6487fb79-9cba-4a6e-ae6f-454bbf29e862",
      "metadata": {
        "tags": [],
        "id": "6487fb79-9cba-4a6e-ae6f-454bbf29e862",
        "outputId": "fecff955-b57d-4d29-9f53-5f68cc5c63ce"
      },
      "outputs": [
        {
          "data": {
            "text/html": [
              "<div>\n",
              "<style scoped>\n",
              "    .dataframe tbody tr th:only-of-type {\n",
              "        vertical-align: middle;\n",
              "    }\n",
              "\n",
              "    .dataframe tbody tr th {\n",
              "        vertical-align: top;\n",
              "    }\n",
              "\n",
              "    .dataframe thead th {\n",
              "        text-align: right;\n",
              "    }\n",
              "</style>\n",
              "<table border=\"1\" class=\"dataframe\">\n",
              "  <thead>\n",
              "    <tr style=\"text-align: right;\">\n",
              "      <th></th>\n",
              "      <th>PassengerId</th>\n",
              "      <th>Survived</th>\n",
              "      <th>Pclass</th>\n",
              "      <th>Age</th>\n",
              "      <th>SibSp</th>\n",
              "      <th>Parch</th>\n",
              "      <th>Fare</th>\n",
              "    </tr>\n",
              "  </thead>\n",
              "  <tbody>\n",
              "    <tr>\n",
              "      <th>count</th>\n",
              "      <td>891.000000</td>\n",
              "      <td>891.000000</td>\n",
              "      <td>891.000000</td>\n",
              "      <td>714.000000</td>\n",
              "      <td>891.000000</td>\n",
              "      <td>891.000000</td>\n",
              "      <td>891.000000</td>\n",
              "    </tr>\n",
              "    <tr>\n",
              "      <th>mean</th>\n",
              "      <td>446.000000</td>\n",
              "      <td>0.383838</td>\n",
              "      <td>2.308642</td>\n",
              "      <td>29.699118</td>\n",
              "      <td>0.523008</td>\n",
              "      <td>0.381594</td>\n",
              "      <td>32.204208</td>\n",
              "    </tr>\n",
              "    <tr>\n",
              "      <th>std</th>\n",
              "      <td>257.353842</td>\n",
              "      <td>0.486592</td>\n",
              "      <td>0.836071</td>\n",
              "      <td>14.526497</td>\n",
              "      <td>1.102743</td>\n",
              "      <td>0.806057</td>\n",
              "      <td>49.693429</td>\n",
              "    </tr>\n",
              "    <tr>\n",
              "      <th>min</th>\n",
              "      <td>1.000000</td>\n",
              "      <td>0.000000</td>\n",
              "      <td>1.000000</td>\n",
              "      <td>0.420000</td>\n",
              "      <td>0.000000</td>\n",
              "      <td>0.000000</td>\n",
              "      <td>0.000000</td>\n",
              "    </tr>\n",
              "    <tr>\n",
              "      <th>25%</th>\n",
              "      <td>223.500000</td>\n",
              "      <td>0.000000</td>\n",
              "      <td>2.000000</td>\n",
              "      <td>20.125000</td>\n",
              "      <td>0.000000</td>\n",
              "      <td>0.000000</td>\n",
              "      <td>7.910400</td>\n",
              "    </tr>\n",
              "    <tr>\n",
              "      <th>50%</th>\n",
              "      <td>446.000000</td>\n",
              "      <td>0.000000</td>\n",
              "      <td>3.000000</td>\n",
              "      <td>28.000000</td>\n",
              "      <td>0.000000</td>\n",
              "      <td>0.000000</td>\n",
              "      <td>14.454200</td>\n",
              "    </tr>\n",
              "    <tr>\n",
              "      <th>75%</th>\n",
              "      <td>668.500000</td>\n",
              "      <td>1.000000</td>\n",
              "      <td>3.000000</td>\n",
              "      <td>38.000000</td>\n",
              "      <td>1.000000</td>\n",
              "      <td>0.000000</td>\n",
              "      <td>31.000000</td>\n",
              "    </tr>\n",
              "    <tr>\n",
              "      <th>max</th>\n",
              "      <td>891.000000</td>\n",
              "      <td>1.000000</td>\n",
              "      <td>3.000000</td>\n",
              "      <td>80.000000</td>\n",
              "      <td>8.000000</td>\n",
              "      <td>6.000000</td>\n",
              "      <td>512.329200</td>\n",
              "    </tr>\n",
              "  </tbody>\n",
              "</table>\n",
              "</div>"
            ],
            "text/plain": [
              "       PassengerId    Survived      Pclass         Age       SibSp  \\\n",
              "count   891.000000  891.000000  891.000000  714.000000  891.000000   \n",
              "mean    446.000000    0.383838    2.308642   29.699118    0.523008   \n",
              "std     257.353842    0.486592    0.836071   14.526497    1.102743   \n",
              "min       1.000000    0.000000    1.000000    0.420000    0.000000   \n",
              "25%     223.500000    0.000000    2.000000   20.125000    0.000000   \n",
              "50%     446.000000    0.000000    3.000000   28.000000    0.000000   \n",
              "75%     668.500000    1.000000    3.000000   38.000000    1.000000   \n",
              "max     891.000000    1.000000    3.000000   80.000000    8.000000   \n",
              "\n",
              "            Parch        Fare  \n",
              "count  891.000000  891.000000  \n",
              "mean     0.381594   32.204208  \n",
              "std      0.806057   49.693429  \n",
              "min      0.000000    0.000000  \n",
              "25%      0.000000    7.910400  \n",
              "50%      0.000000   14.454200  \n",
              "75%      0.000000   31.000000  \n",
              "max      6.000000  512.329200  "
            ]
          },
          "execution_count": 3,
          "metadata": {},
          "output_type": "execute_result"
        }
      ],
      "source": [
        "data.describe()"
      ]
<<<<<<< HEAD
     },
     "execution_count": 612,
     "metadata": {},
     "output_type": "execute_result"
    }
   ],
   "source": [
    "data.head(10)"
   ]
  },
  {
   "cell_type": "markdown",
   "id": "69c1c93d-1017-466a-b962-427aaa4efc0b",
   "metadata": {},
   "source": [
    "### Age cleaning"
   ]
  },
  {
   "cell_type": "code",
   "execution_count": 613,
   "id": "011ffb1e-a200-4757-95cc-4a8d87a0e837",
   "metadata": {},
   "outputs": [
=======
    },
>>>>>>> 34635dcf4de93ecaeed13ba4b3839172bc007d82
    {
      "cell_type": "code",
      "execution_count": null,
      "id": "f3a849cb-c1b8-487c-b5ac-ec84792a1e45",
      "metadata": {
        "tags": [],
        "id": "f3a849cb-c1b8-487c-b5ac-ec84792a1e45"
      },
      "outputs": [],
      "source": [
        "# banyak data yang kosong di Age dan Cabin\n",
        "# ada 2 penumpang tanpa pelabuhan yang tercatat\n",
        "# sekitar 38.4% penumpang bertahan hidup\n",
        "# umur penumpang berada diantara 0.4 dan 80\n",
        "# Sex, Ticket, Cabin, dan Embarked sebaiknya diubah menjadi value numerik supaya dapat dipakai"
      ]
<<<<<<< HEAD
     },
     "execution_count": 613,
     "metadata": {},
     "output_type": "execute_result"
    }
   ],
   "source": [
    "data['Age'].describe()"
   ]
  },
  {
   "cell_type": "code",
   "execution_count": 614,
   "id": "2e8da5ae-0abc-4b94-87de-5af0629278c5",
   "metadata": {
    "tags": []
   },
   "outputs": [
    {
     "name": "stderr",
     "output_type": "stream",
     "text": [
      "c:\\Users\\ADI CHRISTIAN\\AppData\\Local\\Programs\\Python\\Python310\\lib\\site-packages\\seaborn\\_decorators.py:36: FutureWarning: Pass the following variable as a keyword arg: x. From version 0.12, the only valid positional argument will be `data`, and passing other arguments without an explicit keyword will result in an error or misinterpretation.\n",
      "  warnings.warn(\n"
     ]
    },
    {
     "data": {
      "text/plain": [
       "<AxesSubplot:xlabel='Age'>"
      ]
     },
     "execution_count": 614,
     "metadata": {},
     "output_type": "execute_result"
    },
    {
     "data": {
      "image/png": "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",
      "text/plain": [
       "<Figure size 640x480 with 1 Axes>"
      ]
     },
     "metadata": {},
     "output_type": "display_data"
    }
   ],
   "source": [
    "# mencari outlier\n",
    "sns.boxplot(data['Age'])"
   ]
  },
  {
   "cell_type": "code",
   "execution_count": 615,
   "id": "d78274a6-7ee7-49b8-a382-60aa7850c0d5",
   "metadata": {
    "tags": []
   },
   "outputs": [
=======
    },
    {
      "cell_type": "code",
      "execution_count": null,
      "id": "110857e1-46a6-414a-8e0b-e435f8261220",
      "metadata": {
        "tags": [],
        "id": "110857e1-46a6-414a-8e0b-e435f8261220",
        "outputId": "65254549-cf2c-4904-9574-c80e74123289"
      },
      "outputs": [
        {
          "data": {
            "text/html": [
              "<div>\n",
              "<style scoped>\n",
              "    .dataframe tbody tr th:only-of-type {\n",
              "        vertical-align: middle;\n",
              "    }\n",
              "\n",
              "    .dataframe tbody tr th {\n",
              "        vertical-align: top;\n",
              "    }\n",
              "\n",
              "    .dataframe thead th {\n",
              "        text-align: right;\n",
              "    }\n",
              "</style>\n",
              "<table border=\"1\" class=\"dataframe\">\n",
              "  <thead>\n",
              "    <tr style=\"text-align: right;\">\n",
              "      <th></th>\n",
              "      <th>PassengerId</th>\n",
              "      <th>Survived</th>\n",
              "      <th>Pclass</th>\n",
              "      <th>Name</th>\n",
              "      <th>Sex</th>\n",
              "      <th>Age</th>\n",
              "      <th>SibSp</th>\n",
              "      <th>Parch</th>\n",
              "      <th>Ticket</th>\n",
              "      <th>Fare</th>\n",
              "      <th>Cabin</th>\n",
              "      <th>Embarked</th>\n",
              "    </tr>\n",
              "  </thead>\n",
              "  <tbody>\n",
              "    <tr>\n",
              "      <th>0</th>\n",
              "      <td>1</td>\n",
              "      <td>0</td>\n",
              "      <td>3</td>\n",
              "      <td>Braund, Mr. Owen Harris</td>\n",
              "      <td>male</td>\n",
              "      <td>22.0</td>\n",
              "      <td>1</td>\n",
              "      <td>0</td>\n",
              "      <td>A/5 21171</td>\n",
              "      <td>7.2500</td>\n",
              "      <td>NaN</td>\n",
              "      <td>S</td>\n",
              "    </tr>\n",
              "    <tr>\n",
              "      <th>1</th>\n",
              "      <td>2</td>\n",
              "      <td>1</td>\n",
              "      <td>1</td>\n",
              "      <td>Cumings, Mrs. John Bradley (Florence Briggs Th...</td>\n",
              "      <td>female</td>\n",
              "      <td>38.0</td>\n",
              "      <td>1</td>\n",
              "      <td>0</td>\n",
              "      <td>PC 17599</td>\n",
              "      <td>71.2833</td>\n",
              "      <td>C85</td>\n",
              "      <td>C</td>\n",
              "    </tr>\n",
              "    <tr>\n",
              "      <th>2</th>\n",
              "      <td>3</td>\n",
              "      <td>1</td>\n",
              "      <td>3</td>\n",
              "      <td>Heikkinen, Miss. Laina</td>\n",
              "      <td>female</td>\n",
              "      <td>26.0</td>\n",
              "      <td>0</td>\n",
              "      <td>0</td>\n",
              "      <td>STON/O2. 3101282</td>\n",
              "      <td>7.9250</td>\n",
              "      <td>NaN</td>\n",
              "      <td>S</td>\n",
              "    </tr>\n",
              "    <tr>\n",
              "      <th>3</th>\n",
              "      <td>4</td>\n",
              "      <td>1</td>\n",
              "      <td>1</td>\n",
              "      <td>Futrelle, Mrs. Jacques Heath (Lily May Peel)</td>\n",
              "      <td>female</td>\n",
              "      <td>35.0</td>\n",
              "      <td>1</td>\n",
              "      <td>0</td>\n",
              "      <td>113803</td>\n",
              "      <td>53.1000</td>\n",
              "      <td>C123</td>\n",
              "      <td>S</td>\n",
              "    </tr>\n",
              "    <tr>\n",
              "      <th>4</th>\n",
              "      <td>5</td>\n",
              "      <td>0</td>\n",
              "      <td>3</td>\n",
              "      <td>Allen, Mr. William Henry</td>\n",
              "      <td>male</td>\n",
              "      <td>35.0</td>\n",
              "      <td>0</td>\n",
              "      <td>0</td>\n",
              "      <td>373450</td>\n",
              "      <td>8.0500</td>\n",
              "      <td>NaN</td>\n",
              "      <td>S</td>\n",
              "    </tr>\n",
              "    <tr>\n",
              "      <th>5</th>\n",
              "      <td>6</td>\n",
              "      <td>0</td>\n",
              "      <td>3</td>\n",
              "      <td>Moran, Mr. James</td>\n",
              "      <td>male</td>\n",
              "      <td>NaN</td>\n",
              "      <td>0</td>\n",
              "      <td>0</td>\n",
              "      <td>330877</td>\n",
              "      <td>8.4583</td>\n",
              "      <td>NaN</td>\n",
              "      <td>Q</td>\n",
              "    </tr>\n",
              "    <tr>\n",
              "      <th>6</th>\n",
              "      <td>7</td>\n",
              "      <td>0</td>\n",
              "      <td>1</td>\n",
              "      <td>McCarthy, Mr. Timothy J</td>\n",
              "      <td>male</td>\n",
              "      <td>54.0</td>\n",
              "      <td>0</td>\n",
              "      <td>0</td>\n",
              "      <td>17463</td>\n",
              "      <td>51.8625</td>\n",
              "      <td>E46</td>\n",
              "      <td>S</td>\n",
              "    </tr>\n",
              "    <tr>\n",
              "      <th>7</th>\n",
              "      <td>8</td>\n",
              "      <td>0</td>\n",
              "      <td>3</td>\n",
              "      <td>Palsson, Master. Gosta Leonard</td>\n",
              "      <td>male</td>\n",
              "      <td>2.0</td>\n",
              "      <td>3</td>\n",
              "      <td>1</td>\n",
              "      <td>349909</td>\n",
              "      <td>21.0750</td>\n",
              "      <td>NaN</td>\n",
              "      <td>S</td>\n",
              "    </tr>\n",
              "    <tr>\n",
              "      <th>8</th>\n",
              "      <td>9</td>\n",
              "      <td>1</td>\n",
              "      <td>3</td>\n",
              "      <td>Johnson, Mrs. Oscar W (Elisabeth Vilhelmina Berg)</td>\n",
              "      <td>female</td>\n",
              "      <td>27.0</td>\n",
              "      <td>0</td>\n",
              "      <td>2</td>\n",
              "      <td>347742</td>\n",
              "      <td>11.1333</td>\n",
              "      <td>NaN</td>\n",
              "      <td>S</td>\n",
              "    </tr>\n",
              "    <tr>\n",
              "      <th>9</th>\n",
              "      <td>10</td>\n",
              "      <td>1</td>\n",
              "      <td>2</td>\n",
              "      <td>Nasser, Mrs. Nicholas (Adele Achem)</td>\n",
              "      <td>female</td>\n",
              "      <td>14.0</td>\n",
              "      <td>1</td>\n",
              "      <td>0</td>\n",
              "      <td>237736</td>\n",
              "      <td>30.0708</td>\n",
              "      <td>NaN</td>\n",
              "      <td>C</td>\n",
              "    </tr>\n",
              "  </tbody>\n",
              "</table>\n",
              "</div>"
            ],
            "text/plain": [
              "   PassengerId  Survived  Pclass  \\\n",
              "0            1         0       3   \n",
              "1            2         1       1   \n",
              "2            3         1       3   \n",
              "3            4         1       1   \n",
              "4            5         0       3   \n",
              "5            6         0       3   \n",
              "6            7         0       1   \n",
              "7            8         0       3   \n",
              "8            9         1       3   \n",
              "9           10         1       2   \n",
              "\n",
              "                                                Name     Sex   Age  SibSp  \\\n",
              "0                            Braund, Mr. Owen Harris    male  22.0      1   \n",
              "1  Cumings, Mrs. John Bradley (Florence Briggs Th...  female  38.0      1   \n",
              "2                             Heikkinen, Miss. Laina  female  26.0      0   \n",
              "3       Futrelle, Mrs. Jacques Heath (Lily May Peel)  female  35.0      1   \n",
              "4                           Allen, Mr. William Henry    male  35.0      0   \n",
              "5                                   Moran, Mr. James    male   NaN      0   \n",
              "6                            McCarthy, Mr. Timothy J    male  54.0      0   \n",
              "7                     Palsson, Master. Gosta Leonard    male   2.0      3   \n",
              "8  Johnson, Mrs. Oscar W (Elisabeth Vilhelmina Berg)  female  27.0      0   \n",
              "9                Nasser, Mrs. Nicholas (Adele Achem)  female  14.0      1   \n",
              "\n",
              "   Parch            Ticket     Fare Cabin Embarked  \n",
              "0      0         A/5 21171   7.2500   NaN        S  \n",
              "1      0          PC 17599  71.2833   C85        C  \n",
              "2      0  STON/O2. 3101282   7.9250   NaN        S  \n",
              "3      0            113803  53.1000  C123        S  \n",
              "4      0            373450   8.0500   NaN        S  \n",
              "5      0            330877   8.4583   NaN        Q  \n",
              "6      0             17463  51.8625   E46        S  \n",
              "7      1            349909  21.0750   NaN        S  \n",
              "8      2            347742  11.1333   NaN        S  \n",
              "9      0            237736  30.0708   NaN        C  "
            ]
          },
          "execution_count": 5,
          "metadata": {},
          "output_type": "execute_result"
        }
      ],
      "source": [
        "data.head(10)"
      ]
    },
    {
      "cell_type": "markdown",
      "id": "69c1c93d-1017-466a-b962-427aaa4efc0b",
      "metadata": {
        "id": "69c1c93d-1017-466a-b962-427aaa4efc0b"
      },
      "source": [
        "### Age cleaning"
      ]
    },
>>>>>>> 34635dcf4de93ecaeed13ba4b3839172bc007d82
    {
      "cell_type": "code",
      "execution_count": null,
      "id": "011ffb1e-a200-4757-95cc-4a8d87a0e837",
      "metadata": {
        "id": "011ffb1e-a200-4757-95cc-4a8d87a0e837",
        "outputId": "81799273-cf75-41c5-ec6c-09b675493986"
      },
      "outputs": [
        {
          "data": {
            "text/plain": [
              "count    714.000000\n",
              "mean      29.699118\n",
              "std       14.526497\n",
              "min        0.420000\n",
              "25%       20.125000\n",
              "50%       28.000000\n",
              "75%       38.000000\n",
              "max       80.000000\n",
              "Name: Age, dtype: float64"
            ]
          },
          "execution_count": 6,
          "metadata": {},
          "output_type": "execute_result"
        }
      ],
      "source": [
        "data['Age'].describe()"
      ]
<<<<<<< HEAD
     },
     "execution_count": 615,
     "metadata": {},
     "output_type": "execute_result"
    }
   ],
   "source": [
    "data.loc[np.where(data['Age']>65)]['Age']"
   ]
  },
  {
   "cell_type": "code",
   "execution_count": 616,
   "id": "b631166b-73e3-42e6-8ae0-6ceb440e73cf",
   "metadata": {
    "tags": []
   },
   "outputs": [
    {
     "data": {
      "text/plain": [
       "<AxesSubplot:xlabel='Age', ylabel='Count'>"
      ]
     },
     "execution_count": 616,
     "metadata": {},
     "output_type": "execute_result"
    },
    {
     "data": {
      "image/png": "iVBORw0KGgoAAAANSUhEUgAAAjsAAAGwCAYAAABPSaTdAAAAOXRFWHRTb2Z0d2FyZQBNYXRwbG90bGliIHZlcnNpb24zLjUuMSwgaHR0cHM6Ly9tYXRwbG90bGliLm9yZy/YYfK9AAAACXBIWXMAAA9hAAAPYQGoP6dpAAAq10lEQVR4nO3de3SU9Z3H8c8AuSEkAWJumiHR0gRQBLnEiG6rZEVFV1a2hS3pwaJiKXdchVSBQsV4OSJVIykul3qqovQIxUthMSguNUaIcomGgDUYiiQ4YjJcQoDkt39wmO4IWEieYWZ+vF/nPOcwv9+TL99fH0/49Jnn4jLGGAEAAFiqTbAbAAAACCTCDgAAsBphBwAAWI2wAwAArEbYAQAAViPsAAAAqxF2AACA1doFu4FQ0NzcrK+++kodO3aUy+UKdjsAAOAsGGN04MABpaamqk2bM5+/IexI+uqrr5SWlhbsNgAAQAvs3r1bl1566RnnCTuSOnbsKOnE/1ixsbFB7gYAAJwNr9ertLQ037/jZ0LYkXxfXcXGxhJ2AAAIM//sEhQuUAYAAFYj7AAAAKsRdgAAgNUIOwAAwGpBDTvvv/++br/9dqWmpsrlcmnlypV+88YYzZw5UykpKYqJiVFubq527tzpt8/+/fs1cuRIxcbGKj4+XnfffbcOHjx4HlcBAABCWVDDzqFDh3TVVVepsLDwtPNPPPGEnnnmGRUVFam0tFQXXXSRBg8erCNHjvj2GTlypD799FOtXbtWb775pt5//32NGTPmfC0BAACEOJcxxgS7CenEbWMrVqzQ0KFDJZ04q5Oamqr7779f//Vf/yVJqq+vV1JSkpYuXaoRI0aooqJCPXr00MaNG9WvXz9J0urVq3Xrrbfq73//u1JTU8/q7/Z6vYqLi1N9fT23ngMAECbO9t/vkL1mp6qqSjU1NcrNzfWNxcXFKTs7WyUlJZKkkpISxcfH+4KOJOXm5qpNmzYqLS09Y+3GxkZ5vV6/DQAA2Clkw05NTY0kKSkpyW88KSnJN1dTU6PExES/+Xbt2qlz586+fU6noKBAcXFxvo1XRQAAYK+QDTuBlJ+fr/r6et+2e/fuYLcEAAACJGTDTnJysiSptrbWb7y2ttY3l5ycrH379vnNHz9+XPv37/ftczpRUVG+V0PwiggAAOwWsmEnIyNDycnJKi4u9o15vV6VlpYqJydHkpSTk6O6ujqVlZX59lm3bp2am5uVnZ193nsGAAChJ6gvAj148KA+//xz3+eqqipt3rxZnTt3ltvt1uTJk/XII4+oW7duysjI0IwZM5Samuq7Y6t79+66+eabde+996qoqEjHjh3T+PHjNWLEiLO+EwsAANgtqGFn06ZNuuGGG3yfp06dKkkaNWqUli5dqgcffFCHDh3SmDFjVFdXp+uuu06rV69WdHS072deeukljR8/XoMGDVKbNm00bNgwPfPMM+d9LQAAIDSFzHN2gonn7OD7VFdXy+PxOF43ISFBbrfb8boAcKE423+/g3pmBwh11dXVysrqroaGw47Xjolpr+3bKwg8ABBghB3ge3g8HjU0HFb26FmKTUl3rK537y6VLp4tj8dD2AGAACPsAGchNiVdnd2ZwW4DANACIXvrOQAAgBMIOwAAwGqEHQAAYDXCDgAAsBphBwAAWI2wAwAArEbYAQAAViPsAAAAqxF2AACA1Qg7AADAaoQdAABgNcIOAACwGmEHAABYjbADAACsRtgBAABWI+wAAACrEXYAAIDVCDsAAMBqhB0AAGA1wg4AALAaYQcAAFiNsAMAAKxG2AEAAFYj7AAAAKsRdgAAgNUIOwAAwGqEHQAAYDXCDgAAsBphBwAAWI2wAwAArEbYAQAAViPsAAAAqxF2AACA1Qg7AADAaoQdAABgNcIOAACwGmEHAABYjbADAACsRtgBAABWI+wAAACrEXYAAIDVCDsAAMBq7YLdAHAhq6ioCEjdhIQEud3ugNQGgHBD2AGCoKH+G0ku5eXlBaR+TEx7bd9eQeABABF2gKA4dviAJKPeP5umizOyHK3t3btLpYtny+PxEHYAQIQdIKg6JLrV2Z0Z7DYAwGqEHcBSXA8EACcQdgDLcD0QAPgj7ACW4XogAPBH2AEsxfVAAHACDxUEAABWI+wAAACrEXYAAIDVCDsAAMBqhB0AAGA1wg4AALAaYQcAAFiNsAMAAKwW0mGnqalJM2bMUEZGhmJiYnT55Zfrt7/9rYwxvn2MMZo5c6ZSUlIUExOj3Nxc7dy5M4hdAwCAUBLSYefxxx/XggUL9Nxzz6miokKPP/64nnjiCT377LO+fZ544gk988wzKioqUmlpqS666CINHjxYR44cCWLnAAAgVIT06yI++OAD3XHHHRoyZIgkKT09Xa+88oo++ugjSSfO6syfP18PP/yw7rjjDknSiy++qKSkJK1cuVIjRow4bd3GxkY1Njb6Pnu93gCvBAAABEtIn9m59tprVVxcrB07dkiStmzZog0bNuiWW26RJFVVVammpka5ubm+n4mLi1N2drZKSkrOWLegoEBxcXG+LS0tLbALAQAAQRPSZ3amT58ur9errKwstW3bVk1NTZo7d65GjhwpSaqpqZEkJSUl+f1cUlKSb+508vPzNXXqVN9nr9dL4AEAwFIhHXZee+01vfTSS3r55ZfVs2dPbd68WZMnT1ZqaqpGjRrV4rpRUVGKiopysFMAABCqQjrsPPDAA5o+fbrv2psrr7xSX375pQoKCjRq1CglJydLkmpra5WSkuL7udraWvXu3TsYLSNIqqur5fF4HK9bUVHheE0AwPkV0mHn8OHDatPG/7Kitm3bqrm5WZKUkZGh5ORkFRcX+8KN1+tVaWmpxo4de77bRZBUV1crK6u7GhoOB+zvONZ4NGC1AQCBFdJh5/bbb9fcuXPldrvVs2dPffLJJ5o3b55Gjx4tSXK5XJo8ebIeeeQRdevWTRkZGZoxY4ZSU1M1dOjQ4DaP88bj8aih4bCyR89SbEq6o7X3bitR+aqFOn78uKN1AQDnT0iHnWeffVYzZszQr371K+3bt0+pqam67777NHPmTN8+Dz74oA4dOqQxY8aorq5O1113nVavXq3o6Oggdo5giE1JV2d3pqM1vXt3OVoPAHD+hXTY6dixo+bPn6/58+efcR+Xy6U5c+Zozpw5568xAAAQNkL6OTsAAACtRdgBAABWI+wAAACrEXYAAIDVCDsAAMBqhB0AAGA1wg4AALAaYQcAAFiNsAMAAKxG2AEAAFYj7AAAAKsRdgAAgNUIOwAAwGqEHQAAYDXCDgAAsBphBwAAWI2wAwAArNYu2A0ACD8VFRWO10xISJDb7Xa8LgAQdgCctYb6byS5lJeX53jtmJj22r69gsADwHGEHQBn7djhA5KMev9smi7OyHKsrnfvLpUuni2Px0PYAeA4wg6Ac9Yh0a3O7sxgtwEAZ4ULlAEAgNUIOwAAwGqEHQAAYDXCDgAAsBphBwAAWI2wAwAArEbYAQAAViPsAAAAqxF2AACA1Qg7AADAaoQdAABgNcIOAACwGmEHAABYjbADAACsRtgBAABWI+wAAACrEXYAAIDVCDsAAMBqhB0AAGA1wg4AALAaYQcAAFiNsAMAAKxG2AEAAFYj7AAAAKsRdgAAgNUIOwAAwGqEHQAAYDXCDgAAsBphBwAAWI2wAwAArEbYAQAAViPsAAAAqxF2AACA1Qg7AADAaoQdAABgNcIOAACwGmEHAABYjbADAACsRtgBAABWI+wAAACrhXzY2bNnj/Ly8tSlSxfFxMToyiuv1KZNm3zzxhjNnDlTKSkpiomJUW5urnbu3BnEjgEAQCgJ6bDz7bffauDAgYqIiNBf/vIXffbZZ3rqqafUqVMn3z5PPPGEnnnmGRUVFam0tFQXXXSRBg8erCNHjgSxcwAAECraBbuB7/P4448rLS1NS5Ys8Y1lZGT4/myM0fz58/Xwww/rjjvukCS9+OKLSkpK0sqVKzVixIjT1m1sbFRjY6Pvs9frDdAKAABAsIX0mZ1Vq1apX79++slPfqLExET16dNHL7zwgm++qqpKNTU1ys3N9Y3FxcUpOztbJSUlZ6xbUFCguLg435aWlhbQdQAAgOAJ6bDzxRdfaMGCBerWrZvWrFmjsWPHauLEifrDH/4gSaqpqZEkJSUl+f1cUlKSb+508vPzVV9f79t2794duEUAAICgCumvsZqbm9WvXz89+uijkqQ+ffqovLxcRUVFGjVqVIvrRkVFKSoqyqk2AQBACAvpMzspKSnq0aOH31j37t1VXV0tSUpOTpYk1dbW+u1TW1vrmwMAABe2kA47AwcOVGVlpd/Yjh071LVrV0knLlZOTk5WcXGxb97r9aq0tFQ5OTnntVcAABCaQvprrClTpujaa6/Vo48+qp/+9Kf66KOPtHDhQi1cuFCS5HK5NHnyZD3yyCPq1q2bMjIyNGPGDKWmpmro0KHBbR4AAISEkA47/fv314oVK5Sfn685c+YoIyND8+fP18iRI337PPjggzp06JDGjBmjuro6XXfddVq9erWio6OD2DkAAAgVIR12JOm2227TbbfddsZ5l8ulOXPmaM6cOeexKwAAEC5C+podAACA1iLsAAAAqxF2AACA1Qg7AADAaoQdAABgtRaFncsuu0zffPPNKeN1dXW67LLLWt0UAACAU1oUdnbt2qWmpqZTxhsbG7Vnz55WNwUAAOCUc3rOzqpVq3x/XrNmjeLi4nyfm5qaVFxcrPT0dMeaAwAAaK1zCjsnX8HgcrlOeet4RESE0tPT9dRTTznWHAAAQGudU9hpbm6WdOIFnBs3blRCQkJAmgIAAHBKi14XUVVV5XQfAAAAAdHid2MVFxeruLhY+/bt853xOWnx4sWtbgwAAMAJLQo7s2fP1pw5c9SvXz+lpKTI5XI53RcAAIAjWhR2ioqKtHTpUv385z93uh8AAABHteg5O0ePHtW1117rdC8AAACOa1HYueeee/Tyyy873QsAAIDjWvQ11pEjR7Rw4UK988476tWrlyIiIvzm582b50hzAAAArdWisLN161b17t1bklReXu43x8XKAAAglLQo7Lz77rtO9wEAABAQLbpmBwAAIFy06MzODTfc8L1fV61bt67FDQEAADipRWHn5PU6Jx07dkybN29WeXn5KS8IBQAACKYWhZ2nn376tOO/+c1vdPDgwVY1BAAA4CRHr9nJy8vjvVgAACCkOBp2SkpKFB0d7WRJAACAVmnR11h33nmn32djjPbu3atNmzZpxowZjjQGAADghBaFnbi4OL/Pbdq0UWZmpubMmaObbrrJkcYAAACc0KKws2TJEqf7AAAACIgWhZ2TysrKVFFRIUnq2bOn+vTp40hTAAAATmlR2Nm3b59GjBih9957T/Hx8ZKkuro63XDDDVq2bJkuvvhiJ3sEAABosRbdjTVhwgQdOHBAn376qfbv36/9+/ervLxcXq9XEydOdLpHAACAFmvRmZ3Vq1frnXfeUffu3X1jPXr0UGFhIRcoAwCAkNKiMzvNzc2KiIg4ZTwiIkLNzc2tbgoAAMApLQo7N954oyZNmqSvvvrKN7Znzx5NmTJFgwYNcqw5AACA1mpR2Hnuuefk9XqVnp6uyy+/XJdffrkyMjLk9Xr17LPPOt0jAABAi7Xomp20tDR9/PHHeuedd7R9+3ZJUvfu3ZWbm+tocwAAAK11Tmd21q1bpx49esjr9crlculf//VfNWHCBE2YMEH9+/dXz5499b//+7+B6hUAAOCcnVPYmT9/vu69917FxsaeMhcXF6f77rtP8+bNc6w5AACA1jqnsLNlyxbdfPPNZ5y/6aabVFZW1uqmAAAAnHJOYae2tva0t5yf1K5dO3399detbgoAAMAp5xR2LrnkEpWXl59xfuvWrUpJSWl1UwAAAE45p7Bz6623asaMGTpy5Mgpcw0NDZo1a5Zuu+02x5oDAABorXO69fzhhx/W66+/rh/+8IcaP368MjMzJUnbt29XYWGhmpqa9NBDDwWkUQAAgJY4p7CTlJSkDz74QGPHjlV+fr6MMZIkl8ulwYMHq7CwUElJSQFpFAAAoCXO+aGCXbt21dtvv61vv/1Wn3/+uYwx6tatmzp16hSI/gAAAFqlRU9QlqROnTqpf//+TvYC4AJXUVERkLoJCQlyu90BqQ0g9LU47ACAUxrqv5HkUl5eXkDqx8S01/btFQQe4AJF2AEQdMcOH5Bk1Ptn03RxRpajtb17d6l08Wx5PB7CDnCBIuwACBkdEt3q7M4MdhsALHNOz9kBAAAIN4QdAABgNcIOAACwGmEHAABYjbADAACsRtgBAABWI+wAAACrEXYAAIDVCDsAAMBqhB0AAGA1wg4AALBaWIWdxx57TC6XS5MnT/aNHTlyROPGjVOXLl3UoUMHDRs2TLW1tcFrEgAAhJSwCTsbN27U73//e/Xq1ctvfMqUKXrjjTe0fPlyrV+/Xl999ZXuvPPOIHUJAABCTViEnYMHD2rkyJF64YUX1KlTJ994fX29Fi1apHnz5unGG29U3759tWTJEn3wwQf68MMPg9gxAAAIFe2C3cDZGDdunIYMGaLc3Fw98sgjvvGysjIdO3ZMubm5vrGsrCy53W6VlJTommuuOW29xsZGNTY2+j57vd6A9V5dXS2PxxOQ2gkJCXK73QGpDQCALUI+7Cxbtkwff/yxNm7ceMpcTU2NIiMjFR8f7zeelJSkmpqaM9YsKCjQ7NmznW71FNXV1crK6q6GhsMBqR8T017bt1cQeAAA+B4hHXZ2796tSZMmae3atYqOjnasbn5+vqZOner77PV6lZaW5lj9kzwejxoaDit79CzFpqQ7Wtu7d5dKF8+Wx+Mh7AAA8D1COuyUlZVp3759uvrqq31jTU1Nev/99/Xcc89pzZo1Onr0qOrq6vzO7tTW1io5OfmMdaOiohQVFRXI1v3EpqSrszvzvP19AADgH0I67AwaNEjbtm3zG/vFL36hrKwsTZs2TWlpaYqIiFBxcbGGDRsmSaqsrFR1dbVycnKC0TIAAAgxIR12OnbsqCuuuMJv7KKLLlKXLl1843fffbemTp2qzp07KzY2VhMmTFBOTs4ZL04GAAAXlpAOO2fj6aefVps2bTRs2DA1NjZq8ODBev7554PdFgAACBFhF3bee+89v8/R0dEqLCxUYWFhcBoCAAAhLSweKggAANBShB0AAGA1wg4AALAaYQcAAFiNsAMAAKxG2AEAAFYj7AAAAKsRdgAAgNUIOwAAwGqEHQAAYLWwe10EALRERUWF4zUbGxsVFRXleF1JSkhIkNvtDkht4EJD2AFgtYb6byS5lJeX53xxl0syxvm6kmJi2mv79goCD+AAwg4Aqx07fECSUe+fTdPFGVmO1d27rUTlqxY6XleSvHt3qXTxbHk8HsIO4ADCDoALQodEtzq7Mx2r5927KyB1ATiPC5QBAIDVCDsAAMBqhB0AAGA1wg4AALAaYQcAAFiNsAMAAKxG2AEAAFYj7AAAAKsRdgAAgNUIOwAAwGq8LgLnVXV1tTwej6M1A/E2awCAPQg7OG+qq6uVldVdDQ2HA1L/WOPRgNQFAIQ3wg7OG4/Ho4aGw8oePUuxKemO1T359unjx487VhMAYA/CDs672JT0gLx9GgCA0+ECZQAAYDXCDgAAsBphBwAAWI2wAwAArMYFygAQogLxDKmEhAS53W7H6wKhjLADACGmof4bSS7l5eU5Xjsmpr22b68g8OCCQtgBgBBz7PABSUa9fzZNF2dkOVbXu3eXShfPlsfjIezggkLYAYAQ1SHR7egzqYALFRcoAwAAqxF2AACA1Qg7AADAaoQdAABgNcIOAACwGmEHAABYjbADAACsRtgBAABWI+wAAACrEXYAAIDVCDsAAMBqhB0AAGA1wg4AALAaYQcAAFiNsAMAAKxG2AEAAFYj7AAAAKsRdgAAgNUIOwAAwGqEHQAAYDXCDgAAsBphBwAAWI2wAwAArEbYAQAAViPsAAAAq4V02CkoKFD//v3VsWNHJSYmaujQoaqsrPTb58iRIxo3bpy6dOmiDh06aNiwYaqtrQ1SxwAAINSEdNhZv369xo0bpw8//FBr167VsWPHdNNNN+nQoUO+faZMmaI33nhDy5cv1/r16/XVV1/pzjvvDGLXAAAglLQLdgPfZ/Xq1X6fly5dqsTERJWVlelf/uVfVF9fr0WLFunll1/WjTfeKElasmSJunfvrg8//FDXXHNNMNoGAAAhJKTP7HxXfX29JKlz586SpLKyMh07dky5ubm+fbKysuR2u1VSUnLGOo2NjfJ6vX4bAACwU9iEnebmZk2ePFkDBw7UFVdcIUmqqalRZGSk4uPj/fZNSkpSTU3NGWsVFBQoLi7Ot6WlpQWydQAAEERhE3bGjRun8vJyLVu2rNW18vPzVV9f79t2797tQIcAACAUhfQ1OyeNHz9eb775pt5//31deumlvvHk5GQdPXpUdXV1fmd3amtrlZycfMZ6UVFRioqKCmTLAAAgRIT0mR1jjMaPH68VK1Zo3bp1ysjI8Jvv27evIiIiVFxc7BurrKxUdXW1cnJyzne7AAAgBIX0mZ1x48bp5Zdf1p///Gd17NjRdx1OXFycYmJiFBcXp7vvvltTp05V586dFRsbqwkTJignJ4c7sQAAgKQQDzsLFiyQJP34xz/2G1+yZInuuusuSdLTTz+tNm3aaNiwYWpsbNTgwYP1/PPPn+dOAQBAqArpsGOM+af7REdHq7CwUIWFheehIwAAEG5C+podAACA1iLsAAAAqxF2AACA1Qg7AADAaoQdAABgNcIOAACwWkjfeg4AcF5FRUVA6iYkJMjtdgekNtAahB0AuEA01H8jyaW8vLyA1I+Jaa/t2ysIPAg5hB0AuEAcO3xAklHvn03TxRlZjtb27t2l0sWz5fF4CDsIOYQdALjAdEh0q7M7M9htAOcNYQenqK6ulsfjcbxuoK4TAADg+xB24Ke6ulpZWd3V0HA4YH/HscajAasNAMB3EXbgx+PxqKHhsLJHz1JsSrqjtfduK1H5qoU6fvy4o3UBAPg+hJ0w5/RXQyfrxaakO/6dvnfvLkfrAQBwNgg7YSrQt5DyVRMAwBaEnTAVqFtI+aoJAGAbwk6Yc/oWUr5qAgDYhrADAHBMIB4xwWso0FqEHQBAqwXyOkJeQ4HWIuwAAFotUNcR8hoKOIGwAwBwDK+iQChqE+wGAAAAAomwAwAArEbYAQAAVuOaHQBAyAvELe0St7VfKAg7AICQFehX43Bb+4WBsAMACFmBuqVd4rb2CwlhBwAQ8rilHa3BBcoAAMBqhB0AAGA1wg4AALAaYQcAAFiNsAMAAKxG2AEAAFYj7AAAAKsRdgAAgNUIOwAAwGqEHQAAYDXCDgAAsBphBwAAWI2wAwAArEbYAQAAViPsAAAAqxF2AACA1Qg7AADAaoQdAABgtXbBbgAAANtUV1fL4/EEpHZCQoLcbndAatuKsAMAgIOqq6uVldVdDQ2HA1I/Jqa9tm+vIPCcA8IOAAAO8ng8amg4rOzRsxSbku5obe/eXSpdPFsej4ewcw4IOwCAC1pFRUVA6sWmpKuzO9PR2mgZwg4A4ILUUP+NJJfy8vICUv9Y49GA1MW5I+wAAC5Ixw4fkGTU+2fTdHFGlmN1924rUfmqhTp+/LhjNdE6hB0AwAWtQ6Lb0a+bvHt3OVYLzuA5OwAAwGqEHQAAYDXCDgAAsBphBwAAWI2wAwAArEbYAQAAViPsAAAAq/GcHQAAwozTr7g4qbGxUVFRUY7XDfab2q0JO4WFhXryySdVU1Ojq666Ss8++6wGDBgQ7LYAAHBMoF9xIZdLMsbxssF+U7sVYefVV1/V1KlTVVRUpOzsbM2fP1+DBw9WZWWlEhMTg90eAACOCNQrLqR/vObC6dqh8KZ2K8LOvHnzdO+99+oXv/iFJKmoqEhvvfWWFi9erOnTpwe5OwAAnOX0Ky6kf7zmIhC1gy3sw87Ro0dVVlam/Px831ibNm2Um5urkpKS0/5MY2OjGhsbfZ/r6+slSV6v19HeDh48KEna/2Wljjc2OFrbu/dLSVL9np2KaOcK+bqBrE3P4V+bns9PbXo+P7XDsedA1vbWVEs68W+i0//Onqxn/tlXbybM7dmzx0gyH3zwgd/4Aw88YAYMGHDan5k1a5aRxMbGxsbGxmbBtnv37u/NCmF/Zqcl8vPzNXXqVN/n5uZm7d+/X126dJHL1fo06/V6lZaWpt27dys2NrbV9UKN7euTWKMNbF+fxBptYPv6pMCu0RijAwcOKDU19Xv3C/uwk5CQoLZt26q2ttZvvLa2VsnJyaf9maioqFNurYuPj3e8t9jYWGv/45XsX5/EGm1g+/ok1mgD29cnBW6NcXFx/3SfsH+oYGRkpPr27avi4mLfWHNzs4qLi5WTkxPEzgAAQCgI+zM7kjR16lSNGjVK/fr104ABAzR//nwdOnTId3cWAAC4cFkRdoYPH66vv/5aM2fOVE1NjXr37q3Vq1crKSkpKP1ERUVp1qxZAXkKZSiwfX0Sa7SB7euTWKMNbF+fFBprdBkTgEclAgAAhIiwv2YHAADg+xB2AACA1Qg7AADAaoQdAABgNcKOwwoLC5Wenq7o6GhlZ2fro48+CnZLLfb+++/r9ttvV2pqqlwul1auXOk3b4zRzJkzlZKSopiYGOXm5mrnzp3BabYFCgoK1L9/f3Xs2FGJiYkaOnSoKisr/fY5cuSIxo0bpy5duqhDhw4aNmzYKQ+wDGULFixQr169fA/zysnJ0V/+8hfffLiv77see+wxuVwuTZ482TcW7mv8zW9+I5fL5bdlZf3jjdThvr6T9uzZo7y8PHXp0kUxMTG68sortWnTJt98uP++SU9PP+U4ulwujRs3TlL4H8empibNmDFDGRkZiomJ0eWXX67f/va3fu+sCuoxbP3bqXDSsmXLTGRkpFm8eLH59NNPzb333mvi4+NNbW1tsFtrkbfffts89NBD5vXXXzeSzIoVK/zmH3vsMRMXF2dWrlxptmzZYv7t3/7NZGRkmIaGhuA0fI4GDx5slixZYsrLy83mzZvNrbfeatxutzl48KBvn1/+8pcmLS3NFBcXm02bNplrrrnGXHvttUHs+tysWrXKvPXWW2bHjh2msrLS/PrXvzYRERGmvLzcGBP+6/v/PvroI5Oenm569eplJk2a5BsP9zXOmjXL9OzZ0+zdu9e3ff311775cF+fMcbs37/fdO3a1dx1112mtLTUfPHFF2bNmjXm888/9+0T7r9v9u3b53cM165daySZd9991xgT/sdx7ty5pkuXLubNN980VVVVZvny5aZDhw7md7/7nW+fYB5Dwo6DBgwYYMaNG+f73NTUZFJTU01BQUEQu3LGd8NOc3OzSU5ONk8++aRvrK6uzkRFRZlXXnklCB223r59+4wks379emPMifVERESY5cuX+/apqKgwkkxJSUmw2my1Tp06mf/+7/+2an0HDhww3bp1M2vXrjU/+tGPfGHHhjXOmjXLXHXVVaeds2F9xhgzbdo0c911151x3sbfN5MmTTKXX365aW5utuI4DhkyxIwePdpv7M477zQjR440xgT/GPI1lkOOHj2qsrIy5ebm+sbatGmj3NxclZSUBLGzwKiqqlJNTY3feuPi4pSdnR22662vr5ckde7cWZJUVlamY8eO+a0xKytLbrc7LNfY1NSkZcuW6dChQ8rJybFqfePGjdOQIUP81iLZcwx37typ1NRUXXbZZRo5cqSqq6sl2bO+VatWqV+/fvrJT36ixMRE9enTRy+88IJv3rbfN0ePHtUf//hHjR49Wi6Xy4rjeO2116q4uFg7duyQJG3ZskUbNmzQLbfcIin4x9CKJyiHAo/Ho6amplOe2pyUlKTt27cHqavAqampkaTTrvfkXDhpbm7W5MmTNXDgQF1xxRWSTqwxMjLylJfEhtsat23bppycHB05ckQdOnTQihUr1KNHD23evNmK9S1btkwff/yxNm7ceMqcDccwOztbS5cuVWZmpvbu3avZs2fr+uuvV3l5uRXrk6QvvvhCCxYs0NSpU/XrX/9aGzdu1MSJExUZGalRo0ZZ9/tm5cqVqqur01133SXJjv9Op0+fLq/Xq6ysLLVt21ZNTU2aO3euRo4cKSn4/2YQdgCdODNQXl6uDRs2BLsVx2VmZmrz5s2qr6/Xn/70J40aNUrr168PdluO2L17tyZNmqS1a9cqOjo62O0ExMn/ZyxJvXr1UnZ2trp27arXXntNMTExQezMOc3NzerXr58effRRSVKfPn1UXl6uoqIijRo1KsjdOW/RokW65ZZblJqaGuxWHPPaa6/ppZde0ssvv6yePXtq8+bNmjx5slJTU0PiGPI1lkMSEhLUtm3bU66er62tVXJycpC6CpyTa7JhvePHj9ebb76pd999V5deeqlvPDk5WUePHlVdXZ3f/uG2xsjISP3gBz9Q3759VVBQoKuuukq/+93vrFhfWVmZ9u3bp6uvvlrt2rVTu3bttH79ej3zzDNq166dkpKSwn6N3xUfH68f/vCH+vzzz604hpKUkpKiHj16+I11797d93WdTb9vvvzyS73zzju65557fGM2HMcHHnhA06dP14gRI3TllVfq5z//uaZMmaKCggJJwT+GhB2HREZGqm/fviouLvaNNTc3q7i4WDk5OUHsLDAyMjKUnJzst16v16vS0tKwWa8xRuPHj9eKFSu0bt06ZWRk+M337dtXERERfmusrKxUdXV12KzxdJqbm9XY2GjF+gYNGqRt27Zp8+bNvq1fv34aOXKk78/hvsbvOnjwoP72t78pJSXFimMoSQMHDjzlsQ87duxQ165dJdnx++akJUuWKDExUUOGDPGN2XAcDx8+rDZt/CNF27Zt1dzcLCkEjmHAL4G+gCxbtsxERUWZpUuXms8++8yMGTPGxMfHm5qammC31iIHDhwwn3zyifnkk0+MJDNv3jzzySefmC+//NIYc+I2wvj4ePPnP//ZbN261dxxxx1hdSvo2LFjTVxcnHnvvff8bgk9fPiwb59f/vKXxu12m3Xr1plNmzaZnJwck5OTE8Suz8306dPN+vXrTVVVldm6dauZPn26cblc5n/+53+MMeG/vtP5/3djGRP+a7z//vvNe++9Z6qqqsxf//pXk5ubaxISEsy+ffuMMeG/PmNOPDagXbt2Zu7cuWbnzp3mpZdeMu3btzd//OMfffuE++8bY07coet2u820adNOmQv34zhq1ChzySWX+G49f/31101CQoJ58MEHffsE8xgSdhz27LPPGrfbbSIjI82AAQPMhx9+GOyWWuzdd981kk7ZRo0aZYw5cSvhjBkzTFJSkomKijKDBg0ylZWVwW36HJxubZLMkiVLfPs0NDSYX/3qV6ZTp06mffv25t///d/N3r17g9f0ORo9erTp2rWriYyMNBdffLEZNGiQL+gYE/7rO53vhp1wX+Pw4cNNSkqKiYyMNJdccokZPny43/Nnwn19J73xxhvmiiuuMFFRUSYrK8ssXLjQbz7cf98YY8yaNWuMpNP2He7H0ev1mkmTJhm3222io6PNZZddZh566CHT2Njo2yeYx9BlzP97vCEAAIBluGYHAABYjbADAACsRtgBAABWI+wAAACrEXYAAIDVCDsAAMBqhB0AAGA1wg4AALAaYQcAAFiNsAMgLJWUlKht27Z+L1QEgNPhdREAwtI999yjDh06aNGiRaqsrFRqamqwWwIQojizAyDsHDx4UK+++qrGjh2rIUOGaOnSpX7zq1atUrdu3RQdHa0bbrhBf/jDH+RyuVRXV+fbZ8OGDbr++usVExOjtLQ0TZw4UYcOHTq/CwFwXhB2AISd1157TVlZWcrMzFReXp4WL16skyepq6qq9B//8R8aOnSotmzZovvuu08PPfSQ38//7W9/080336xhw4Zp69atevXVV7VhwwaNHz8+GMsBEGB8jQUg7AwcOFA//elPNWnSJB0/flwpKSlavny5fvzjH2v69Ol66623tG3bNt/+Dz/8sObOnatvv/1W8fHxuueee9S2bVv9/ve/9+2zYcMG/ehHP9KhQ4cUHR0djGUBCBDO7AAIK5WVlfroo4/0n//5n5Kkdu3aafjw4Vq0aJFvvn///n4/M2DAAL/PW7Zs0dKlS9WhQwffNnjwYDU3N6uqqur8LATAedMu2A0AwLlYtGiRjh8/7ndBsjFGUVFReu65586qxsGDB3Xfffdp4sSJp8y53W7HegUQGgg7AMLG8ePH9eKLL+qpp57STTfd5Dc3dOhQvfLKK8rMzNTbb7/tN7dx40a/z1dffbU+++wz/eAHPwh4zwCCj2t2AISNlStXavjw4dq3b5/i4uL85qZNm6Z169bptddeU2ZmpqZMmaK7775bmzdv1v3336+///3vqqurU1xcnLZu3aprrrlGo0eP1j333KOLLrpIn332mdauXXvWZ4cAhA+u2QEQNhYtWqTc3NxTgo4kDRs2TJs2bdKBAwf0pz/9Sa+//rp69eqlBQsW+O7GioqKkiT16tVL69ev144dO3T99derT58+mjlzJs/qASzFmR0A1ps7d66Kioq0e/fuYLcCIAi4ZgeAdZ5//nn1799fXbp00V//+lc9+eSTPEMHuIARdgBYZ+fOnXrkkUe0f/9+ud1u3X///crPzw92WwCChK+xAACA1bhAGQAAWI2wAwAArEbYAQAAViPsAAAAqxF2AACA1Qg7AADAaoQdAABgNcIOAACw2v8BOXoc3GjJkxoAAAAASUVORK5CYII=",
      "text/plain": [
       "<Figure size 640x480 with 1 Axes>"
      ]
     },
     "metadata": {},
     "output_type": "display_data"
    }
   ],
   "source": [
    "# mencari distribusi\n",
    "sns.histplot(data['Age'])"
   ]
  },
  {
   "cell_type": "code",
   "execution_count": 617,
   "id": "3772687d-2ab4-434e-8ff8-f744bb04ad35",
   "metadata": {
    "tags": []
   },
   "outputs": [
=======
    },
    {
      "cell_type": "code",
      "execution_count": null,
      "id": "2e8da5ae-0abc-4b94-87de-5af0629278c5",
      "metadata": {
        "tags": [],
        "id": "2e8da5ae-0abc-4b94-87de-5af0629278c5",
        "outputId": "d120a8fb-b8a0-44c2-b4b8-e4a93b2cfd82"
      },
      "outputs": [
        {
          "data": {
            "text/plain": [
              "<Axes: >"
            ]
          },
          "execution_count": 7,
          "metadata": {},
          "output_type": "execute_result"
        },
        {
          "data": {
            "image/png": "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",
            "text/plain": [
              "<Figure size 640x480 with 1 Axes>"
            ]
          },
          "metadata": {},
          "output_type": "display_data"
        }
      ],
      "source": [
        "# mencari outlier\n",
        "sns.boxplot(data['Age'])"
      ]
    },
    {
      "cell_type": "code",
      "execution_count": null,
      "id": "d78274a6-7ee7-49b8-a382-60aa7850c0d5",
      "metadata": {
        "tags": [],
        "id": "d78274a6-7ee7-49b8-a382-60aa7850c0d5",
        "outputId": "39601562-7e2b-4321-b506-81dbca85989c"
      },
      "outputs": [
        {
          "data": {
            "text/plain": [
              "33     66.0\n",
              "96     71.0\n",
              "116    70.5\n",
              "493    71.0\n",
              "630    80.0\n",
              "672    70.0\n",
              "745    70.0\n",
              "851    74.0\n",
              "Name: Age, dtype: float64"
            ]
          },
          "execution_count": 8,
          "metadata": {},
          "output_type": "execute_result"
        }
      ],
      "source": [
        "data.loc[np.where(data['Age']>65)]['Age']"
      ]
    },
>>>>>>> 34635dcf4de93ecaeed13ba4b3839172bc007d82
    {
      "cell_type": "code",
      "execution_count": null,
      "id": "b631166b-73e3-42e6-8ae0-6ceb440e73cf",
      "metadata": {
        "tags": [],
        "id": "b631166b-73e3-42e6-8ae0-6ceb440e73cf",
        "outputId": "7c3ae85d-4c27-4018-b15f-02913405c6a7"
      },
      "outputs": [
        {
          "data": {
            "text/plain": [
              "<Axes: xlabel='Age', ylabel='Count'>"
            ]
          },
          "execution_count": 9,
          "metadata": {},
          "output_type": "execute_result"
        },
        {
          "data": {
            "image/png": "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",
            "text/plain": [
              "<Figure size 640x480 with 1 Axes>"
            ]
          },
          "metadata": {},
          "output_type": "display_data"
        }
      ],
      "source": [
        "# mencari distribusi\n",
        "sns.histplot(data['Age'])"
      ]
<<<<<<< HEAD
     },
     "execution_count": 617,
     "metadata": {},
     "output_type": "execute_result"
    }
   ],
   "source": [
    "# karena terdapat beberapa outlier dan data agak miring kita gunakan median untuk mengisi kekosongan\n",
    "median = data['Age'].median()\n",
    "data['Age'] = data['Age'].fillna(median).astype(int)\n",
    "data['Age'].isna().sum()"
   ]
  },
  {
   "cell_type": "markdown",
   "id": "fcc7fbe1-e924-4dfa-aa66-f818e4278928",
   "metadata": {
    "tags": []
   },
   "source": [
    "### Embarked cleaning"
   ]
  },
  {
   "cell_type": "code",
   "execution_count": 618,
   "id": "19d6fb2c-6485-455d-97aa-a47d60a71398",
   "metadata": {
    "tags": []
   },
   "outputs": [
=======
    },
>>>>>>> 34635dcf4de93ecaeed13ba4b3839172bc007d82
    {
      "cell_type": "code",
      "execution_count": null,
      "id": "3772687d-2ab4-434e-8ff8-f744bb04ad35",
      "metadata": {
        "tags": [],
        "id": "3772687d-2ab4-434e-8ff8-f744bb04ad35",
        "outputId": "6d4f374b-0332-47fc-9196-b68238a59b3b"
      },
      "outputs": [
        {
          "data": {
            "text/plain": [
              "0"
            ]
          },
          "execution_count": 10,
          "metadata": {},
          "output_type": "execute_result"
        }
      ],
      "source": [
        "# karena terdapat beberapa outlier dan data agak miring kita gunakan median untuk mengisi kekosongan\n",
        "median = data['Age'].median()\n",
        "data['Age'] = data['Age'].fillna(median).astype(int)\n",
        "data['Age'].isna().sum()"
      ]
<<<<<<< HEAD
     },
     "execution_count": 618,
     "metadata": {},
     "output_type": "execute_result"
    }
   ],
   "source": [
    "# Hanya ada 2 value yang hilang jadi bisa diisi dengan data yang paling banyak muncul\n",
    "data['Embarked'].describe()"
   ]
  },
  {
   "cell_type": "code",
   "execution_count": 619,
   "id": "8773a6bb-c8bb-4e01-b835-8fa40adc5ba1",
   "metadata": {
    "tags": []
   },
   "outputs": [
=======
    },
>>>>>>> 34635dcf4de93ecaeed13ba4b3839172bc007d82
    {
      "cell_type": "markdown",
      "id": "fcc7fbe1-e924-4dfa-aa66-f818e4278928",
      "metadata": {
        "tags": [],
        "id": "fcc7fbe1-e924-4dfa-aa66-f818e4278928"
      },
      "source": [
        "### Embarked cleaning"
      ]
<<<<<<< HEAD
     },
     "execution_count": 619,
     "metadata": {},
     "output_type": "execute_result"
    }
   ],
   "source": [
    "# paling banyak adalah S\n",
    "data['Embarked'] = data['Embarked'].fillna('S')\n",
    "data['Embarked'].isna().sum()"
   ]
  },
  {
   "cell_type": "markdown",
   "id": "c36d4ad2-4b50-4bbc-905c-b5f449320bed",
   "metadata": {},
   "source": [
    "### Cabin cleaning"
   ]
  },
  {
   "cell_type": "code",
   "execution_count": 620,
   "id": "411afa17-9dc3-4238-95ab-32717b12fd90",
   "metadata": {
    "tags": []
   },
   "outputs": [
=======
    },
>>>>>>> 34635dcf4de93ecaeed13ba4b3839172bc007d82
    {
      "cell_type": "code",
      "execution_count": null,
      "id": "19d6fb2c-6485-455d-97aa-a47d60a71398",
      "metadata": {
        "tags": [],
        "id": "19d6fb2c-6485-455d-97aa-a47d60a71398",
        "outputId": "323c8a84-3cde-4fe3-be3b-578d46766809"
      },
      "outputs": [
        {
          "data": {
            "text/plain": [
              "count     889\n",
              "unique      3\n",
              "top         S\n",
              "freq      644\n",
              "Name: Embarked, dtype: object"
            ]
          },
          "execution_count": 11,
          "metadata": {},
          "output_type": "execute_result"
        }
      ],
      "source": [
        "# Hanya ada 2 value yang hilang jadi bisa diisi dengan data yang paling banyak muncul\n",
        "data['Embarked'].describe()"
      ]
<<<<<<< HEAD
     },
     "execution_count": 620,
     "metadata": {},
     "output_type": "execute_result"
    }
   ],
   "source": [
    "data['Cabin'].describe()"
   ]
  },
  {
   "cell_type": "code",
   "execution_count": 621,
   "id": "a7efc0be-21d6-4771-ac53-6eb0d1b462ed",
   "metadata": {
    "tags": []
   },
   "outputs": [
    {
     "name": "stdout",
     "output_type": "stream",
     "text": [
      "<class 'pandas.core.frame.DataFrame'>\n",
      "RangeIndex: 891 entries, 0 to 890\n",
      "Data columns (total 11 columns):\n",
      " #   Column       Non-Null Count  Dtype  \n",
      "---  ------       --------------  -----  \n",
      " 0   PassengerId  891 non-null    int64  \n",
      " 1   Survived     891 non-null    int64  \n",
      " 2   Pclass       891 non-null    int64  \n",
      " 3   Name         891 non-null    object \n",
      " 4   Sex          891 non-null    object \n",
      " 5   Age          891 non-null    int32  \n",
      " 6   SibSp        891 non-null    int64  \n",
      " 7   Parch        891 non-null    int64  \n",
      " 8   Ticket       891 non-null    object \n",
      " 9   Fare         891 non-null    float64\n",
      " 10  Embarked     891 non-null    object \n",
      "dtypes: float64(1), int32(1), int64(5), object(4)\n",
      "memory usage: 73.2+ KB\n"
     ]
    }
   ],
   "source": [
    "# 204 dari 891 ada isinya\n",
    "# terlalu sedikit, lebih baik di drop saja\n",
    "data = data.drop(columns=['Cabin'])\n",
    "data.info()"
   ]
  },
  {
   "cell_type": "markdown",
   "id": "f35f71e0-181f-47b2-b85d-b11789e7fe22",
   "metadata": {},
   "source": [
    "### Preprocessing lainnya\n",
    "- Beberapa variabel seperti Sex dan Embarked sebaiknya diubah menjadi nilai numerik\n",
    "- PassengerId, Name, dan Ticket tidak penting (setiap value unique sehingga tidak menentukan apapun) maka dapat didrop\n",
    "- Fare dan Age dapat dikategorikan\n",
    "- SibSp dan Parch dapat digabungkan menjadi Fam (jumlah anggota keluarga)"
   ]
  },
  {
   "cell_type": "code",
   "execution_count": 622,
   "id": "781bf5da-f280-4ba8-adf1-725cbf8da2bb",
   "metadata": {
    "tags": []
   },
   "outputs": [
=======
    },
    {
      "cell_type": "code",
      "execution_count": null,
      "id": "8773a6bb-c8bb-4e01-b835-8fa40adc5ba1",
      "metadata": {
        "tags": [],
        "id": "8773a6bb-c8bb-4e01-b835-8fa40adc5ba1",
        "outputId": "ad2064ec-3a17-42bc-a7ab-231522c15adf"
      },
      "outputs": [
        {
          "data": {
            "text/plain": [
              "0"
            ]
          },
          "execution_count": 12,
          "metadata": {},
          "output_type": "execute_result"
        }
      ],
      "source": [
        "# paling banyak adalah S\n",
        "data['Embarked'] = data['Embarked'].fillna('S')\n",
        "data['Embarked'].isna().sum()"
      ]
    },
>>>>>>> 34635dcf4de93ecaeed13ba4b3839172bc007d82
    {
      "cell_type": "markdown",
      "id": "c36d4ad2-4b50-4bbc-905c-b5f449320bed",
      "metadata": {
        "id": "c36d4ad2-4b50-4bbc-905c-b5f449320bed"
      },
      "source": [
        "### Cabin cleaning"
      ]
<<<<<<< HEAD
     },
     "execution_count": 622,
     "metadata": {},
     "output_type": "execute_result"
    }
   ],
   "source": [
    "# mengubah Sex\n",
    "sex = {'male':0, 'female':1}\n",
    "data['Sex'] = data['Sex'].map(sex)\n",
    "data['Sex'].describe()"
   ]
  },
  {
   "cell_type": "code",
   "execution_count": 623,
   "id": "3ff69418-7c0f-4057-9f91-6118fb154dd5",
   "metadata": {
    "tags": []
   },
   "outputs": [
=======
    },
>>>>>>> 34635dcf4de93ecaeed13ba4b3839172bc007d82
    {
      "cell_type": "code",
      "execution_count": null,
      "id": "411afa17-9dc3-4238-95ab-32717b12fd90",
      "metadata": {
        "tags": [],
        "id": "411afa17-9dc3-4238-95ab-32717b12fd90",
        "outputId": "2068b5b1-ece2-48b5-b37b-1bc2220a6bb4"
      },
      "outputs": [
        {
          "data": {
            "text/plain": [
              "count         204\n",
              "unique        147\n",
              "top       B96 B98\n",
              "freq            4\n",
              "Name: Cabin, dtype: object"
            ]
          },
          "execution_count": 13,
          "metadata": {},
          "output_type": "execute_result"
        }
      ],
      "source": [
        "data['Cabin'].describe()"
      ]
<<<<<<< HEAD
     },
     "execution_count": 623,
     "metadata": {},
     "output_type": "execute_result"
    }
   ],
   "source": [
    "# mengubah Embarked\n",
    "emb = {'S':0, 'C':1, 'Q':2}\n",
    "data['Embarked'] = data['Embarked'].map(emb)\n",
    "data['Embarked'].describe()"
   ]
  },
  {
   "cell_type": "code",
   "execution_count": 624,
   "id": "525a7b8a-5d01-4305-98cd-068a06e53155",
   "metadata": {
    "tags": []
   },
   "outputs": [
    {
     "name": "stdout",
     "output_type": "stream",
     "text": [
      "<class 'pandas.core.frame.DataFrame'>\n",
      "RangeIndex: 891 entries, 0 to 890\n",
      "Data columns (total 8 columns):\n",
      " #   Column    Non-Null Count  Dtype  \n",
      "---  ------    --------------  -----  \n",
      " 0   Survived  891 non-null    int64  \n",
      " 1   Pclass    891 non-null    int64  \n",
      " 2   Sex       891 non-null    int64  \n",
      " 3   Age       891 non-null    int32  \n",
      " 4   SibSp     891 non-null    int64  \n",
      " 5   Parch     891 non-null    int64  \n",
      " 6   Fare      891 non-null    float64\n",
      " 7   Embarked  891 non-null    int64  \n",
      "dtypes: float64(1), int32(1), int64(6)\n",
      "memory usage: 52.3 KB\n"
     ]
    }
   ],
   "source": [
    "data = data.drop(columns=['PassengerId','Name', 'Ticket'])\n",
    "data.info()"
   ]
  },
  {
   "cell_type": "code",
   "execution_count": 625,
   "id": "cb7e6e8f-a4c0-43d0-b315-bda9eb7ae9e9",
   "metadata": {
    "tags": []
   },
   "outputs": [
=======
    },
    {
      "cell_type": "code",
      "execution_count": null,
      "id": "a7efc0be-21d6-4771-ac53-6eb0d1b462ed",
      "metadata": {
        "tags": [],
        "id": "a7efc0be-21d6-4771-ac53-6eb0d1b462ed",
        "outputId": "1036bb27-9d52-4c11-c98e-9637017b8870"
      },
      "outputs": [
        {
          "name": "stdout",
          "output_type": "stream",
          "text": [
            "<class 'pandas.core.frame.DataFrame'>\n",
            "RangeIndex: 891 entries, 0 to 890\n",
            "Data columns (total 11 columns):\n",
            " #   Column       Non-Null Count  Dtype  \n",
            "---  ------       --------------  -----  \n",
            " 0   PassengerId  891 non-null    int64  \n",
            " 1   Survived     891 non-null    int64  \n",
            " 2   Pclass       891 non-null    int64  \n",
            " 3   Name         891 non-null    object \n",
            " 4   Sex          891 non-null    object \n",
            " 5   Age          891 non-null    int32  \n",
            " 6   SibSp        891 non-null    int64  \n",
            " 7   Parch        891 non-null    int64  \n",
            " 8   Ticket       891 non-null    object \n",
            " 9   Fare         891 non-null    float64\n",
            " 10  Embarked     891 non-null    object \n",
            "dtypes: float64(1), int32(1), int64(5), object(4)\n",
            "memory usage: 73.2+ KB\n"
          ]
        }
      ],
      "source": [
        "# 204 dari 891 ada isinya\n",
        "# terlalu sedikit, lebih baik di drop saja\n",
        "data = data.drop(columns=['Cabin'])\n",
        "data.info()"
      ]
    },
>>>>>>> 34635dcf4de93ecaeed13ba4b3839172bc007d82
    {
      "cell_type": "markdown",
      "id": "f35f71e0-181f-47b2-b85d-b11789e7fe22",
      "metadata": {
        "id": "f35f71e0-181f-47b2-b85d-b11789e7fe22"
      },
      "source": [
        "### Preprocessing lainnya\n",
        "- Beberapa variabel seperti Sex dan Embarked sebaiknya diubah menjadi nilai numerik\n",
        "- PassengerId, Name, dan Ticket tidak penting (setiap value unique sehingga tidak menentukan apapun) maka dapat didrop\n",
        "- Fare dan Age dapat dikategorikan\n",
        "- SibSp dan Parch dapat digabungkan menjadi Fam (jumlah anggota keluarga)"
      ]
<<<<<<< HEAD
     },
     "execution_count": 625,
     "metadata": {},
     "output_type": "execute_result"
    }
   ],
   "source": [
    "# pengategorian Age\n",
    "data.loc[ data['Age']<=10, 'Age'] = 0\n",
    "data.loc[(data['Age']>10) & (data['Age']<=18), 'Age'] = 1\n",
    "data.loc[(data['Age']>18) & (data['Age']<=27), 'Age'] = 2\n",
    "data.loc[(data['Age']>27) & (data['Age']<=35), 'Age'] = 3\n",
    "data.loc[(data['Age']>35) & (data['Age']<=50), 'Age'] = 4\n",
    "data.loc[ data['Age']>50, 'Age'] = 5\n",
    "data['Age'].value_counts()"
   ]
  },
  {
   "cell_type": "code",
   "execution_count": 626,
   "id": "4af2a4b7-261c-4e24-a1e1-6c5f4668febb",
   "metadata": {
    "tags": []
   },
   "outputs": [
=======
    },
>>>>>>> 34635dcf4de93ecaeed13ba4b3839172bc007d82
    {
      "cell_type": "code",
      "execution_count": null,
      "id": "781bf5da-f280-4ba8-adf1-725cbf8da2bb",
      "metadata": {
        "tags": [],
        "id": "781bf5da-f280-4ba8-adf1-725cbf8da2bb",
        "outputId": "5f3a65af-1922-40c7-ec6e-8d97c1098579"
      },
      "outputs": [
        {
          "data": {
            "text/plain": [
              "count    891.000000\n",
              "mean       0.352413\n",
              "std        0.477990\n",
              "min        0.000000\n",
              "25%        0.000000\n",
              "50%        0.000000\n",
              "75%        1.000000\n",
              "max        1.000000\n",
              "Name: Sex, dtype: float64"
            ]
          },
          "execution_count": 15,
          "metadata": {},
          "output_type": "execute_result"
        }
      ],
      "source": [
        "# mengubah Sex\n",
        "sex = {'male':0, 'female':1}\n",
        "data['Sex'] = data['Sex'].map(sex)\n",
        "data['Sex'].describe()"
      ]
<<<<<<< HEAD
     },
     "execution_count": 626,
     "metadata": {},
     "output_type": "execute_result"
    }
   ],
   "source": [
    "# pengategorian Fare\n",
    "data.loc[ data['Fare']<=8, 'Fare'] = 0\n",
    "data.loc[(data['Fare']>8) & (data['Fare']<=12), 'Fare'] = 1\n",
    "data.loc[(data['Fare']>12) & (data['Fare']<=25), 'Fare'] = 2\n",
    "data.loc[(data['Fare']>25) & (data['Fare']<=50), 'Fare'] = 3\n",
    "data.loc[(data['Fare']>50) & (data['Fare']<=100), 'Fare'] = 4\n",
    "data.loc[ data['Fare']>100, 'Fare'] = 5\n",
    "data['Fare'] = data['Fare'].astype(int)\n",
    "data['Fare'].value_counts()"
   ]
  },
  {
   "cell_type": "code",
   "execution_count": 627,
   "id": "71e446ae-27f4-4346-81c8-ee7104e2bb22",
   "metadata": {
    "tags": []
   },
   "outputs": [
=======
    },
>>>>>>> 34635dcf4de93ecaeed13ba4b3839172bc007d82
    {
      "cell_type": "code",
      "execution_count": null,
      "id": "3ff69418-7c0f-4057-9f91-6118fb154dd5",
      "metadata": {
        "tags": [],
        "id": "3ff69418-7c0f-4057-9f91-6118fb154dd5",
        "outputId": "bc6ea04c-481d-47c3-ab99-25c3e69d128c"
      },
      "outputs": [
        {
          "data": {
            "text/plain": [
              "count    891.000000\n",
              "mean       0.361392\n",
              "std        0.635673\n",
              "min        0.000000\n",
              "25%        0.000000\n",
              "50%        0.000000\n",
              "75%        1.000000\n",
              "max        2.000000\n",
              "Name: Embarked, dtype: float64"
            ]
          },
          "execution_count": 16,
          "metadata": {},
          "output_type": "execute_result"
        }
      ],
      "source": [
        "# mengubah Embarked\n",
        "emb = {'S':0, 'C':1, 'Q':2}\n",
        "data['Embarked'] = data['Embarked'].map(emb)\n",
        "data['Embarked'].describe()"
      ]
<<<<<<< HEAD
     },
     "execution_count": 627,
     "metadata": {},
     "output_type": "execute_result"
    }
   ],
   "source": [
    "# Penggabungan SibSp dan Parch\n",
    "data['Fam'] = data['SibSp']+data['Parch']\n",
    "data = data.drop(columns=['SibSp','Parch'])\n",
    "data['Fam'].describe()"
   ]
  },
  {
   "cell_type": "code",
   "execution_count": 628,
   "id": "b18dd142-c8f4-4b1e-8851-20624b3004ea",
   "metadata": {
    "tags": []
   },
   "outputs": [
=======
    },
>>>>>>> 34635dcf4de93ecaeed13ba4b3839172bc007d82
    {
      "cell_type": "code",
      "execution_count": null,
      "id": "525a7b8a-5d01-4305-98cd-068a06e53155",
      "metadata": {
        "tags": [],
        "id": "525a7b8a-5d01-4305-98cd-068a06e53155",
        "outputId": "3a7d0e29-223a-4f3b-95d1-033756abbec7"
      },
      "outputs": [
        {
          "name": "stdout",
          "output_type": "stream",
          "text": [
            "<class 'pandas.core.frame.DataFrame'>\n",
            "RangeIndex: 891 entries, 0 to 890\n",
            "Data columns (total 8 columns):\n",
            " #   Column    Non-Null Count  Dtype  \n",
            "---  ------    --------------  -----  \n",
            " 0   Survived  891 non-null    int64  \n",
            " 1   Pclass    891 non-null    int64  \n",
            " 2   Sex       891 non-null    int64  \n",
            " 3   Age       891 non-null    int32  \n",
            " 4   SibSp     891 non-null    int64  \n",
            " 5   Parch     891 non-null    int64  \n",
            " 6   Fare      891 non-null    float64\n",
            " 7   Embarked  891 non-null    int64  \n",
            "dtypes: float64(1), int32(1), int64(6)\n",
            "memory usage: 52.3 KB\n"
          ]
        }
      ],
      "source": [
        "data = data.drop(columns=['PassengerId','Name', 'Ticket'])\n",
        "data.info()"
      ]
<<<<<<< HEAD
     },
     "execution_count": 628,
     "metadata": {},
     "output_type": "execute_result"
    }
   ],
   "source": [
    "# hasil setelah preprocessing\n",
    "data.head()"
   ]
  },
  {
   "cell_type": "code",
   "execution_count": 629,
   "id": "79b8108a-95be-423f-929e-d7866ff085c1",
   "metadata": {},
   "outputs": [
    {
     "name": "stdout",
     "output_type": "stream",
     "text": [
      "<class 'pandas.core.frame.DataFrame'>\n",
      "RangeIndex: 891 entries, 0 to 890\n",
      "Data columns (total 7 columns):\n",
      " #   Column    Non-Null Count  Dtype\n",
      "---  ------    --------------  -----\n",
      " 0   Survived  891 non-null    int64\n",
      " 1   Pclass    891 non-null    int64\n",
      " 2   Sex       891 non-null    int64\n",
      " 3   Age       891 non-null    int32\n",
      " 4   Fare      891 non-null    int32\n",
      " 5   Embarked  891 non-null    int64\n",
      " 6   Fam       891 non-null    int64\n",
      "dtypes: int32(2), int64(5)\n",
      "memory usage: 41.9 KB\n"
     ]
    }
   ],
   "source": [
    "data.info()"
   ]
  },
  {
   "cell_type": "markdown",
   "id": "6fbccf27-a621-4b9f-b334-95a8ebff2233",
   "metadata": {
    "tags": []
   },
   "source": [
    "## Algoritma Machine Learning"
   ]
  },
  {
   "cell_type": "code",
   "execution_count": 630,
   "id": "c79c41d0-d1fc-46b8-b228-ef83c945af70",
   "metadata": {},
   "outputs": [],
   "source": [
    "# split dataset untuk testing dan training\n",
    "X = data.loc[:, ['Pclass', 'Sex', 'Age', 'Fare', 'Embarked', 'Fam']]\n",
    "y = data.loc[:, ['Survived']]\n",
    "X_train, X_test, y_train, y_test = train_test_split(X, y, test_size =0.2, shuffle=True)"
   ]
  },
  {
   "cell_type": "markdown",
   "id": "cb4e3b31-7741-428d-bdb4-f11ffe8f3c0d",
   "metadata": {
    "tags": []
   },
   "source": [
    "### Statsmodels Logistic Regression"
   ]
  },
  {
   "cell_type": "code",
   "execution_count": 631,
   "id": "41f6a1b8-e27d-45e4-a4bb-95d73fc03b36",
   "metadata": {
    "tags": []
   },
   "outputs": [
    {
     "name": "stdout",
     "output_type": "stream",
     "text": [
      "Optimization terminated successfully.\n",
      "         Current function value: 0.443884\n",
      "         Iterations 6\n"
     ]
    }
   ],
   "source": [
    "logreg = sm.Logit(y_train, X_train).fit()"
   ]
  },
  {
   "cell_type": "code",
   "execution_count": 632,
   "id": "3da63c2f-39b3-4e7b-8539-a8fffcd966af",
   "metadata": {
    "tags": []
   },
   "outputs": [
    {
     "data": {
      "text/html": [
       "<table class=\"simpletable\">\n",
       "<caption>Logit Regression Results</caption>\n",
       "<tr>\n",
       "  <th>Dep. Variable:</th>       <td>Survived</td>     <th>  No. Observations:  </th>  <td>   712</td>  \n",
       "</tr>\n",
       "<tr>\n",
       "  <th>Model:</th>                 <td>Logit</td>      <th>  Df Residuals:      </th>  <td>   706</td>  \n",
       "</tr>\n",
       "<tr>\n",
       "  <th>Method:</th>                 <td>MLE</td>       <th>  Df Model:          </th>  <td>     5</td>  \n",
       "</tr>\n",
       "<tr>\n",
       "  <th>Date:</th>            <td>Sun, 22 Oct 2023</td> <th>  Pseudo R-squ.:     </th>  <td>0.3326</td>  \n",
       "</tr>\n",
       "<tr>\n",
       "  <th>Time:</th>                <td>22:41:06</td>     <th>  Log-Likelihood:    </th> <td> -316.05</td> \n",
       "</tr>\n",
       "<tr>\n",
       "  <th>converged:</th>             <td>True</td>       <th>  LL-Null:           </th> <td> -473.51</td> \n",
       "</tr>\n",
       "<tr>\n",
       "  <th>Covariance Type:</th>     <td>nonrobust</td>    <th>  LLR p-value:       </th> <td>6.156e-66</td>\n",
       "</tr>\n",
       "</table>\n",
       "<table class=\"simpletable\">\n",
       "<tr>\n",
       "      <td></td>        <th>coef</th>     <th>std err</th>      <th>z</th>      <th>P>|z|</th>  <th>[0.025</th>    <th>0.975]</th>  \n",
       "</tr>\n",
       "<tr>\n",
       "  <th>Pclass</th>   <td>   -0.4965</td> <td>    0.081</td> <td>   -6.092</td> <td> 0.000</td> <td>   -0.656</td> <td>   -0.337</td>\n",
       "</tr>\n",
       "<tr>\n",
       "  <th>Sex</th>      <td>    2.7080</td> <td>    0.220</td> <td>   12.315</td> <td> 0.000</td> <td>    2.277</td> <td>    3.139</td>\n",
       "</tr>\n",
       "<tr>\n",
       "  <th>Age</th>      <td>   -0.3652</td> <td>    0.077</td> <td>   -4.741</td> <td> 0.000</td> <td>   -0.516</td> <td>   -0.214</td>\n",
       "</tr>\n",
       "<tr>\n",
       "  <th>Fare</th>     <td>    0.3883</td> <td>    0.077</td> <td>    5.060</td> <td> 0.000</td> <td>    0.238</td> <td>    0.539</td>\n",
       "</tr>\n",
       "<tr>\n",
       "  <th>Embarked</th> <td>    0.2581</td> <td>    0.157</td> <td>    1.641</td> <td> 0.101</td> <td>   -0.050</td> <td>    0.566</td>\n",
       "</tr>\n",
       "<tr>\n",
       "  <th>Fam</th>      <td>   -0.3501</td> <td>    0.085</td> <td>   -4.140</td> <td> 0.000</td> <td>   -0.516</td> <td>   -0.184</td>\n",
       "</tr>\n",
       "</table>"
      ],
      "text/plain": [
       "<class 'statsmodels.iolib.summary.Summary'>\n",
       "\"\"\"\n",
       "                           Logit Regression Results                           \n",
       "==============================================================================\n",
       "Dep. Variable:               Survived   No. Observations:                  712\n",
       "Model:                          Logit   Df Residuals:                      706\n",
       "Method:                           MLE   Df Model:                            5\n",
       "Date:                Sun, 22 Oct 2023   Pseudo R-squ.:                  0.3326\n",
       "Time:                        22:41:06   Log-Likelihood:                -316.05\n",
       "converged:                       True   LL-Null:                       -473.51\n",
       "Covariance Type:            nonrobust   LLR p-value:                 6.156e-66\n",
       "==============================================================================\n",
       "                 coef    std err          z      P>|z|      [0.025      0.975]\n",
       "------------------------------------------------------------------------------\n",
       "Pclass        -0.4965      0.081     -6.092      0.000      -0.656      -0.337\n",
       "Sex            2.7080      0.220     12.315      0.000       2.277       3.139\n",
       "Age           -0.3652      0.077     -4.741      0.000      -0.516      -0.214\n",
       "Fare           0.3883      0.077      5.060      0.000       0.238       0.539\n",
       "Embarked       0.2581      0.157      1.641      0.101      -0.050       0.566\n",
       "Fam           -0.3501      0.085     -4.140      0.000      -0.516      -0.184\n",
       "==============================================================================\n",
       "\"\"\""
      ]
     },
     "execution_count": 632,
     "metadata": {},
     "output_type": "execute_result"
    }
   ],
   "source": [
    "logreg.summary()"
   ]
  },
  {
   "cell_type": "markdown",
   "id": "fbb3cd3e-25a0-40cd-aabb-64e4b06dc9a6",
   "metadata": {},
   "source": [
    "Menurut p-value (`P>|z|`), semua predictor yang ada kecuali pelabuhan keberangkatan berhubungan dengan kemungkinan hidup penumpang. Hal ini bisa jadi karena variabel yang kurang penting (PassengerId, Name, Ticket) sudah dibuang pada saat preprocessing data.\n",
    "<br>\n",
    "Analisa data dan penalaran:\n",
    "- Semakin rendah kelas semakin mungkin hidup (penumpang kelas 1 memiliki akses ke fasilitas kapal terbaik)\n",
    "- Perempuan lebih mungkin hidup daripada laki-laki (saat evakuasi perempuan diutamakan)\n",
    "- Orang muda lebih banyak yang hidup (anak-anak diutamakan untuk evakuasi, orang tua lebih sulit untuk bergerak sehingga tertinggal di kapal)\n",
    "- Semakin tinggi harga tiket, semakin besar kemungkinan hidup (harga tiket yang tinggi menunjukkan fasilitas yang lebih memadai, mirip Pclass)\n",
    "- Embarked kurang akurat sebagai prediktor (pelabuhan yang dijadikan variabel bukanlah sesuatu yang linear, namun merupakan suatu kategori yang dijadikan linear untuk diproses program)\n",
    "- Semakin sedikit keluarga semakin besar kemungkinan hidup (Tidak perlu mencari/menolong satu sama lain?)"
   ]
  },
  {
   "cell_type": "markdown",
   "id": "fad72556-22a9-4772-bd49-c66d3dd852a7",
   "metadata": {},
   "source": [
    "### SciKit Models\n",
    "Keakuratan hasil prediksi model direpresentasikan dalam persentase, acc_sco untuk keakuratan dengan dataset test, dan acc_log untuk keakuratan dengan dataset train.\n",
    "(acc_sco dan acc_log menggunakan perbandingan true positive)"
   ]
  },
  {
   "cell_type": "code",
   "execution_count": 633,
   "id": "76edd0a5-187e-44d6-961d-2aee17187b00",
   "metadata": {
    "tags": []
   },
   "outputs": [
    {
     "name": "stdout",
     "output_type": "stream",
     "text": [
      "78.21 %\n",
      "80.76 %\n"
     ]
    }
   ],
   "source": [
    "logReg = LogisticRegression()\n",
    "logReg.fit(X_train, y_train.values.ravel())\n",
    "y_pred = logReg.predict(X_test)\n",
    "acc_sco = round(accuracy_score(y_test, y_pred)*100, 2)\n",
    "acc_log = round(logReg.score(X_train, y_train)*100, 2)\n",
    "print(acc_sco,'%')\n",
    "print(acc_log,'%')"
   ]
  },
  {
   "cell_type": "code",
   "execution_count": 634,
   "id": "20e49429-96de-4b43-89f6-489d642614f3",
   "metadata": {
    "tags": []
   },
   "outputs": [
    {
     "data": {
      "image/png": "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",
      "text/plain": [
       "<Figure size 640x480 with 1 Axes>"
      ]
     },
     "metadata": {},
     "output_type": "display_data"
    }
   ],
   "source": [
    "# roc curve\n",
    "fp, tp, thresholds = roc_curve(y_test, y_pred)\n",
    "\n",
    "plt.plot(fp, tp, linewidth=2)\n",
    "plt.plot([0, 1], [0, 1], 'r', linewidth=4)\n",
    "plt.axis([0, 1, 0, 1])\n",
    "plt.xlabel('False Positive')\n",
    "plt.ylabel('True Positive')\n",
    "\n",
    "plt.show()"
   ]
  },
  {
   "cell_type": "code",
   "execution_count": 635,
   "id": "fbe75fe6-5259-4d96-ae0f-839f7d5ac61e",
   "metadata": {
    "tags": []
   },
   "outputs": [
    {
     "name": "stdout",
     "output_type": "stream",
     "text": [
      "79.89 %\n",
      "80.62 %\n"
     ]
    }
   ],
   "source": [
    "lda = LDA()\n",
    "lda.fit(X_train, y_train.values.ravel())\n",
    "y_pred = lda.predict(X_test)\n",
    "acc_sco = round(accuracy_score(y_test, y_pred)*100, 2)\n",
    "acc_log = round(lda.score(X_train, y_train)*100, 2)\n",
    "print(acc_sco,'%')\n",
    "print(acc_log,'%')"
   ]
  },
  {
   "cell_type": "code",
   "execution_count": 636,
   "id": "5e3ba3ce-bbba-405e-8f1a-01c44d543b66",
   "metadata": {
    "tags": []
   },
   "outputs": [
    {
     "name": "stdout",
     "output_type": "stream",
     "text": [
      "82.12 %\n",
      "81.46 %\n"
     ]
    }
   ],
   "source": [
    "qda = QDA()\n",
    "qda.fit(X_train, y_train.values.ravel())\n",
    "y_pred = qda.predict(X_test)\n",
    "acc_sco = round(accuracy_score(y_test, y_pred)*100, 2)\n",
    "acc_log = round(qda.score(X_train, y_train)*100, 2)\n",
    "print(acc_sco,'%')\n",
    "print(acc_log,'%')"
   ]
  },
  {
   "cell_type": "code",
   "execution_count": 637,
   "id": "db13c167-0479-4df3-80e8-b7d51cf790e7",
   "metadata": {
    "tags": []
   },
   "outputs": [
    {
     "name": "stdout",
     "output_type": "stream",
     "text": [
      "78.21 %\n",
      "77.95 %\n"
     ]
    }
   ],
   "source": [
    "naBa = GaussianNB()\n",
    "naBa.fit(X_train, y_train.values.ravel())\n",
    "y_pred = naBa.predict(X_test)\n",
    "acc_sco = round(accuracy_score(y_test, y_pred)*100, 2)\n",
    "acc_log = round(naBa.score(X_train, y_train)*100, 2)\n",
    "print(acc_sco,'%')\n",
    "print(acc_log,'%')"
   ]
  },
  {
   "cell_type": "markdown",
   "id": "9322f072-c977-433c-9b33-8df2b9ab520c",
   "metadata": {
    "tags": []
   },
   "source": [
    "## Resampling methods"
   ]
  },
  {
   "cell_type": "code",
   "execution_count": null,
   "id": "66cd3a98-b5e5-4c4d-a51c-6f1aba5d734c",
   "metadata": {},
   "outputs": [],
   "source": []
  },
  {
   "cell_type": "markdown",
   "id": "ea423373",
   "metadata": {},
   "source": [
    "## Other Method: Pasting - QDA"
   ]
  },
  {
   "cell_type": "code",
   "execution_count": 638,
   "id": "58e5faa4",
   "metadata": {},
   "outputs": [],
   "source": [
    "y_trainNp = np.array(y_train).ravel()\n",
    "y_testNp = np.array(y_test).ravel()"
   ]
  },
  {
   "cell_type": "code",
   "execution_count": 639,
   "id": "2d70b972",
   "metadata": {},
   "outputs": [
    {
     "name": "stdout",
     "output_type": "stream",
     "text": [
      "82.12 %\n",
      "81.6 %\n"
     ]
    }
   ],
   "source": [
    "pasting = BC(qda, n_estimators=1000, random_state=2, bootstrap=True)\n",
    "pasting.fit(X_train, y_trainNp)\n",
    "y_pred = pasting.predict(X_test)\n",
    "\n",
    "# Hitung accuracy\n",
    "acc_sco = round(accuracy_score(y_testNp, y_pred)*100, 2)\n",
    "acc_log = round(pasting.score(X_train, y_trainNp)*100, 2)\n",
    "print(acc_sco,'%')\n",
    "print(acc_log,'%')"
   ]
  },
  {
   "cell_type": "markdown",
   "id": "55cd8de1",
   "metadata": {},
   "source": [
    "Memakai Pasting juga kurang membantu, karena hasil accuracy score dari QDA lebih baik daripada ensemble."
   ]
  },
  {
   "cell_type": "markdown",
   "id": "6c2bd49f",
   "metadata": {},
   "source": [
    "## Other Method: Decision Tree"
   ]
  },
  {
   "cell_type": "code",
   "execution_count": 640,
   "id": "757354f7",
   "metadata": {},
   "outputs": [
    {
     "name": "stdout",
     "output_type": "stream",
     "text": [
      "80.45 %\n",
      "88.9 %\n"
     ]
    }
   ],
   "source": [
    "decision_tree = DT(max_depth=10)\n",
    "decision_tree.fit(X_train, y_trainNp)\n",
    "y_pred = decision_tree.predict(X_test)\n",
    "\n",
    "# Hitung accuracy\n",
    "acc_sco = round(accuracy_score(y_testNp, y_pred)*100, 2)\n",
    "acc_log = round(decision_tree.score(X_train, y_trainNp)*100, 2)\n",
    "print(acc_sco,'%')\n",
    "print(acc_log,'%')"
   ]
  },
  {
   "cell_type": "markdown",
   "id": "dd9316c7",
   "metadata": {},
   "source": [
    "Memakai Decision Tree terkadang memberi hasil yang lebih baik daripada LDA/QDA/Logistic Regression/Naive Bayes"
   ]
  },
  {
   "cell_type": "markdown",
   "id": "d06ca678",
   "metadata": {},
   "source": [
    "## Other Method: Pasting - Decision Tree"
   ]
  },
  {
   "cell_type": "code",
   "execution_count": 641,
   "id": "a52787d0",
   "metadata": {},
   "outputs": [
    {
     "name": "stdout",
     "output_type": "stream",
     "text": [
      "81.01 %\n",
      "89.61 %\n"
     ]
    }
   ],
   "source": [
    "pasting = BC(decision_tree, n_estimators=1000, random_state=2, bootstrap=True)\n",
    "pasting.fit(X_train, y_trainNp)\n",
    "y_pred = pasting.predict(X_test)\n",
    "\n",
    "# Hitung accuracy\n",
    "acc_sco = round(accuracy_score(y_testNp, y_pred)*100, 2)\n",
    "acc_log = round(pasting.score(X_train, y_trainNp)*100, 2)\n",
    "print(acc_sco,'%')\n",
    "print(acc_log,'%')"
   ]
  },
  {
   "cell_type": "markdown",
   "id": "42f405bd",
   "metadata": {},
   "source": [
    "Pasting pada Decision Tree umumnya memberi hasil accuracy score sama seperti Decision Tree, walau Accuracy"
   ]
  },
  {
   "cell_type": "markdown",
   "id": "5cd2a820",
   "metadata": {},
   "source": [
    "## Other Method: Random Forest"
   ]
  },
  {
   "cell_type": "code",
   "execution_count": 642,
   "id": "ad36bd80",
   "metadata": {},
   "outputs": [
    {
     "name": "stdout",
     "output_type": "stream",
     "text": [
      "79.89 %\n",
      "89.61 %\n"
     ]
    }
   ],
   "source": [
    "random_forest = RFC(n_estimators=100, random_state=2)\n",
    "random_forest.fit(X_train, y_trainNp)\n",
    "y_pred = random_forest.predict(X_test)\n",
    "\n",
    "# Hitung accuracy\n",
    "acc_sco = round(accuracy_score(y_testNp, y_pred)*100, 2)\n",
    "acc_log = round(random_forest.score(X_train, y_trainNp)*100, 2)\n",
    "print(acc_sco,'%')\n",
    "print(acc_log,'%')"
   ]
  },
  {
   "cell_type": "markdown",
   "id": "f15561c3",
   "metadata": {},
   "source": [
    "## Other Method: Ensemble"
   ]
  },
  {
   "cell_type": "code",
   "execution_count": 643,
   "id": "3ff735e4",
   "metadata": {},
   "outputs": [
    {
     "name": "stdout",
     "output_type": "stream",
     "text": [
      "82.68 %\n",
      "86.8 %\n"
     ]
    }
   ],
   "source": [
    "# Memakai Ensemble\n",
    "ensemble = VC(estimators=[\n",
    "    ('lr', logReg),\n",
    "    ('lda', lda),\n",
    "    ('qda', qda),\n",
    "    ('nb', naBa),\n",
    "    ('p-qda', pasting), \n",
    "    ('decision', decision_tree),\n",
    "    ('random-forest', random_forest)\n",
    "    ], voting='soft')\n",
    "ensemble.fit(X_train, y_trainNp)\n",
    "y_pred = ensemble.predict(X_test)\n",
    "\n",
    "# Hitung accuracy\n",
    "acc_sco = round(accuracy_score(y_testNp, y_pred)*100, 2)\n",
    "acc_log = round(ensemble.score(X_train, y_trainNp)*100, 2)\n",
    "print(acc_sco,'%')\n",
    "print(acc_log,'%')"
   ]
  },
  {
   "cell_type": "markdown",
   "id": "b2387060",
   "metadata": {},
   "source": [
    "Memakai Ensemble ternyata baik karena accuracy score bagus, berarti baik di training data"
   ]
  }
 ],
 "metadata": {
  "kernelspec": {
   "display_name": "Python 3 (ipykernel)",
   "language": "python",
   "name": "python3"
  },
  "language_info": {
   "codemirror_mode": {
    "name": "ipython",
    "version": 3
   },
   "file_extension": ".py",
   "mimetype": "text/x-python",
   "name": "python",
   "nbconvert_exporter": "python",
   "pygments_lexer": "ipython3",
   "version": "3.10.4"
  }
 },
 "nbformat": 4,
 "nbformat_minor": 5
}
=======
    },
    {
      "cell_type": "code",
      "execution_count": null,
      "id": "cb7e6e8f-a4c0-43d0-b315-bda9eb7ae9e9",
      "metadata": {
        "tags": [],
        "id": "cb7e6e8f-a4c0-43d0-b315-bda9eb7ae9e9",
        "outputId": "cda847af-b7a1-47e8-8fc4-ad3253577cc1"
      },
      "outputs": [
        {
          "data": {
            "text/plain": [
              "3    337\n",
              "2    198\n",
              "4    153\n",
              "1     75\n",
              "5     64\n",
              "0     64\n",
              "Name: Age, dtype: int64"
            ]
          },
          "execution_count": 18,
          "metadata": {},
          "output_type": "execute_result"
        }
      ],
      "source": [
        "# pengategorian Age\n",
        "data.loc[ data['Age']<=10, 'Age'] = 0\n",
        "data.loc[(data['Age']>10) & (data['Age']<=18), 'Age'] = 1\n",
        "data.loc[(data['Age']>18) & (data['Age']<=27), 'Age'] = 2\n",
        "data.loc[(data['Age']>27) & (data['Age']<=35), 'Age'] = 3\n",
        "data.loc[(data['Age']>35) & (data['Age']<=50), 'Age'] = 4\n",
        "data.loc[ data['Age']>50, 'Age'] = 5\n",
        "data['Age'].value_counts()"
      ]
    },
    {
      "cell_type": "code",
      "execution_count": null,
      "id": "4af2a4b7-261c-4e24-a1e1-6c5f4668febb",
      "metadata": {
        "tags": [],
        "id": "4af2a4b7-261c-4e24-a1e1-6c5f4668febb",
        "outputId": "3a90d387-fe2e-4052-d9a1-f9f2acedd5a9"
      },
      "outputs": [
        {
          "data": {
            "text/plain": [
              "0    241\n",
              "2    183\n",
              "3    174\n",
              "1    133\n",
              "4    107\n",
              "5     53\n",
              "Name: Fare, dtype: int64"
            ]
          },
          "execution_count": 19,
          "metadata": {},
          "output_type": "execute_result"
        }
      ],
      "source": [
        "# pengategorian Fare\n",
        "data.loc[ data['Fare']<=8, 'Fare'] = 0\n",
        "data.loc[(data['Fare']>8) & (data['Fare']<=12), 'Fare'] = 1\n",
        "data.loc[(data['Fare']>12) & (data['Fare']<=25), 'Fare'] = 2\n",
        "data.loc[(data['Fare']>25) & (data['Fare']<=50), 'Fare'] = 3\n",
        "data.loc[(data['Fare']>50) & (data['Fare']<=100), 'Fare'] = 4\n",
        "data.loc[ data['Fare']>100, 'Fare'] = 5\n",
        "data['Fare'] = data['Fare'].astype(int)\n",
        "data['Fare'].value_counts()"
      ]
    },
    {
      "cell_type": "code",
      "execution_count": null,
      "id": "71e446ae-27f4-4346-81c8-ee7104e2bb22",
      "metadata": {
        "tags": [],
        "id": "71e446ae-27f4-4346-81c8-ee7104e2bb22",
        "outputId": "364aa177-caeb-4db9-d46e-dcd6d1879275"
      },
      "outputs": [
        {
          "data": {
            "text/plain": [
              "count    891.000000\n",
              "mean       0.904602\n",
              "std        1.613459\n",
              "min        0.000000\n",
              "25%        0.000000\n",
              "50%        0.000000\n",
              "75%        1.000000\n",
              "max       10.000000\n",
              "Name: Fam, dtype: float64"
            ]
          },
          "execution_count": 20,
          "metadata": {},
          "output_type": "execute_result"
        }
      ],
      "source": [
        "# Penggabungan SibSp dan Parch\n",
        "data['Fam'] = data['SibSp']+data['Parch']\n",
        "data = data.drop(columns=['SibSp','Parch'])\n",
        "data['Fam'].describe()"
      ]
    },
    {
      "cell_type": "code",
      "execution_count": null,
      "id": "b18dd142-c8f4-4b1e-8851-20624b3004ea",
      "metadata": {
        "tags": [],
        "id": "b18dd142-c8f4-4b1e-8851-20624b3004ea",
        "outputId": "c95fbbfc-87f2-4f7f-f3e3-f7b07803f089"
      },
      "outputs": [
        {
          "data": {
            "text/html": [
              "<div>\n",
              "<style scoped>\n",
              "    .dataframe tbody tr th:only-of-type {\n",
              "        vertical-align: middle;\n",
              "    }\n",
              "\n",
              "    .dataframe tbody tr th {\n",
              "        vertical-align: top;\n",
              "    }\n",
              "\n",
              "    .dataframe thead th {\n",
              "        text-align: right;\n",
              "    }\n",
              "</style>\n",
              "<table border=\"1\" class=\"dataframe\">\n",
              "  <thead>\n",
              "    <tr style=\"text-align: right;\">\n",
              "      <th></th>\n",
              "      <th>Survived</th>\n",
              "      <th>Pclass</th>\n",
              "      <th>Sex</th>\n",
              "      <th>Age</th>\n",
              "      <th>Fare</th>\n",
              "      <th>Embarked</th>\n",
              "      <th>Fam</th>\n",
              "    </tr>\n",
              "  </thead>\n",
              "  <tbody>\n",
              "    <tr>\n",
              "      <th>0</th>\n",
              "      <td>0</td>\n",
              "      <td>3</td>\n",
              "      <td>0</td>\n",
              "      <td>2</td>\n",
              "      <td>0</td>\n",
              "      <td>0</td>\n",
              "      <td>1</td>\n",
              "    </tr>\n",
              "    <tr>\n",
              "      <th>1</th>\n",
              "      <td>1</td>\n",
              "      <td>1</td>\n",
              "      <td>1</td>\n",
              "      <td>4</td>\n",
              "      <td>4</td>\n",
              "      <td>1</td>\n",
              "      <td>1</td>\n",
              "    </tr>\n",
              "    <tr>\n",
              "      <th>2</th>\n",
              "      <td>1</td>\n",
              "      <td>3</td>\n",
              "      <td>1</td>\n",
              "      <td>2</td>\n",
              "      <td>0</td>\n",
              "      <td>0</td>\n",
              "      <td>0</td>\n",
              "    </tr>\n",
              "    <tr>\n",
              "      <th>3</th>\n",
              "      <td>1</td>\n",
              "      <td>1</td>\n",
              "      <td>1</td>\n",
              "      <td>3</td>\n",
              "      <td>4</td>\n",
              "      <td>0</td>\n",
              "      <td>1</td>\n",
              "    </tr>\n",
              "    <tr>\n",
              "      <th>4</th>\n",
              "      <td>0</td>\n",
              "      <td>3</td>\n",
              "      <td>0</td>\n",
              "      <td>3</td>\n",
              "      <td>1</td>\n",
              "      <td>0</td>\n",
              "      <td>0</td>\n",
              "    </tr>\n",
              "  </tbody>\n",
              "</table>\n",
              "</div>"
            ],
            "text/plain": [
              "   Survived  Pclass  Sex  Age  Fare  Embarked  Fam\n",
              "0         0       3    0    2     0         0    1\n",
              "1         1       1    1    4     4         1    1\n",
              "2         1       3    1    2     0         0    0\n",
              "3         1       1    1    3     4         0    1\n",
              "4         0       3    0    3     1         0    0"
            ]
          },
          "execution_count": 21,
          "metadata": {},
          "output_type": "execute_result"
        }
      ],
      "source": [
        "# hasil setelah preprocessing\n",
        "data.head()"
      ]
    },
    {
      "cell_type": "code",
      "execution_count": null,
      "id": "79b8108a-95be-423f-929e-d7866ff085c1",
      "metadata": {
        "id": "79b8108a-95be-423f-929e-d7866ff085c1",
        "outputId": "77c594c0-93cb-432e-dc26-5123ead92f66"
      },
      "outputs": [
        {
          "name": "stdout",
          "output_type": "stream",
          "text": [
            "<class 'pandas.core.frame.DataFrame'>\n",
            "RangeIndex: 891 entries, 0 to 890\n",
            "Data columns (total 7 columns):\n",
            " #   Column    Non-Null Count  Dtype\n",
            "---  ------    --------------  -----\n",
            " 0   Survived  891 non-null    int64\n",
            " 1   Pclass    891 non-null    int64\n",
            " 2   Sex       891 non-null    int64\n",
            " 3   Age       891 non-null    int32\n",
            " 4   Fare      891 non-null    int32\n",
            " 5   Embarked  891 non-null    int64\n",
            " 6   Fam       891 non-null    int64\n",
            "dtypes: int32(2), int64(5)\n",
            "memory usage: 41.9 KB\n"
          ]
        }
      ],
      "source": [
        "data.info()"
      ]
    },
    {
      "cell_type": "markdown",
      "id": "6fbccf27-a621-4b9f-b334-95a8ebff2233",
      "metadata": {
        "tags": [],
        "id": "6fbccf27-a621-4b9f-b334-95a8ebff2233"
      },
      "source": [
        "## Algoritma Machine Learning"
      ]
    },
    {
      "cell_type": "code",
      "execution_count": null,
      "id": "c79c41d0-d1fc-46b8-b228-ef83c945af70",
      "metadata": {
        "id": "c79c41d0-d1fc-46b8-b228-ef83c945af70"
      },
      "outputs": [],
      "source": [
        "# split dataset untuk testing dan training\n",
        "X = data.loc[:, ['Pclass', 'Sex', 'Age', 'Fare', 'Embarked', 'Fam']]\n",
        "y = data.loc[:, ['Survived']]\n",
        "X_train, X_test, y_train, y_test = train_test_split(X, y, test_size =0.2, shuffle=True)"
      ]
    },
    {
      "cell_type": "markdown",
      "id": "cb4e3b31-7741-428d-bdb4-f11ffe8f3c0d",
      "metadata": {
        "tags": [],
        "id": "cb4e3b31-7741-428d-bdb4-f11ffe8f3c0d"
      },
      "source": [
        "### Statsmodels Logistic Regression"
      ]
    },
    {
      "cell_type": "code",
      "execution_count": null,
      "id": "41f6a1b8-e27d-45e4-a4bb-95d73fc03b36",
      "metadata": {
        "tags": [],
        "id": "41f6a1b8-e27d-45e4-a4bb-95d73fc03b36",
        "outputId": "91f582e7-7b52-42e3-b230-8937fc1a64e1"
      },
      "outputs": [
        {
          "name": "stdout",
          "output_type": "stream",
          "text": [
            "Optimization terminated successfully.\n",
            "         Current function value: 0.429812\n",
            "         Iterations 6\n"
          ]
        }
      ],
      "source": [
        "logreg = sm.Logit(y_train, X_train).fit()"
      ]
    },
    {
      "cell_type": "code",
      "execution_count": null,
      "id": "3da63c2f-39b3-4e7b-8539-a8fffcd966af",
      "metadata": {
        "tags": [],
        "id": "3da63c2f-39b3-4e7b-8539-a8fffcd966af",
        "outputId": "82b1a8a1-0bfb-4ae4-d611-ea0f90207e57"
      },
      "outputs": [
        {
          "data": {
            "text/html": [
              "<table class=\"simpletable\">\n",
              "<caption>Logit Regression Results</caption>\n",
              "<tr>\n",
              "  <th>Dep. Variable:</th>       <td>Survived</td>     <th>  No. Observations:  </th>  <td>   712</td>  \n",
              "</tr>\n",
              "<tr>\n",
              "  <th>Model:</th>                 <td>Logit</td>      <th>  Df Residuals:      </th>  <td>   706</td>  \n",
              "</tr>\n",
              "<tr>\n",
              "  <th>Method:</th>                 <td>MLE</td>       <th>  Df Model:          </th>  <td>     5</td>  \n",
              "</tr>\n",
              "<tr>\n",
              "  <th>Date:</th>            <td>Sat, 21 Oct 2023</td> <th>  Pseudo R-squ.:     </th>  <td>0.3510</td>  \n",
              "</tr>\n",
              "<tr>\n",
              "  <th>Time:</th>                <td>23:46:56</td>     <th>  Log-Likelihood:    </th> <td> -306.03</td> \n",
              "</tr>\n",
              "<tr>\n",
              "  <th>converged:</th>             <td>True</td>       <th>  LL-Null:           </th> <td> -471.54</td> \n",
              "</tr>\n",
              "<tr>\n",
              "  <th>Covariance Type:</th>     <td>nonrobust</td>    <th>  LLR p-value:       </th> <td>2.120e-69</td>\n",
              "</tr>\n",
              "</table>\n",
              "<table class=\"simpletable\">\n",
              "<tr>\n",
              "      <td></td>        <th>coef</th>     <th>std err</th>      <th>z</th>      <th>P>|z|</th>  <th>[0.025</th>    <th>0.975]</th>  \n",
              "</tr>\n",
              "<tr>\n",
              "  <th>Pclass</th>   <td>   -0.4822</td> <td>    0.083</td> <td>   -5.797</td> <td> 0.000</td> <td>   -0.645</td> <td>   -0.319</td>\n",
              "</tr>\n",
              "<tr>\n",
              "  <th>Sex</th>      <td>    2.7964</td> <td>    0.224</td> <td>   12.461</td> <td> 0.000</td> <td>    2.357</td> <td>    3.236</td>\n",
              "</tr>\n",
              "<tr>\n",
              "  <th>Age</th>      <td>   -0.4096</td> <td>    0.081</td> <td>   -5.080</td> <td> 0.000</td> <td>   -0.568</td> <td>   -0.252</td>\n",
              "</tr>\n",
              "<tr>\n",
              "  <th>Fare</th>     <td>    0.4117</td> <td>    0.080</td> <td>    5.136</td> <td> 0.000</td> <td>    0.255</td> <td>    0.569</td>\n",
              "</tr>\n",
              "<tr>\n",
              "  <th>Embarked</th> <td>    0.3044</td> <td>    0.159</td> <td>    1.914</td> <td> 0.056</td> <td>   -0.007</td> <td>    0.616</td>\n",
              "</tr>\n",
              "<tr>\n",
              "  <th>Fam</th>      <td>   -0.3665</td> <td>    0.089</td> <td>   -4.137</td> <td> 0.000</td> <td>   -0.540</td> <td>   -0.193</td>\n",
              "</tr>\n",
              "</table>"
            ],
            "text/latex": [
              "\\begin{center}\n",
              "\\begin{tabular}{lclc}\n",
              "\\toprule\n",
              "\\textbf{Dep. Variable:}   &     Survived     & \\textbf{  No. Observations:  } &      712    \\\\\n",
              "\\textbf{Model:}           &      Logit       & \\textbf{  Df Residuals:      } &      706    \\\\\n",
              "\\textbf{Method:}          &       MLE        & \\textbf{  Df Model:          } &        5    \\\\\n",
              "\\textbf{Date:}            & Sat, 21 Oct 2023 & \\textbf{  Pseudo R-squ.:     } &   0.3510    \\\\\n",
              "\\textbf{Time:}            &     23:46:56     & \\textbf{  Log-Likelihood:    } &   -306.03   \\\\\n",
              "\\textbf{converged:}       &       True       & \\textbf{  LL-Null:           } &   -471.54   \\\\\n",
              "\\textbf{Covariance Type:} &    nonrobust     & \\textbf{  LLR p-value:       } & 2.120e-69   \\\\\n",
              "\\bottomrule\n",
              "\\end{tabular}\n",
              "\\begin{tabular}{lcccccc}\n",
              "                  & \\textbf{coef} & \\textbf{std err} & \\textbf{z} & \\textbf{P$> |$z$|$} & \\textbf{[0.025} & \\textbf{0.975]}  \\\\\n",
              "\\midrule\n",
              "\\textbf{Pclass}   &      -0.4822  &        0.083     &    -5.797  &         0.000        &       -0.645    &       -0.319     \\\\\n",
              "\\textbf{Sex}      &       2.7964  &        0.224     &    12.461  &         0.000        &        2.357    &        3.236     \\\\\n",
              "\\textbf{Age}      &      -0.4096  &        0.081     &    -5.080  &         0.000        &       -0.568    &       -0.252     \\\\\n",
              "\\textbf{Fare}     &       0.4117  &        0.080     &     5.136  &         0.000        &        0.255    &        0.569     \\\\\n",
              "\\textbf{Embarked} &       0.3044  &        0.159     &     1.914  &         0.056        &       -0.007    &        0.616     \\\\\n",
              "\\textbf{Fam}      &      -0.3665  &        0.089     &    -4.137  &         0.000        &       -0.540    &       -0.193     \\\\\n",
              "\\bottomrule\n",
              "\\end{tabular}\n",
              "%\\caption{Logit Regression Results}\n",
              "\\end{center}"
            ],
            "text/plain": [
              "<class 'statsmodels.iolib.summary.Summary'>\n",
              "\"\"\"\n",
              "                           Logit Regression Results                           \n",
              "==============================================================================\n",
              "Dep. Variable:               Survived   No. Observations:                  712\n",
              "Model:                          Logit   Df Residuals:                      706\n",
              "Method:                           MLE   Df Model:                            5\n",
              "Date:                Sat, 21 Oct 2023   Pseudo R-squ.:                  0.3510\n",
              "Time:                        23:46:56   Log-Likelihood:                -306.03\n",
              "converged:                       True   LL-Null:                       -471.54\n",
              "Covariance Type:            nonrobust   LLR p-value:                 2.120e-69\n",
              "==============================================================================\n",
              "                 coef    std err          z      P>|z|      [0.025      0.975]\n",
              "------------------------------------------------------------------------------\n",
              "Pclass        -0.4822      0.083     -5.797      0.000      -0.645      -0.319\n",
              "Sex            2.7964      0.224     12.461      0.000       2.357       3.236\n",
              "Age           -0.4096      0.081     -5.080      0.000      -0.568      -0.252\n",
              "Fare           0.4117      0.080      5.136      0.000       0.255       0.569\n",
              "Embarked       0.3044      0.159      1.914      0.056      -0.007       0.616\n",
              "Fam           -0.3665      0.089     -4.137      0.000      -0.540      -0.193\n",
              "==============================================================================\n",
              "\"\"\""
            ]
          },
          "execution_count": 25,
          "metadata": {},
          "output_type": "execute_result"
        }
      ],
      "source": [
        "logreg.summary()"
      ]
    },
    {
      "cell_type": "markdown",
      "id": "fbb3cd3e-25a0-40cd-aabb-64e4b06dc9a6",
      "metadata": {
        "id": "fbb3cd3e-25a0-40cd-aabb-64e4b06dc9a6"
      },
      "source": [
        "Menurut p-value (`P>|z|`), semua predictor yang ada kecuali pelabuhan keberangkatan berhubungan dengan kemungkinan hidup penumpang. Hal ini bisa jadi karena variabel yang kurang penting (PassengerId, Name, Ticket) sudah dibuang pada saat preprocessing data.\n",
        "<br>\n",
        "Analisa data dan penalaran:\n",
        "- Semakin rendah kelas semakin mungkin hidup (penumpang kelas 1 memiliki akses ke fasilitas kapal terbaik)\n",
        "- Perempuan lebih mungkin hidup daripada laki-laki (saat evakuasi perempuan diutamakan)\n",
        "- Orang muda lebih banyak yang hidup (anak-anak diutamakan untuk evakuasi, orang tua lebih sulit untuk bergerak sehingga tertinggal di kapal)\n",
        "- Semakin tinggi harga tiket, semakin besar kemungkinan hidup (harga tiket yang tinggi menunjukkan fasilitas yang lebih memadai, mirip Pclass)\n",
        "- Embarked kurang akurat sebagai prediktor (pelabuhan yang dijadikan variabel bukanlah sesuatu yang linear, namun merupakan suatu kategori yang dijadikan linear untuk diproses program)\n",
        "- Semakin sedikit keluarga semakin besar kemungkinan hidup (Tidak perlu mencari/menolong satu sama lain?)"
      ]
    },
    {
      "cell_type": "markdown",
      "id": "fad72556-22a9-4772-bd49-c66d3dd852a7",
      "metadata": {
        "id": "fad72556-22a9-4772-bd49-c66d3dd852a7"
      },
      "source": [
        "### SciKit Models\n",
        "Keakuratan hasil prediksi model direpresentasikan dalam persentase, acc_sco untuk keakuratan dengan dataset test, dan acc_log untuk keakuratan dengan dataset train.\n",
        "(acc_sco dan acc_log menggunakan perbandingan true positive)"
      ]
    },
    {
      "cell_type": "code",
      "execution_count": null,
      "id": "76edd0a5-187e-44d6-961d-2aee17187b00",
      "metadata": {
        "tags": [],
        "id": "76edd0a5-187e-44d6-961d-2aee17187b00",
        "outputId": "b1c70091-aba4-4005-fbcb-c1dae29c5d11"
      },
      "outputs": [
        {
          "name": "stdout",
          "output_type": "stream",
          "text": [
            "76.54 %\n",
            "81.74 %\n"
          ]
        }
      ],
      "source": [
        "logReg = LogisticRegression()\n",
        "logReg.fit(X_train, y_train.values.ravel())\n",
        "y_pred = logReg.predict(X_test)\n",
        "acc_sco = round(accuracy_score(y_test, y_pred)*100, 2)\n",
        "acc_log = round(logReg.score(X_train, y_train)*100, 2)\n",
        "print(acc_sco,'%')\n",
        "print(acc_log,'%')"
      ]
    },
    {
      "cell_type": "code",
      "execution_count": null,
      "id": "20e49429-96de-4b43-89f6-489d642614f3",
      "metadata": {
        "tags": [],
        "id": "20e49429-96de-4b43-89f6-489d642614f3",
        "outputId": "baf618df-987d-4d58-e25d-950a3ff938aa"
      },
      "outputs": [
        {
          "data": {
            "image/png": "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",
            "text/plain": [
              "<Figure size 640x480 with 1 Axes>"
            ]
          },
          "metadata": {},
          "output_type": "display_data"
        }
      ],
      "source": [
        "# roc curve\n",
        "fp, tp, thresholds = roc_curve(y_test, y_pred)\n",
        "\n",
        "plt.plot(fp, tp, linewidth=2)\n",
        "plt.plot([0, 1], [0, 1], 'r', linewidth=4)\n",
        "plt.axis([0, 1, 0, 1])\n",
        "plt.xlabel('False Positive')\n",
        "plt.ylabel('True Positive')\n",
        "\n",
        "plt.show()"
      ]
    },
    {
      "cell_type": "code",
      "execution_count": null,
      "id": "fbe75fe6-5259-4d96-ae0f-839f7d5ac61e",
      "metadata": {
        "tags": [],
        "id": "fbe75fe6-5259-4d96-ae0f-839f7d5ac61e",
        "outputId": "7668324a-53fc-4f34-fb0f-3e97f277aaa9"
      },
      "outputs": [
        {
          "name": "stdout",
          "output_type": "stream",
          "text": [
            "74.86 %\n",
            "80.34 %\n"
          ]
        }
      ],
      "source": [
        "lda = LDA()\n",
        "lda.fit(X_train, y_train.values.ravel())\n",
        "y_pred = lda.predict(X_test)\n",
        "acc_sco = round(accuracy_score(y_test, y_pred)*100, 2)\n",
        "acc_log = round(lda.score(X_train, y_train)*100, 2)\n",
        "print(acc_sco,'%')\n",
        "print(acc_log,'%')"
      ]
    },
    {
      "cell_type": "code",
      "execution_count": null,
      "id": "5e3ba3ce-bbba-405e-8f1a-01c44d543b66",
      "metadata": {
        "tags": [],
        "id": "5e3ba3ce-bbba-405e-8f1a-01c44d543b66",
        "outputId": "41bac5da-9501-41b8-dac4-3a4a849b5999"
      },
      "outputs": [
        {
          "name": "stdout",
          "output_type": "stream",
          "text": [
            "78.21 %\n",
            "82.02 %\n"
          ]
        }
      ],
      "source": [
        "qda = QDA()\n",
        "qda.fit(X_train, y_train.values.ravel())\n",
        "y_pred = qda.predict(X_test)\n",
        "acc_sco = round(accuracy_score(y_test, y_pred)*100, 2)\n",
        "acc_log = round(qda.score(X_train, y_train)*100, 2)\n",
        "print(acc_sco,'%')\n",
        "print(acc_log,'%')"
      ]
    },
    {
      "cell_type": "code",
      "execution_count": null,
      "id": "db13c167-0479-4df3-80e8-b7d51cf790e7",
      "metadata": {
        "tags": [],
        "id": "db13c167-0479-4df3-80e8-b7d51cf790e7",
        "outputId": "3586aae4-a506-48b2-f3b5-371856c3c4db"
      },
      "outputs": [
        {
          "name": "stdout",
          "output_type": "stream",
          "text": [
            "76.54 %\n",
            "77.95 %\n"
          ]
        }
      ],
      "source": [
        "naBa = GaussianNB()\n",
        "naBa.fit(X_train, y_train.values.ravel())\n",
        "y_pred = naBa.predict(X_test)\n",
        "acc_sco = round(accuracy_score(y_test, y_pred)*100, 2)\n",
        "acc_log = round(naBa.score(X_train, y_train)*100, 2)\n",
        "print(acc_sco,'%')\n",
        "print(acc_log,'%')"
      ]
    },
    {
      "cell_type": "markdown",
      "id": "9322f072-c977-433c-9b33-8df2b9ab520c",
      "metadata": {
        "tags": [],
        "id": "9322f072-c977-433c-9b33-8df2b9ab520c"
      },
      "source": [
        "## Resampling methods\n",
        "Jd, Resampling Methods yang akan digunakan adalah:\n",
        "\n",
        "1.   *Validation Set*\n",
        "2.   *K-fold cross validation*\n",
        "\n",
        "Kita juga akan membahas 1 per 1 mengenai *Mean Squared Error* (MSE) dan *Bias-Variance Trade-Off* nya\n"
      ]
    },
    {
      "cell_type": "code",
      "execution_count": 13,
      "id": "66cd3a98-b5e5-4c4d-a51c-6f1aba5d734c",
      "metadata": {
        "id": "66cd3a98-b5e5-4c4d-a51c-6f1aba5d734c",
        "colab": {
          "base_uri": "https://localhost:8080/"
        },
        "outputId": "857b220f-bcaa-4ed1-e1be-e11321ac6a9c"
      },
      "outputs": [
        {
          "output_type": "stream",
          "name": "stdout",
          "text": [
            "<class 'pandas.core.frame.DataFrame'>\n",
            "RangeIndex: 891 entries, 0 to 890\n",
            "Data columns (total 12 columns):\n",
            " #   Column       Non-Null Count  Dtype  \n",
            "---  ------       --------------  -----  \n",
            " 0   PassengerId  891 non-null    int64  \n",
            " 1   Survived     891 non-null    int64  \n",
            " 2   Pclass       891 non-null    int64  \n",
            " 3   Name         891 non-null    object \n",
            " 4   Sex          891 non-null    object \n",
            " 5   Age          714 non-null    float64\n",
            " 6   SibSp        891 non-null    int64  \n",
            " 7   Parch        891 non-null    int64  \n",
            " 8   Ticket       891 non-null    object \n",
            " 9   Fare         891 non-null    float64\n",
            " 10  Cabin        204 non-null    object \n",
            " 11  Embarked     889 non-null    object \n",
            "dtypes: float64(2), int64(5), object(5)\n",
            "memory usage: 83.7+ KB\n"
          ]
        }
      ],
      "source": [
        "# pengecekan data\n",
        "url = 'https://raw.githubusercontent.com/Nyanderfull/ML_Titinik/main/titanic.csv?token=GHSAT0AAAAAACIXZ3SRGCGLJ737FAJ2IAFAZJVHZWA'\n",
        "data = pd.read_csv(url)\n",
        "data.info()"
      ]
    }
  ],
  "metadata": {
    "kernelspec": {
      "display_name": "Python 3 (ipykernel)",
      "language": "python",
      "name": "python3"
    },
    "language_info": {
      "codemirror_mode": {
        "name": "ipython",
        "version": 3
      },
      "file_extension": ".py",
      "mimetype": "text/x-python",
      "name": "python",
      "nbconvert_exporter": "python",
      "pygments_lexer": "ipython3",
      "version": "3.11.4"
    },
    "colab": {
      "provenance": []
    }
  },
  "nbformat": 4,
  "nbformat_minor": 5
}
>>>>>>> 34635dcf4de93ecaeed13ba4b3839172bc007d82
